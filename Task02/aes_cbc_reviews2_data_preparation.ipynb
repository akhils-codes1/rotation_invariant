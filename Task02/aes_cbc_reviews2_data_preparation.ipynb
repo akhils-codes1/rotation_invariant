{
 "cells": [
  {
   "cell_type": "code",
   "execution_count": 34,
   "id": "7fdebe96",
   "metadata": {},
   "outputs": [],
   "source": [
    "from Crypto.Random import get_random_bytes"
   ]
  },
  {
   "cell_type": "code",
   "execution_count": 35,
   "id": "ea874c42",
   "metadata": {},
   "outputs": [],
   "source": [
    "key = b'\\x07M\\x11\\xc2\\x9f\\xc3\\xf5\\x8c\\x977]UL\\xfeNi'#get_random_bytes(16)"
   ]
  },
  {
   "cell_type": "code",
   "execution_count": 36,
   "id": "51c567c8",
   "metadata": {},
   "outputs": [],
   "source": [
    "from Crypto.Cipher import AES\n",
    "from Crypto.Util.Padding import pad, unpad\n",
    "from base64 import b64encode, b64decode\n",
    "from json import dumps, loads\n",
    "\n",
    "\n",
    "cipher = AES.new(key, AES.MODE_CBC)\n",
    "def aes_encrypt(data: str, key: str) -> str:\n",
    "    cipher_bytes = cipher.encrypt(pad(data, AES.block_size))\n",
    "    init_vector = b64encode(cipher.iv).decode('utf-8')\n",
    "    cipher_text = b64encode(cipher_bytes).decode('utf-8')\n",
    "    encrypted = dumps({'init_vector':init_vector, 'ciphertext':cipher_text})\n",
    "    return encrypted\n",
    "\n",
    "def aes_decrypt(encrypted: str, key: str) -> str:\n",
    "    b64 = loads(encrypted)\n",
    "    init_vector = b64decode(b64['init_vector'])\n",
    "    cipher_text = b64decode(b64['ciphertext'])\n",
    "    cipher = AES.new(key, AES.MODE_CBC, init_vector)\n",
    "    plaintext = unpad(cipher.decrypt(cipher_text), AES.block_size)\n",
    "    return plaintext"
   ]
  },
  {
   "cell_type": "code",
   "execution_count": 37,
   "id": "eb584b44",
   "metadata": {},
   "outputs": [],
   "source": [
    "import pandas as pd"
   ]
  },
  {
   "cell_type": "code",
   "execution_count": 38,
   "id": "bd2ffa73",
   "metadata": {},
   "outputs": [],
   "source": [
    "df = pd.read_csv(\"/home/d/datewise/apr/2/reviews2.csv\")"
   ]
  },
  {
   "cell_type": "code",
   "execution_count": 39,
   "id": "7d53c764",
   "metadata": {},
   "outputs": [
    {
     "data": {
      "text/html": [
       "<div>\n",
       "<style scoped>\n",
       "    .dataframe tbody tr th:only-of-type {\n",
       "        vertical-align: middle;\n",
       "    }\n",
       "\n",
       "    .dataframe tbody tr th {\n",
       "        vertical-align: top;\n",
       "    }\n",
       "\n",
       "    .dataframe thead th {\n",
       "        text-align: right;\n",
       "    }\n",
       "</style>\n",
       "<table border=\"1\" class=\"dataframe\">\n",
       "  <thead>\n",
       "    <tr style=\"text-align: right;\">\n",
       "      <th></th>\n",
       "      <th>Unnamed: 0.1</th>\n",
       "      <th>Unnamed: 0</th>\n",
       "      <th>Text</th>\n",
       "    </tr>\n",
       "  </thead>\n",
       "  <tbody>\n",
       "    <tr>\n",
       "      <th>0</th>\n",
       "      <td>0</td>\n",
       "      <td>0</td>\n",
       "      <td>The traditional Western is synonymous with wid...</td>\n",
       "    </tr>\n",
       "    <tr>\n",
       "      <th>1</th>\n",
       "      <td>1</td>\n",
       "      <td>1</td>\n",
       "      <td>I remember watching the Disney version and wat...</td>\n",
       "    </tr>\n",
       "    <tr>\n",
       "      <th>2</th>\n",
       "      <td>2</td>\n",
       "      <td>2</td>\n",
       "      <td>Another episode from childhood that, as an adu...</td>\n",
       "    </tr>\n",
       "    <tr>\n",
       "      <th>3</th>\n",
       "      <td>3</td>\n",
       "      <td>3</td>\n",
       "      <td>Otto Preminger, completing a noir cycle at Twe...</td>\n",
       "    </tr>\n",
       "    <tr>\n",
       "      <th>4</th>\n",
       "      <td>4</td>\n",
       "      <td>4</td>\n",
       "      <td>This is a film that has it all, the dashing he...</td>\n",
       "    </tr>\n",
       "    <tr>\n",
       "      <th>...</th>\n",
       "      <td>...</td>\n",
       "      <td>...</td>\n",
       "      <td>...</td>\n",
       "    </tr>\n",
       "    <tr>\n",
       "      <th>12495</th>\n",
       "      <td>12495</td>\n",
       "      <td>12495</td>\n",
       "      <td>\"Say, Jeff,\" says Frankie (Frankie Darro), a s...</td>\n",
       "    </tr>\n",
       "    <tr>\n",
       "      <th>12496</th>\n",
       "      <td>12496</td>\n",
       "      <td>12496</td>\n",
       "      <td>The head line should say it all and to go off ...</td>\n",
       "    </tr>\n",
       "    <tr>\n",
       "      <th>12497</th>\n",
       "      <td>12497</td>\n",
       "      <td>12497</td>\n",
       "      <td>This is the worst movie I have ever seen and I...</td>\n",
       "    </tr>\n",
       "    <tr>\n",
       "      <th>12498</th>\n",
       "      <td>12498</td>\n",
       "      <td>12498</td>\n",
       "      <td>Let me state this right from the start. I do N...</td>\n",
       "    </tr>\n",
       "    <tr>\n",
       "      <th>12499</th>\n",
       "      <td>12499</td>\n",
       "      <td>12499</td>\n",
       "      <td>But not in a good way. I would consider myself...</td>\n",
       "    </tr>\n",
       "  </tbody>\n",
       "</table>\n",
       "<p>12500 rows × 3 columns</p>\n",
       "</div>"
      ],
      "text/plain": [
       "       Unnamed: 0.1  Unnamed: 0  \\\n",
       "0                 0           0   \n",
       "1                 1           1   \n",
       "2                 2           2   \n",
       "3                 3           3   \n",
       "4                 4           4   \n",
       "...             ...         ...   \n",
       "12495         12495       12495   \n",
       "12496         12496       12496   \n",
       "12497         12497       12497   \n",
       "12498         12498       12498   \n",
       "12499         12499       12499   \n",
       "\n",
       "                                                    Text  \n",
       "0      The traditional Western is synonymous with wid...  \n",
       "1      I remember watching the Disney version and wat...  \n",
       "2      Another episode from childhood that, as an adu...  \n",
       "3      Otto Preminger, completing a noir cycle at Twe...  \n",
       "4      This is a film that has it all, the dashing he...  \n",
       "...                                                  ...  \n",
       "12495  \"Say, Jeff,\" says Frankie (Frankie Darro), a s...  \n",
       "12496  The head line should say it all and to go off ...  \n",
       "12497  This is the worst movie I have ever seen and I...  \n",
       "12498  Let me state this right from the start. I do N...  \n",
       "12499  But not in a good way. I would consider myself...  \n",
       "\n",
       "[12500 rows x 3 columns]"
      ]
     },
     "execution_count": 39,
     "metadata": {},
     "output_type": "execute_result"
    }
   ],
   "source": [
    "df"
   ]
  },
  {
   "cell_type": "code",
   "execution_count": 40,
   "id": "9076ce1e",
   "metadata": {},
   "outputs": [
    {
     "data": {
      "text/plain": [
       "\"The traditional Western is synonymous with wide open spaces, clearcut morality, inevitable storylines, the optimistic faith in a hero's ability to shape his own destiny, to escape his past. These qualities reflect directly the American sense of self, the self-shaping Dream, the pushing of boundaries and frontiers, which is why the genre is still alluded to by opportunistic politicians. With some noble exceptions (eg Wellman, Hawks), the Western was healthily free of neuroses or real anxiety. Anthony Mann changed all that forever, and this first foray into the genre is one of the most violent, vivid, complex, not to say exciting Westerns ever made.<br /><br />The traditional Western depends on a hero who exemplifies rugged wholesomeness, whatever misfortunes he may have had in the past, a supporter of order and right, who dominates the film, removes its obstacles, restores harmony in effect; and an obvious villain, who often, ironically, drives the plot, forces the hero into certain actions. The difference between the two is often delineated as mythically simple as the wearing of white or black hats.<br /><br />Mann's background was in film noir, a genre antithetical to wide open spaces and optimism. Noir was neurotically charged, focusing on the dissolution of an unstable protagonist, where morality is blurred, the hero is as often the villain, trapped in an interior-labyrinth of his own making, a passive victim to destiny. Noir is about regress not progress, the interrogating and denying of modes and signs of representation, not the creation and confirmation of them.<br /><br />WINCHESTER 73 is fraught with noir anxiety. Noir is often considered a psychological genre, visualising the traumas of its protagonist's head. 73 does this too, and is all the more disturbing in that that protagonist is lovely, homespun Jimmy Stewart, initiating here his great run of difficult films with Mann and Hitchcock. In many ways, good-natured and sweet, representing right and trying to restore disruptions to the natural order, he is also a near-lunatic who will stop at nothing to achieve murderous revenge, whose relentless quest mirrors Ethan Edwards in THE SEARCHERS in its inhuman persistance, whose human instincts are frayed by this quest, and whose bursts of violence are genuinely terrifying to witness.<br /><br />As in noir, his anxiety has a psychological base - unlike most 'healthy' heroes who have outgrown (symbolically killed) their fathers, McAdam's father was killed before he could complete the process; his chasing his brother is less moral revenge than an anguished protest against stunted growth. The climactic shoot-out is not cathartic: McAdam staggers back into 'normal' society, like he's just witnessed some of the world's most ghastly horrors.<br /><br />What is most unsettling about the film is that it's not really about a hero or a villain at all, but an inanimate piece of weoponry that drives the action. 73 opens with the gun of the title privileged, on display behind a glass window, while its admirers are trapped, squashed, undifferentiated, framed, admiring it outside. Throughout the film, human power is reduced to the most arbitrary of signifiers - names change; Lin and Dutch mime shooting each other because they've no guns; quests lose their moral vitality and their practitioners veer close to madness; armies have to ask for help from Confederate strangers to fight battles; a man becomes worthy of respect only when he mentions his name; another man is revealed as a coward when he abandons his fiancee to the Indians; the gun retains its prestige, power, wholeness.<br /><br />It's not the revenge plot which drives the film, but the story of the gun; this wrenches the film out of conventional expectations, and creates an eerie, alienating, modern feel. We become so caught up in the revenge plot that when we follow, with the gun, another plot entirely, we feel slightly bewildered.<br /><br />This emphasis on the gun, symbol of potent masculinity, actually allows for a critique of that masculinity, revealing pointless elaborate rituals at the expense of society and order; brute capitalist greed; murderous Indian-traders who defraud both seller and enemy; cowards; psychotic killers; before returning to its 'true' owner, a broken hero thoroughly compromised, who has become as murderous as the murderer he seeks. The gun is never imprinted with the name of its owner, not only because there is no fixed owner, but because there is no fixed masculinity, an insight anathema to the traditional Western.<br /><br />73 brilliantly invokes Western myths - Wyatt Earp, Dodge City, the Cavalry, the Civil War, the wide open West - only to undermine them. Earp has an inflated reputation that is all name but never proven - Dodge City is no safer against outlaws than anywhere else; the Cavalry is inept (Custer has just lost Little Big Horn) and the bitter feud of the War is shown to be irrelevant. The myth of the open West is a site for a very closed, inescapable, circular plot which traps its characters, refuses to allow them shape their destiny, but allowing it to shape them.<br /><br />The old John Ford silhouette of riders on a vast mountain is reprised, but signals here not progress but repetition and circularity. But for all its deconstruction, the film is also tangibly vivid in a way few Westerns ever achieve. Mann's incisive technique intrudes his camera in crucial positions, alternating revealing distance with intense examination, making the saloon doors and stagecoaches seem thrillingly alive and lived in.\""
      ]
     },
     "execution_count": 40,
     "metadata": {},
     "output_type": "execute_result"
    }
   ],
   "source": [
    "s = df.iloc[0].Text\n",
    "s"
   ]
  },
  {
   "cell_type": "code",
   "execution_count": 41,
   "id": "987a86c0",
   "metadata": {},
   "outputs": [],
   "source": [
    "s = s.encode('utf-8')"
   ]
  },
  {
   "cell_type": "code",
   "execution_count": 42,
   "id": "1189a387",
   "metadata": {},
   "outputs": [],
   "source": [
    "res = aes_encrypt(s,key)"
   ]
  },
  {
   "cell_type": "code",
   "execution_count": 27,
   "id": "d967b4cf",
   "metadata": {},
   "outputs": [],
   "source": [
    "# aes_decrypt(res, key)"
   ]
  },
  {
   "cell_type": "code",
   "execution_count": 43,
   "id": "ff1f5d39",
   "metadata": {},
   "outputs": [],
   "source": [
    "ctxt = loads(res)['ciphertext']"
   ]
  },
  {
   "cell_type": "code",
   "execution_count": 44,
   "id": "c4e2d3a0",
   "metadata": {},
   "outputs": [],
   "source": [
    "cbytes = ctxt.encode('utf-8')"
   ]
  },
  {
   "cell_type": "code",
   "execution_count": 45,
   "id": "9d423470",
   "metadata": {},
   "outputs": [
    {
     "data": {
      "text/plain": [
       "'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'"
      ]
     },
     "execution_count": 45,
     "metadata": {},
     "output_type": "execute_result"
    }
   ],
   "source": [
    "cbytes.hex()[:2000]"
   ]
  },
  {
   "cell_type": "code",
   "execution_count": 28,
   "id": "7c63ea93",
   "metadata": {},
   "outputs": [],
   "source": [
    "def enc(plaintext):\n",
    "    s = plaintext.encode('utf-8')\n",
    "    res = aes_encrypt(s,key)\n",
    "    #print(\"init_vector = \", loads(res)['init_vector'])\n",
    "    res = loads(res)['ciphertext'].encode('utf-8').hex()[:2000]\n",
    "    return res"
   ]
  },
  {
   "cell_type": "code",
   "execution_count": 46,
   "id": "b579512b",
   "metadata": {},
   "outputs": [
    {
     "data": {
      "text/plain": [
       "'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'"
      ]
     },
     "execution_count": 46,
     "metadata": {},
     "output_type": "execute_result"
    }
   ],
   "source": [
    "enc(df.iloc[0].Text)"
   ]
  },
  {
   "cell_type": "code",
   "execution_count": 47,
   "id": "47e237cd",
   "metadata": {},
   "outputs": [],
   "source": [
    "from Crypto.Random import get_random_bytes"
   ]
  },
  {
   "cell_type": "code",
   "execution_count": 48,
   "id": "3e44a5a0",
   "metadata": {},
   "outputs": [
    {
     "data": {
      "text/plain": [
       "'e0a6cee0c5a7a9e13550f721082047661d037f5fa88ce07852909c3c7355b4573295e1794f37f125e92110042987055b8c2ae7175352fc73ede19fddadfc17ddabd2da2397c189d2efd94e1a39bcdea90266fb4c44483f1947ead363bbc39187ad05ac7db6d31f06550c13647b28afc8bc798ddea6c921ab66ff8bab60be7c80c9eda66dd1dcd528ae9e1919e702ee33f08defb24a4a63aa7e465553d64f9ff14604f81a6b26b59f468b08de314d6f325d449317e50beb008db42a37e73da1fa1cd1091f1fa47da9e8dab7eeb13c5895e3403a60f092de1fb9de4934f34e22ce4236a2105220ad4fada134c075995233e09c0083cdc89361cb787cc87c90e4d788295e4916f021369130e7f9b405120666baf4bc4020ffe913d4ae7ddfa5d82f37997366e23fe3fc5225b89ba4869a64265fa001f050bd531bc3f9f4aea68cabfaab026009a84b24f55183cf40cb616313eaf6834aab7f4eb9c9ba03af5026897c861b53e4d0c61dcc4e0418b87c033b00216a03c7918ec76cd17d54333506c3e2cf01229cda616f2a1e970c16f0b637bdd59583851e209f6882a2b9be42fae722937b3b72f69a35128651a254cd8372ffdae9b551fa48f4ab17b644642242e44108c9ac4379e1eac6c3b7c20c8f5e3573730ac7dd9e55c45c813ae66b76ebdbad12e53bd5210e30d5cf4050d6a87eb8fd34bddfe8c455cf5b8ea19531a282917fe601d5a26a34467305fa6d7614e256bfc7a9e07e43ecc18b44f36b2a502dbddad8a450d944647a98b39a4f0b673cea43d8403c3517a93dfae624e0ec5cec5070de5660e7cd343df6914fb7ab813a395843bc3d96bf983f5155815a3e5e006ca3af1867d22bf0b89cff52d0f17dd4948b90809cf9b10cbe2d40ff673a6ee713b4b96e7fde71998fba605acc372958f54201b5ff24bfe2c2995de98ed4f801762b3d7a752f1a25c159ba06ab2b31fcecd02385413c12b22abda4b9fabbbc450592ac3b782782b500e95042a26b5666556dd3be70d96257db0ea194aaf17a501329ce2e5340582353a9b3fa810a8a0cc32a8cb1b64bd86b22c483398df8e9e4102b48df41eea77cba6d7517b78dc358d5b7e7c8afe088e51d774d670725ee3dbe8bce43559aa1d05de05e1f14914185ad04dbf2203f12a6124c2c5627c2256b37ef195df2813ce36d5c022fcef6bcc5d4c96e8aa769beaec371e01573d0787d3d07a430d3504302d84ee2269eafe2ef202ceee261d62f067ef8b2ded205c9d10e6e4c542ae58888407fc90f84ed494e5d1a7009ca478fccfc07e9fab5c56c37392069b5173c6aefcd58ad93de736fc1c8397a319b0f5d2db73c81ba68d1baf9ae76e92b34b592f61792cb2ec7352f53cf2d693a6f0fd234f48b0fe00b27b4a0ce0bb6a6fda358e9009174f1cc6d9b2d43bd2bdb540'"
      ]
     },
     "execution_count": 48,
     "metadata": {},
     "output_type": "execute_result"
    }
   ],
   "source": [
    "str(get_random_bytes(1013).hex()[:2025])"
   ]
  },
  {
   "cell_type": "code",
   "execution_count": 49,
   "id": "4261df59",
   "metadata": {},
   "outputs": [],
   "source": [
    "n = df.shape[0]"
   ]
  },
  {
   "cell_type": "code",
   "execution_count": 50,
   "id": "8f35afbd",
   "metadata": {},
   "outputs": [
    {
     "data": {
      "text/plain": [
       "12500"
      ]
     },
     "execution_count": 50,
     "metadata": {},
     "output_type": "execute_result"
    }
   ],
   "source": [
    "n"
   ]
  },
  {
   "cell_type": "code",
   "execution_count": 54,
   "id": "57770592",
   "metadata": {},
   "outputs": [],
   "source": [
    "aes_res = []"
   ]
  },
  {
   "cell_type": "code",
   "execution_count": 55,
   "id": "04c04714",
   "metadata": {},
   "outputs": [],
   "source": [
    "for i in range(n):\n",
    "    text = df.iloc[i].Text\n",
    "    aes_res.append(enc(text))"
   ]
  },
  {
   "cell_type": "code",
   "execution_count": 56,
   "id": "5134085e",
   "metadata": {},
   "outputs": [
    {
     "data": {
      "text/plain": [
       "12500"
      ]
     },
     "execution_count": 56,
     "metadata": {},
     "output_type": "execute_result"
    }
   ],
   "source": [
    "len(aes_res)"
   ]
  },
  {
   "cell_type": "code",
   "execution_count": 57,
   "id": "14f18a27",
   "metadata": {},
   "outputs": [],
   "source": [
    "rand_files = []"
   ]
  },
  {
   "cell_type": "code",
   "execution_count": 58,
   "id": "05d8e4da",
   "metadata": {},
   "outputs": [],
   "source": [
    "for i in range(n):\n",
    "    rand_files.append(str(get_random_bytes(1013).hex()[:2000]))"
   ]
  },
  {
   "cell_type": "code",
   "execution_count": 59,
   "id": "42ff050d",
   "metadata": {},
   "outputs": [
    {
     "data": {
      "text/plain": [
       "12500"
      ]
     },
     "execution_count": 59,
     "metadata": {},
     "output_type": "execute_result"
    }
   ],
   "source": [
    "len(rand_files)"
   ]
  },
  {
   "cell_type": "code",
   "execution_count": 60,
   "id": "496b3ee4",
   "metadata": {},
   "outputs": [],
   "source": [
    "data = []\n",
    "for i in range(n):\n",
    "    temp = []\n",
    "    temp.append(aes_res[i])\n",
    "    temp.append(1)\n",
    "    data.append(temp)\n",
    "\n",
    "for i in range(n):\n",
    "    temp = []\n",
    "    temp.append(rand_files[i])\n",
    "    temp.append(0)\n",
    "    data.append(temp)"
   ]
  },
  {
   "cell_type": "code",
   "execution_count": 61,
   "id": "ad3cb293",
   "metadata": {},
   "outputs": [
    {
     "data": {
      "text/plain": [
       "25000"
      ]
     },
     "execution_count": 61,
     "metadata": {},
     "output_type": "execute_result"
    }
   ],
   "source": [
    "len(data)"
   ]
  },
  {
   "cell_type": "code",
   "execution_count": 62,
   "id": "3c2b06c2",
   "metadata": {},
   "outputs": [],
   "source": [
    "newdf = pd.DataFrame(data, columns = ['Text', 'class'])"
   ]
  },
  {
   "cell_type": "code",
   "execution_count": 63,
   "id": "de32fe31",
   "metadata": {},
   "outputs": [],
   "source": [
    "ndf = newdf.sample(frac=1)"
   ]
  },
  {
   "cell_type": "code",
   "execution_count": 64,
   "id": "ac84d352",
   "metadata": {},
   "outputs": [],
   "source": [
    "ndf.reset_index(drop=True, inplace=True)"
   ]
  },
  {
   "cell_type": "code",
   "execution_count": 65,
   "id": "14677430",
   "metadata": {},
   "outputs": [
    {
     "data": {
      "text/html": [
       "<div>\n",
       "<style scoped>\n",
       "    .dataframe tbody tr th:only-of-type {\n",
       "        vertical-align: middle;\n",
       "    }\n",
       "\n",
       "    .dataframe tbody tr th {\n",
       "        vertical-align: top;\n",
       "    }\n",
       "\n",
       "    .dataframe thead th {\n",
       "        text-align: right;\n",
       "    }\n",
       "</style>\n",
       "<table border=\"1\" class=\"dataframe\">\n",
       "  <thead>\n",
       "    <tr style=\"text-align: right;\">\n",
       "      <th></th>\n",
       "      <th>Text</th>\n",
       "      <th>class</th>\n",
       "    </tr>\n",
       "  </thead>\n",
       "  <tbody>\n",
       "    <tr>\n",
       "      <th>0</th>\n",
       "      <td>493bc4b56b5dbd73a345804d486d2db19ae6d5f14732c1...</td>\n",
       "      <td>0</td>\n",
       "    </tr>\n",
       "    <tr>\n",
       "      <th>1</th>\n",
       "      <td>354e6d424634464b7779384d644a54546662335a747066...</td>\n",
       "      <td>1</td>\n",
       "    </tr>\n",
       "    <tr>\n",
       "      <th>2</th>\n",
       "      <td>64364d523352352b71596e30355673353364364a444268...</td>\n",
       "      <td>1</td>\n",
       "    </tr>\n",
       "    <tr>\n",
       "      <th>3</th>\n",
       "      <td>7c47862dea1fa68dfbefc0712c81ddc5da8832049cdd5d...</td>\n",
       "      <td>0</td>\n",
       "    </tr>\n",
       "    <tr>\n",
       "      <th>4</th>\n",
       "      <td>e2ec584bcec81ef92fa9c7486eb65bde9de8644619e8b7...</td>\n",
       "      <td>0</td>\n",
       "    </tr>\n",
       "    <tr>\n",
       "      <th>...</th>\n",
       "      <td>...</td>\n",
       "      <td>...</td>\n",
       "    </tr>\n",
       "    <tr>\n",
       "      <th>24995</th>\n",
       "      <td>44455834317842704c3751647838783557383968547870...</td>\n",
       "      <td>1</td>\n",
       "    </tr>\n",
       "    <tr>\n",
       "      <th>24996</th>\n",
       "      <td>487574716a37654e5833334376354f4d646d614d636753...</td>\n",
       "      <td>1</td>\n",
       "    </tr>\n",
       "    <tr>\n",
       "      <th>24997</th>\n",
       "      <td>785964763150312f66675971743350494558626750726d...</td>\n",
       "      <td>1</td>\n",
       "    </tr>\n",
       "    <tr>\n",
       "      <th>24998</th>\n",
       "      <td>612f794d793172487741526d5763435a2b53426d44452b...</td>\n",
       "      <td>1</td>\n",
       "    </tr>\n",
       "    <tr>\n",
       "      <th>24999</th>\n",
       "      <td>0944830167b6e450746a753d8fd5ee3b0fd56e53b14b8d...</td>\n",
       "      <td>0</td>\n",
       "    </tr>\n",
       "  </tbody>\n",
       "</table>\n",
       "<p>25000 rows × 2 columns</p>\n",
       "</div>"
      ],
      "text/plain": [
       "                                                    Text  class\n",
       "0      493bc4b56b5dbd73a345804d486d2db19ae6d5f14732c1...      0\n",
       "1      354e6d424634464b7779384d644a54546662335a747066...      1\n",
       "2      64364d523352352b71596e30355673353364364a444268...      1\n",
       "3      7c47862dea1fa68dfbefc0712c81ddc5da8832049cdd5d...      0\n",
       "4      e2ec584bcec81ef92fa9c7486eb65bde9de8644619e8b7...      0\n",
       "...                                                  ...    ...\n",
       "24995  44455834317842704c3751647838783557383968547870...      1\n",
       "24996  487574716a37654e5833334376354f4d646d614d636753...      1\n",
       "24997  785964763150312f66675971743350494558626750726d...      1\n",
       "24998  612f794d793172487741526d5763435a2b53426d44452b...      1\n",
       "24999  0944830167b6e450746a753d8fd5ee3b0fd56e53b14b8d...      0\n",
       "\n",
       "[25000 rows x 2 columns]"
      ]
     },
     "execution_count": 65,
     "metadata": {},
     "output_type": "execute_result"
    }
   ],
   "source": [
    "ndf"
   ]
  },
  {
   "cell_type": "code",
   "execution_count": 66,
   "id": "a9493ab6",
   "metadata": {},
   "outputs": [],
   "source": [
    "ndf.to_csv(\"aes_cbc_reviews2.csv\")"
   ]
  }
 ],
 "metadata": {
  "kernelspec": {
   "display_name": "Python 3 (ipykernel)",
   "language": "python",
   "name": "python3"
  },
  "language_info": {
   "codemirror_mode": {
    "name": "ipython",
    "version": 3
   },
   "file_extension": ".py",
   "mimetype": "text/x-python",
   "name": "python",
   "nbconvert_exporter": "python",
   "pygments_lexer": "ipython3",
   "version": "3.9.13"
  }
 },
 "nbformat": 4,
 "nbformat_minor": 5
}
