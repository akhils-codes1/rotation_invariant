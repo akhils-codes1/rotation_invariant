{
 "cells": [
  {
   "cell_type": "code",
   "execution_count": 1,
   "id": "39ff99a1",
   "metadata": {},
   "outputs": [],
   "source": [
    "import pandas as pd"
   ]
  },
  {
   "cell_type": "code",
   "execution_count": 49,
   "id": "35064d79",
   "metadata": {},
   "outputs": [],
   "source": [
    "df = pd.read_csv(\"/home/d/Downloads/TrainingData.csv\")"
   ]
  },
  {
   "cell_type": "code",
   "execution_count": 50,
   "id": "629ca6d3",
   "metadata": {},
   "outputs": [
    {
     "data": {
      "text/html": [
       "<div>\n",
       "<style scoped>\n",
       "    .dataframe tbody tr th:only-of-type {\n",
       "        vertical-align: middle;\n",
       "    }\n",
       "\n",
       "    .dataframe tbody tr th {\n",
       "        vertical-align: top;\n",
       "    }\n",
       "\n",
       "    .dataframe thead th {\n",
       "        text-align: right;\n",
       "    }\n",
       "</style>\n",
       "<table border=\"1\" class=\"dataframe\">\n",
       "  <thead>\n",
       "    <tr style=\"text-align: right;\">\n",
       "      <th></th>\n",
       "      <th>CID</th>\n",
       "      <th>Text</th>\n",
       "      <th>class</th>\n",
       "    </tr>\n",
       "  </thead>\n",
       "  <tbody>\n",
       "    <tr>\n",
       "      <th>0</th>\n",
       "      <td>0</td>\n",
       "      <td>3fa9e6ac4a36c66b8ca3887914c6c75b08dad9095f1d7a...</td>\n",
       "      <td>3</td>\n",
       "    </tr>\n",
       "    <tr>\n",
       "      <th>1</th>\n",
       "      <td>1</td>\n",
       "      <td>21b7f56f644f02d51ae82c9d50f69fad686319657712d4...</td>\n",
       "      <td>2</td>\n",
       "    </tr>\n",
       "    <tr>\n",
       "      <th>2</th>\n",
       "      <td>2</td>\n",
       "      <td>74203af11b8bbb1d31ac34e85f3076588fbbf2dcf1a4f7...</td>\n",
       "      <td>3</td>\n",
       "    </tr>\n",
       "    <tr>\n",
       "      <th>3</th>\n",
       "      <td>3</td>\n",
       "      <td>6b412e99f1dea02c124a90b5f2cf29496cb84f2b2b33a0...</td>\n",
       "      <td>1</td>\n",
       "    </tr>\n",
       "    <tr>\n",
       "      <th>4</th>\n",
       "      <td>4</td>\n",
       "      <td>5b84fb6fc7710b0e499394d9b406950d2436a118e2d867...</td>\n",
       "      <td>1</td>\n",
       "    </tr>\n",
       "  </tbody>\n",
       "</table>\n",
       "</div>"
      ],
      "text/plain": [
       "   CID                                               Text  class\n",
       "0    0  3fa9e6ac4a36c66b8ca3887914c6c75b08dad9095f1d7a...      3\n",
       "1    1  21b7f56f644f02d51ae82c9d50f69fad686319657712d4...      2\n",
       "2    2  74203af11b8bbb1d31ac34e85f3076588fbbf2dcf1a4f7...      3\n",
       "3    3  6b412e99f1dea02c124a90b5f2cf29496cb84f2b2b33a0...      1\n",
       "4    4  5b84fb6fc7710b0e499394d9b406950d2436a118e2d867...      1"
      ]
     },
     "execution_count": 50,
     "metadata": {},
     "output_type": "execute_result"
    }
   ],
   "source": [
    "df.head()"
   ]
  },
  {
   "cell_type": "code",
   "execution_count": 51,
   "id": "ba4da8f6",
   "metadata": {},
   "outputs": [],
   "source": [
    "df0 = df[df['class']==0]"
   ]
  },
  {
   "cell_type": "code",
   "execution_count": 52,
   "id": "7106b26f",
   "metadata": {},
   "outputs": [],
   "source": [
    "df1 = df[df['class']==1]"
   ]
  },
  {
   "cell_type": "code",
   "execution_count": 53,
   "id": "393858b9",
   "metadata": {},
   "outputs": [],
   "source": [
    "newdf = pd.concat([df0, df1])"
   ]
  },
  {
   "cell_type": "code",
   "execution_count": 54,
   "id": "186423bb",
   "metadata": {},
   "outputs": [],
   "source": [
    "ndf =  newdf.drop(['CID'], axis=1)"
   ]
  },
  {
   "cell_type": "code",
   "execution_count": 55,
   "id": "7188c86d",
   "metadata": {},
   "outputs": [],
   "source": [
    "ndf.reset_index(drop=True, inplace = True)"
   ]
  },
  {
   "cell_type": "code",
   "execution_count": 56,
   "id": "d29eef69",
   "metadata": {},
   "outputs": [],
   "source": [
    "ndf = ndf.sample(frac=1)"
   ]
  },
  {
   "cell_type": "code",
   "execution_count": 57,
   "id": "b00fe57e",
   "metadata": {},
   "outputs": [],
   "source": [
    "ndf.reset_index(drop=True, inplace=True)"
   ]
  },
  {
   "cell_type": "code",
   "execution_count": 58,
   "id": "304111a6",
   "metadata": {},
   "outputs": [
    {
     "data": {
      "text/html": [
       "<div>\n",
       "<style scoped>\n",
       "    .dataframe tbody tr th:only-of-type {\n",
       "        vertical-align: middle;\n",
       "    }\n",
       "\n",
       "    .dataframe tbody tr th {\n",
       "        vertical-align: top;\n",
       "    }\n",
       "\n",
       "    .dataframe thead th {\n",
       "        text-align: right;\n",
       "    }\n",
       "</style>\n",
       "<table border=\"1\" class=\"dataframe\">\n",
       "  <thead>\n",
       "    <tr style=\"text-align: right;\">\n",
       "      <th></th>\n",
       "      <th>Text</th>\n",
       "      <th>class</th>\n",
       "    </tr>\n",
       "  </thead>\n",
       "  <tbody>\n",
       "    <tr>\n",
       "      <th>0</th>\n",
       "      <td>bae78ef328540126dfb06000fb297f514b31dc937532d6...</td>\n",
       "      <td>0</td>\n",
       "    </tr>\n",
       "    <tr>\n",
       "      <th>1</th>\n",
       "      <td>04d31e54ce191deae429422c0dfe363770b7d8cea67331...</td>\n",
       "      <td>0</td>\n",
       "    </tr>\n",
       "    <tr>\n",
       "      <th>2</th>\n",
       "      <td>134963b574b1bda2e3e251eab8ecb96a32cd31c6a39832...</td>\n",
       "      <td>0</td>\n",
       "    </tr>\n",
       "    <tr>\n",
       "      <th>3</th>\n",
       "      <td>3f17283931ab72877c0cf17249fc5fd8831b226da42bc3...</td>\n",
       "      <td>1</td>\n",
       "    </tr>\n",
       "    <tr>\n",
       "      <th>4</th>\n",
       "      <td>25516dce64c0a1f10a261c314fcc22dbd0664753a013b4...</td>\n",
       "      <td>1</td>\n",
       "    </tr>\n",
       "    <tr>\n",
       "      <th>...</th>\n",
       "      <td>...</td>\n",
       "      <td>...</td>\n",
       "    </tr>\n",
       "    <tr>\n",
       "      <th>40063</th>\n",
       "      <td>09c7656ff81cf4f4171406a256e4e7e0ef1f48eb5f830d...</td>\n",
       "      <td>0</td>\n",
       "    </tr>\n",
       "    <tr>\n",
       "      <th>40064</th>\n",
       "      <td>42bcc8dfe465851d2e646b216e6d48ccc78e650789498e...</td>\n",
       "      <td>1</td>\n",
       "    </tr>\n",
       "    <tr>\n",
       "      <th>40065</th>\n",
       "      <td>699c17cda642ec6fafcfa1438a9fe75fbc2e49fd40f2dc...</td>\n",
       "      <td>0</td>\n",
       "    </tr>\n",
       "    <tr>\n",
       "      <th>40066</th>\n",
       "      <td>841f264b1e1b4c176ff5ff13376b23ca55cae20e54f2bb...</td>\n",
       "      <td>0</td>\n",
       "    </tr>\n",
       "    <tr>\n",
       "      <th>40067</th>\n",
       "      <td>fa179a5816aa0c87a0afcfdea71797e1af9da7186ce80f...</td>\n",
       "      <td>1</td>\n",
       "    </tr>\n",
       "  </tbody>\n",
       "</table>\n",
       "<p>40068 rows × 2 columns</p>\n",
       "</div>"
      ],
      "text/plain": [
       "                                                    Text  class\n",
       "0      bae78ef328540126dfb06000fb297f514b31dc937532d6...      0\n",
       "1      04d31e54ce191deae429422c0dfe363770b7d8cea67331...      0\n",
       "2      134963b574b1bda2e3e251eab8ecb96a32cd31c6a39832...      0\n",
       "3      3f17283931ab72877c0cf17249fc5fd8831b226da42bc3...      1\n",
       "4      25516dce64c0a1f10a261c314fcc22dbd0664753a013b4...      1\n",
       "...                                                  ...    ...\n",
       "40063  09c7656ff81cf4f4171406a256e4e7e0ef1f48eb5f830d...      0\n",
       "40064  42bcc8dfe465851d2e646b216e6d48ccc78e650789498e...      1\n",
       "40065  699c17cda642ec6fafcfa1438a9fe75fbc2e49fd40f2dc...      0\n",
       "40066  841f264b1e1b4c176ff5ff13376b23ca55cae20e54f2bb...      0\n",
       "40067  fa179a5816aa0c87a0afcfdea71797e1af9da7186ce80f...      1\n",
       "\n",
       "[40068 rows x 2 columns]"
      ]
     },
     "execution_count": 58,
     "metadata": {},
     "output_type": "execute_result"
    }
   ],
   "source": [
    "ndf"
   ]
  },
  {
   "cell_type": "code",
   "execution_count": 59,
   "id": "24363849",
   "metadata": {},
   "outputs": [],
   "source": [
    "ndf.to_csv(\"des_cbc_TrainingData.csv\")"
   ]
  }
 ],
 "metadata": {
  "kernelspec": {
   "display_name": "Python 3 (ipykernel)",
   "language": "python",
   "name": "python3"
  },
  "language_info": {
   "codemirror_mode": {
    "name": "ipython",
    "version": 3
   },
   "file_extension": ".py",
   "mimetype": "text/x-python",
   "name": "python",
   "nbconvert_exporter": "python",
   "pygments_lexer": "ipython3",
   "version": "3.9.13"
  }
 },
 "nbformat": 4,
 "nbformat_minor": 5
}
