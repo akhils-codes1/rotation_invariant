{
 "cells": [
  {
   "cell_type": "code",
   "execution_count": 3,
   "id": "7fdebe96",
   "metadata": {},
   "outputs": [],
   "source": [
    "key = b'hello123'"
   ]
  },
  {
   "cell_type": "code",
   "execution_count": 4,
   "id": "428db167",
   "metadata": {},
   "outputs": [],
   "source": [
    "from Crypto.Cipher import DES\n",
    "from Crypto.Util.Padding import pad, unpad\n",
    "from base64 import b64encode, b64decode\n",
    "from json import dumps, loads\n",
    "\n",
    "\n",
    "cipher = DES.new(key, DES.MODE_CBC)\n",
    "def des_encrypt(data: str, key: str) -> str:\n",
    "    cipher_bytes = cipher.encrypt(pad(data, DES.block_size))\n",
    "    init_vector = b64encode(cipher.iv).decode('utf-8')\n",
    "    cipher_text = b64encode(cipher_bytes).decode('utf-8')\n",
    "    encrypted = dumps({'init_vector':init_vector, 'ciphertext':cipher_text})\n",
    "    return encrypted\n",
    "\n",
    "def des_decrypt(encrypted: str, key: str) -> str:\n",
    "    b64 = loads(encrypted)\n",
    "    init_vector = b64decode(b64['init_vector'])\n",
    "    cipher_text = b64decode(b64['ciphertext'])\n",
    "    cipher = DES.new(key, DES.MODE_CBC, init_vector)\n",
    "    plaintext = unpad(cipher.decrypt(cipher_text), DES.block_size)\n",
    "    return plaintext"
   ]
  },
  {
   "cell_type": "code",
   "execution_count": 5,
   "id": "eb584b44",
   "metadata": {},
   "outputs": [],
   "source": [
    "import pandas as pd"
   ]
  },
  {
   "cell_type": "code",
   "execution_count": 6,
   "id": "bd2ffa73",
   "metadata": {},
   "outputs": [],
   "source": [
    "df = pd.read_csv(\"/home/d/datewise/apr/2/reviews2.csv\")"
   ]
  },
  {
   "cell_type": "code",
   "execution_count": 7,
   "id": "f598c8af",
   "metadata": {},
   "outputs": [
    {
     "data": {
      "text/html": [
       "<div>\n",
       "<style scoped>\n",
       "    .dataframe tbody tr th:only-of-type {\n",
       "        vertical-align: middle;\n",
       "    }\n",
       "\n",
       "    .dataframe tbody tr th {\n",
       "        vertical-align: top;\n",
       "    }\n",
       "\n",
       "    .dataframe thead th {\n",
       "        text-align: right;\n",
       "    }\n",
       "</style>\n",
       "<table border=\"1\" class=\"dataframe\">\n",
       "  <thead>\n",
       "    <tr style=\"text-align: right;\">\n",
       "      <th></th>\n",
       "      <th>Unnamed: 0.1</th>\n",
       "      <th>Unnamed: 0</th>\n",
       "      <th>Text</th>\n",
       "    </tr>\n",
       "  </thead>\n",
       "  <tbody>\n",
       "    <tr>\n",
       "      <th>0</th>\n",
       "      <td>0</td>\n",
       "      <td>0</td>\n",
       "      <td>The traditional Western is synonymous with wid...</td>\n",
       "    </tr>\n",
       "    <tr>\n",
       "      <th>1</th>\n",
       "      <td>1</td>\n",
       "      <td>1</td>\n",
       "      <td>I remember watching the Disney version and wat...</td>\n",
       "    </tr>\n",
       "    <tr>\n",
       "      <th>2</th>\n",
       "      <td>2</td>\n",
       "      <td>2</td>\n",
       "      <td>Another episode from childhood that, as an adu...</td>\n",
       "    </tr>\n",
       "    <tr>\n",
       "      <th>3</th>\n",
       "      <td>3</td>\n",
       "      <td>3</td>\n",
       "      <td>Otto Preminger, completing a noir cycle at Twe...</td>\n",
       "    </tr>\n",
       "    <tr>\n",
       "      <th>4</th>\n",
       "      <td>4</td>\n",
       "      <td>4</td>\n",
       "      <td>This is a film that has it all, the dashing he...</td>\n",
       "    </tr>\n",
       "    <tr>\n",
       "      <th>...</th>\n",
       "      <td>...</td>\n",
       "      <td>...</td>\n",
       "      <td>...</td>\n",
       "    </tr>\n",
       "    <tr>\n",
       "      <th>12495</th>\n",
       "      <td>12495</td>\n",
       "      <td>12495</td>\n",
       "      <td>\"Say, Jeff,\" says Frankie (Frankie Darro), a s...</td>\n",
       "    </tr>\n",
       "    <tr>\n",
       "      <th>12496</th>\n",
       "      <td>12496</td>\n",
       "      <td>12496</td>\n",
       "      <td>The head line should say it all and to go off ...</td>\n",
       "    </tr>\n",
       "    <tr>\n",
       "      <th>12497</th>\n",
       "      <td>12497</td>\n",
       "      <td>12497</td>\n",
       "      <td>This is the worst movie I have ever seen and I...</td>\n",
       "    </tr>\n",
       "    <tr>\n",
       "      <th>12498</th>\n",
       "      <td>12498</td>\n",
       "      <td>12498</td>\n",
       "      <td>Let me state this right from the start. I do N...</td>\n",
       "    </tr>\n",
       "    <tr>\n",
       "      <th>12499</th>\n",
       "      <td>12499</td>\n",
       "      <td>12499</td>\n",
       "      <td>But not in a good way. I would consider myself...</td>\n",
       "    </tr>\n",
       "  </tbody>\n",
       "</table>\n",
       "<p>12500 rows × 3 columns</p>\n",
       "</div>"
      ],
      "text/plain": [
       "       Unnamed: 0.1  Unnamed: 0  \\\n",
       "0                 0           0   \n",
       "1                 1           1   \n",
       "2                 2           2   \n",
       "3                 3           3   \n",
       "4                 4           4   \n",
       "...             ...         ...   \n",
       "12495         12495       12495   \n",
       "12496         12496       12496   \n",
       "12497         12497       12497   \n",
       "12498         12498       12498   \n",
       "12499         12499       12499   \n",
       "\n",
       "                                                    Text  \n",
       "0      The traditional Western is synonymous with wid...  \n",
       "1      I remember watching the Disney version and wat...  \n",
       "2      Another episode from childhood that, as an adu...  \n",
       "3      Otto Preminger, completing a noir cycle at Twe...  \n",
       "4      This is a film that has it all, the dashing he...  \n",
       "...                                                  ...  \n",
       "12495  \"Say, Jeff,\" says Frankie (Frankie Darro), a s...  \n",
       "12496  The head line should say it all and to go off ...  \n",
       "12497  This is the worst movie I have ever seen and I...  \n",
       "12498  Let me state this right from the start. I do N...  \n",
       "12499  But not in a good way. I would consider myself...  \n",
       "\n",
       "[12500 rows x 3 columns]"
      ]
     },
     "execution_count": 7,
     "metadata": {},
     "output_type": "execute_result"
    }
   ],
   "source": [
    "df"
   ]
  },
  {
   "cell_type": "code",
   "execution_count": 9,
   "id": "9076ce1e",
   "metadata": {},
   "outputs": [
    {
     "data": {
      "text/plain": [
       "\"The traditional Western is synonymous with wide open spaces, clearcut morality, inevitable storylines, the optimistic faith in a hero's ability to shape his own destiny, to escape his past. These qualities reflect directly the American sense of self, the self-shaping Dream, the pushing of boundaries and frontiers, which is why the genre is still alluded to by opportunistic politicians. With some noble exceptions (eg Wellman, Hawks), the Western was healthily free of neuroses or real anxiety. Anthony Mann changed all that forever, and this first foray into the genre is one of the most violent, vivid, complex, not to say exciting Westerns ever made.<br /><br />The traditional Western depends on a hero who exemplifies rugged wholesomeness, whatever misfortunes he may have had in the past, a supporter of order and right, who dominates the film, removes its obstacles, restores harmony in effect; and an obvious villain, who often, ironically, drives the plot, forces the hero into certain actions. The difference between the two is often delineated as mythically simple as the wearing of white or black hats.<br /><br />Mann's background was in film noir, a genre antithetical to wide open spaces and optimism. Noir was neurotically charged, focusing on the dissolution of an unstable protagonist, where morality is blurred, the hero is as often the villain, trapped in an interior-labyrinth of his own making, a passive victim to destiny. Noir is about regress not progress, the interrogating and denying of modes and signs of representation, not the creation and confirmation of them.<br /><br />WINCHESTER 73 is fraught with noir anxiety. Noir is often considered a psychological genre, visualising the traumas of its protagonist's head. 73 does this too, and is all the more disturbing in that that protagonist is lovely, homespun Jimmy Stewart, initiating here his great run of difficult films with Mann and Hitchcock. In many ways, good-natured and sweet, representing right and trying to restore disruptions to the natural order, he is also a near-lunatic who will stop at nothing to achieve murderous revenge, whose relentless quest mirrors Ethan Edwards in THE SEARCHERS in its inhuman persistance, whose human instincts are frayed by this quest, and whose bursts of violence are genuinely terrifying to witness.<br /><br />As in noir, his anxiety has a psychological base - unlike most 'healthy' heroes who have outgrown (symbolically killed) their fathers, McAdam's father was killed before he could complete the process; his chasing his brother is less moral revenge than an anguished protest against stunted growth. The climactic shoot-out is not cathartic: McAdam staggers back into 'normal' society, like he's just witnessed some of the world's most ghastly horrors.<br /><br />What is most unsettling about the film is that it's not really about a hero or a villain at all, but an inanimate piece of weoponry that drives the action. 73 opens with the gun of the title privileged, on display behind a glass window, while its admirers are trapped, squashed, undifferentiated, framed, admiring it outside. Throughout the film, human power is reduced to the most arbitrary of signifiers - names change; Lin and Dutch mime shooting each other because they've no guns; quests lose their moral vitality and their practitioners veer close to madness; armies have to ask for help from Confederate strangers to fight battles; a man becomes worthy of respect only when he mentions his name; another man is revealed as a coward when he abandons his fiancee to the Indians; the gun retains its prestige, power, wholeness.<br /><br />It's not the revenge plot which drives the film, but the story of the gun; this wrenches the film out of conventional expectations, and creates an eerie, alienating, modern feel. We become so caught up in the revenge plot that when we follow, with the gun, another plot entirely, we feel slightly bewildered.<br /><br />This emphasis on the gun, symbol of potent masculinity, actually allows for a critique of that masculinity, revealing pointless elaborate rituals at the expense of society and order; brute capitalist greed; murderous Indian-traders who defraud both seller and enemy; cowards; psychotic killers; before returning to its 'true' owner, a broken hero thoroughly compromised, who has become as murderous as the murderer he seeks. The gun is never imprinted with the name of its owner, not only because there is no fixed owner, but because there is no fixed masculinity, an insight anathema to the traditional Western.<br /><br />73 brilliantly invokes Western myths - Wyatt Earp, Dodge City, the Cavalry, the Civil War, the wide open West - only to undermine them. Earp has an inflated reputation that is all name but never proven - Dodge City is no safer against outlaws than anywhere else; the Cavalry is inept (Custer has just lost Little Big Horn) and the bitter feud of the War is shown to be irrelevant. The myth of the open West is a site for a very closed, inescapable, circular plot which traps its characters, refuses to allow them shape their destiny, but allowing it to shape them.<br /><br />The old John Ford silhouette of riders on a vast mountain is reprised, but signals here not progress but repetition and circularity. But for all its deconstruction, the film is also tangibly vivid in a way few Westerns ever achieve. Mann's incisive technique intrudes his camera in crucial positions, alternating revealing distance with intense examination, making the saloon doors and stagecoaches seem thrillingly alive and lived in.\""
      ]
     },
     "execution_count": 9,
     "metadata": {},
     "output_type": "execute_result"
    }
   ],
   "source": [
    "s = df.iloc[0].Text\n",
    "s"
   ]
  },
  {
   "cell_type": "code",
   "execution_count": 10,
   "id": "987a86c0",
   "metadata": {},
   "outputs": [],
   "source": [
    "s = s.encode('utf-8')"
   ]
  },
  {
   "cell_type": "code",
   "execution_count": 11,
   "id": "1189a387",
   "metadata": {},
   "outputs": [],
   "source": [
    "res = des_encrypt(s,key)"
   ]
  },
  {
   "cell_type": "code",
   "execution_count": 12,
   "id": "ff1f5d39",
   "metadata": {},
   "outputs": [],
   "source": [
    "ctxt = loads(res)['ciphertext']"
   ]
  },
  {
   "cell_type": "code",
   "execution_count": 13,
   "id": "c4e2d3a0",
   "metadata": {},
   "outputs": [],
   "source": [
    "cbytes = ctxt.encode('utf-8')"
   ]
  },
  {
   "cell_type": "code",
   "execution_count": 14,
   "id": "9d423470",
   "metadata": {},
   "outputs": [
    {
     "data": {
      "text/plain": [
       "'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'"
      ]
     },
     "execution_count": 14,
     "metadata": {},
     "output_type": "execute_result"
    }
   ],
   "source": [
    "cbytes.hex()[:2000]"
   ]
  },
  {
   "cell_type": "code",
   "execution_count": 15,
   "id": "7c63ea93",
   "metadata": {},
   "outputs": [],
   "source": [
    "def enc(plaintext):\n",
    "    s = plaintext.encode('utf-8')\n",
    "    res = des_encrypt(s,key)\n",
    "    #print(\"init_vector = \", loads(res)['init_vector'])\n",
    "    res = loads(res)['ciphertext'].encode('utf-8').hex()[:2000]\n",
    "    return res"
   ]
  },
  {
   "cell_type": "code",
   "execution_count": 17,
   "id": "b579512b",
   "metadata": {},
   "outputs": [
    {
     "data": {
      "text/plain": [
       "'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'"
      ]
     },
     "execution_count": 17,
     "metadata": {},
     "output_type": "execute_result"
    }
   ],
   "source": [
    "enc(df.iloc[0].Text)"
   ]
  },
  {
   "cell_type": "code",
   "execution_count": 18,
   "id": "47e237cd",
   "metadata": {},
   "outputs": [],
   "source": [
    "from Crypto.Random import get_random_bytes"
   ]
  },
  {
   "cell_type": "code",
   "execution_count": 19,
   "id": "3e44a5a0",
   "metadata": {},
   "outputs": [
    {
     "data": {
      "text/plain": [
       "'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'"
      ]
     },
     "execution_count": 19,
     "metadata": {},
     "output_type": "execute_result"
    }
   ],
   "source": [
    "str(get_random_bytes(1013).hex()[:2000])"
   ]
  },
  {
   "cell_type": "code",
   "execution_count": 20,
   "id": "4261df59",
   "metadata": {},
   "outputs": [],
   "source": [
    "n = df.shape[0]"
   ]
  },
  {
   "cell_type": "code",
   "execution_count": 21,
   "id": "b69bef1f",
   "metadata": {},
   "outputs": [
    {
     "data": {
      "text/plain": [
       "12500"
      ]
     },
     "execution_count": 21,
     "metadata": {},
     "output_type": "execute_result"
    }
   ],
   "source": [
    "n"
   ]
  },
  {
   "cell_type": "code",
   "execution_count": 22,
   "id": "57770592",
   "metadata": {},
   "outputs": [],
   "source": [
    "des_res = []"
   ]
  },
  {
   "cell_type": "code",
   "execution_count": 23,
   "id": "04c04714",
   "metadata": {},
   "outputs": [],
   "source": [
    "for i in range(n):\n",
    "    text = df.iloc[i].Text\n",
    "    des_res.append(enc(text))"
   ]
  },
  {
   "cell_type": "code",
   "execution_count": 24,
   "id": "5134085e",
   "metadata": {},
   "outputs": [
    {
     "data": {
      "text/plain": [
       "12500"
      ]
     },
     "execution_count": 24,
     "metadata": {},
     "output_type": "execute_result"
    }
   ],
   "source": [
    "len(des_res)"
   ]
  },
  {
   "cell_type": "code",
   "execution_count": 25,
   "id": "14f18a27",
   "metadata": {},
   "outputs": [],
   "source": [
    "rand_files = []"
   ]
  },
  {
   "cell_type": "code",
   "execution_count": 26,
   "id": "05d8e4da",
   "metadata": {},
   "outputs": [],
   "source": [
    "for i in range(n):\n",
    "    rand_files.append(str(get_random_bytes(1013).hex()[:2000]))"
   ]
  },
  {
   "cell_type": "code",
   "execution_count": 27,
   "id": "42ff050d",
   "metadata": {},
   "outputs": [
    {
     "data": {
      "text/plain": [
       "12500"
      ]
     },
     "execution_count": 27,
     "metadata": {},
     "output_type": "execute_result"
    }
   ],
   "source": [
    "len(rand_files)"
   ]
  },
  {
   "cell_type": "code",
   "execution_count": 150,
   "id": "5b8870b8",
   "metadata": {},
   "outputs": [],
   "source": [
    "import numpy as np"
   ]
  },
  {
   "cell_type": "code",
   "execution_count": 28,
   "id": "496b3ee4",
   "metadata": {},
   "outputs": [],
   "source": [
    "data = []\n",
    "for i in range(n):\n",
    "    temp = []\n",
    "    temp.append(des_res[i])\n",
    "    temp.append(1)\n",
    "    data.append(temp)\n",
    "\n",
    "for i in range(n):\n",
    "    temp = []\n",
    "    temp.append(rand_files[i])\n",
    "    temp.append(0)\n",
    "    data.append(temp)"
   ]
  },
  {
   "cell_type": "code",
   "execution_count": 29,
   "id": "ad3cb293",
   "metadata": {},
   "outputs": [
    {
     "data": {
      "text/plain": [
       "25000"
      ]
     },
     "execution_count": 29,
     "metadata": {},
     "output_type": "execute_result"
    }
   ],
   "source": [
    "len(data)"
   ]
  },
  {
   "cell_type": "code",
   "execution_count": 30,
   "id": "3c2b06c2",
   "metadata": {},
   "outputs": [],
   "source": [
    "newdf = pd.DataFrame(data, columns = ['Text', 'class'])"
   ]
  },
  {
   "cell_type": "code",
   "execution_count": 31,
   "id": "de32fe31",
   "metadata": {},
   "outputs": [],
   "source": [
    "ndf = newdf.sample(frac=1)"
   ]
  },
  {
   "cell_type": "code",
   "execution_count": 32,
   "id": "ac84d352",
   "metadata": {},
   "outputs": [],
   "source": [
    "ndf.reset_index(drop=True, inplace=True)"
   ]
  },
  {
   "cell_type": "code",
   "execution_count": 33,
   "id": "14677430",
   "metadata": {},
   "outputs": [
    {
     "data": {
      "text/html": [
       "<div>\n",
       "<style scoped>\n",
       "    .dataframe tbody tr th:only-of-type {\n",
       "        vertical-align: middle;\n",
       "    }\n",
       "\n",
       "    .dataframe tbody tr th {\n",
       "        vertical-align: top;\n",
       "    }\n",
       "\n",
       "    .dataframe thead th {\n",
       "        text-align: right;\n",
       "    }\n",
       "</style>\n",
       "<table border=\"1\" class=\"dataframe\">\n",
       "  <thead>\n",
       "    <tr style=\"text-align: right;\">\n",
       "      <th></th>\n",
       "      <th>Text</th>\n",
       "      <th>class</th>\n",
       "    </tr>\n",
       "  </thead>\n",
       "  <tbody>\n",
       "    <tr>\n",
       "      <th>0</th>\n",
       "      <td>2a6c378ffa5c60be640d302334eb6179e1f84dc22ccc58...</td>\n",
       "      <td>0</td>\n",
       "    </tr>\n",
       "    <tr>\n",
       "      <th>1</th>\n",
       "      <td>1990e0e7c331066f477abb782cd2f480b4db2d201e911e...</td>\n",
       "      <td>0</td>\n",
       "    </tr>\n",
       "    <tr>\n",
       "      <th>2</th>\n",
       "      <td>681aa3889bd41ba9cb3238a8a88b34358bb13395d6a5d6...</td>\n",
       "      <td>0</td>\n",
       "    </tr>\n",
       "    <tr>\n",
       "      <th>3</th>\n",
       "      <td>754b5747785567517855674762537453486d754b62546b...</td>\n",
       "      <td>1</td>\n",
       "    </tr>\n",
       "    <tr>\n",
       "      <th>4</th>\n",
       "      <td>a74449ecf0d2bb1e9b78a998325ebdd286e5d3e5956ff4...</td>\n",
       "      <td>0</td>\n",
       "    </tr>\n",
       "    <tr>\n",
       "      <th>...</th>\n",
       "      <td>...</td>\n",
       "      <td>...</td>\n",
       "    </tr>\n",
       "    <tr>\n",
       "      <th>24995</th>\n",
       "      <td>679b09a9f1a1bb543ae069f0235a2b893539f225f89c0e...</td>\n",
       "      <td>0</td>\n",
       "    </tr>\n",
       "    <tr>\n",
       "      <th>24996</th>\n",
       "      <td>0afb37aad087b078e04cd6a070049f0cdff953eba7d3bd...</td>\n",
       "      <td>0</td>\n",
       "    </tr>\n",
       "    <tr>\n",
       "      <th>24997</th>\n",
       "      <td>586a784544543043435165636966646b49325039784b6c...</td>\n",
       "      <td>1</td>\n",
       "    </tr>\n",
       "    <tr>\n",
       "      <th>24998</th>\n",
       "      <td>415773766d6446327357354c6351626963782f4956364d...</td>\n",
       "      <td>1</td>\n",
       "    </tr>\n",
       "    <tr>\n",
       "      <th>24999</th>\n",
       "      <td>d7c97f0c1fdb254ea253f80e00d2285da085c5d81735b6...</td>\n",
       "      <td>0</td>\n",
       "    </tr>\n",
       "  </tbody>\n",
       "</table>\n",
       "<p>25000 rows × 2 columns</p>\n",
       "</div>"
      ],
      "text/plain": [
       "                                                    Text  class\n",
       "0      2a6c378ffa5c60be640d302334eb6179e1f84dc22ccc58...      0\n",
       "1      1990e0e7c331066f477abb782cd2f480b4db2d201e911e...      0\n",
       "2      681aa3889bd41ba9cb3238a8a88b34358bb13395d6a5d6...      0\n",
       "3      754b5747785567517855674762537453486d754b62546b...      1\n",
       "4      a74449ecf0d2bb1e9b78a998325ebdd286e5d3e5956ff4...      0\n",
       "...                                                  ...    ...\n",
       "24995  679b09a9f1a1bb543ae069f0235a2b893539f225f89c0e...      0\n",
       "24996  0afb37aad087b078e04cd6a070049f0cdff953eba7d3bd...      0\n",
       "24997  586a784544543043435165636966646b49325039784b6c...      1\n",
       "24998  415773766d6446327357354c6351626963782f4956364d...      1\n",
       "24999  d7c97f0c1fdb254ea253f80e00d2285da085c5d81735b6...      0\n",
       "\n",
       "[25000 rows x 2 columns]"
      ]
     },
     "execution_count": 33,
     "metadata": {},
     "output_type": "execute_result"
    }
   ],
   "source": [
    "ndf"
   ]
  },
  {
   "cell_type": "code",
   "execution_count": 34,
   "id": "a9493ab6",
   "metadata": {},
   "outputs": [],
   "source": [
    "ndf.to_csv(\"des_cbc_reviews2.csv\")"
   ]
  }
 ],
 "metadata": {
  "kernelspec": {
   "display_name": "Python 3 (ipykernel)",
   "language": "python",
   "name": "python3"
  },
  "language_info": {
   "codemirror_mode": {
    "name": "ipython",
    "version": 3
   },
   "file_extension": ".py",
   "mimetype": "text/x-python",
   "name": "python",
   "nbconvert_exporter": "python",
   "pygments_lexer": "ipython3",
   "version": "3.9.13"
  }
 },
 "nbformat": 4,
 "nbformat_minor": 5
}
