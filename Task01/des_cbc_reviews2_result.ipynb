{
 "cells": [
  {
   "cell_type": "code",
   "execution_count": 1,
   "metadata": {
    "colab": {
     "base_uri": "https://localhost:8080/"
    },
    "id": "81bFU2wodpXR",
    "outputId": "c0329a29-cfa4-420d-9310-12d7afff1a5c"
   },
   "outputs": [
    {
     "name": "stdout",
     "output_type": "stream",
     "text": [
      "Mounted at /content/gdrive/\n"
     ]
    }
   ],
   "source": [
    "from google.colab import drive\n",
    "drive.mount('/content/gdrive/', force_remount=True)"
   ]
  },
  {
   "cell_type": "code",
   "execution_count": 2,
   "metadata": {
    "colab": {
     "base_uri": "https://localhost:8080/"
    },
    "id": "kiWbLQDucF5y",
    "outputId": "b05f574e-4b05-42cb-b342-d0d19f0a883e"
   },
   "outputs": [
    {
     "name": "stdout",
     "output_type": "stream",
     "text": [
      "/content/gdrive/MyDrive/diss/apr/1\n"
     ]
    }
   ],
   "source": [
    "%cd /content/gdrive/MyDrive/diss/apr/1"
   ]
  },
  {
   "cell_type": "code",
   "execution_count": 3,
   "metadata": {
    "colab": {
     "base_uri": "https://localhost:8080/"
    },
    "id": "eeFGolv2xGm1",
    "outputId": "717876ea-ac47-4d1d-d969-7bf921d93b51"
   },
   "outputs": [
    {
     "name": "stdout",
     "output_type": "stream",
     "text": [
      "allrounds_AES_CBC_reviews2.csv\tdes_cbc_TrainingData.csv  hello.png\n",
      "CRL_Best_V1.h5\t\t\tdes_reviews2_dfleft.csv\n",
      "des_cbc_reviews2.csv\t\tdes_td_dfleft.csv\n"
     ]
    }
   ],
   "source": [
    "!ls"
   ]
  },
  {
   "cell_type": "code",
   "execution_count": 4,
   "metadata": {
    "id": "-zQB-YAKdkCn"
   },
   "outputs": [],
   "source": [
    "# -*- coding: utf-8 -*-\n",
    "# Load libraries\n",
    "import numpy as np\n",
    "from pickle import dump\n",
    "from numpy import loadtxt\n",
    "from tensorflow.keras.models import Sequential\n",
    "from tensorflow.keras.layers import Dense\n",
    "from tensorflow.keras.layers import Dense, Conv1D, Flatten\n",
    "import pandas as pd\n",
    "from pandas import read_csv\n",
    "from sklearn.model_selection import train_test_split\n",
    "from sklearn.metrics import accuracy_score\n",
    "import keras\n",
    "from tensorflow.keras.layers import Dense, Conv2D, BatchNormalization, Activation\n",
    "from tensorflow.keras.layers import AveragePooling2D, Input, Flatten, GlobalAveragePooling2D,Dropout\n",
    "from tensorflow.keras.callbacks import ModelCheckpoint, LearningRateScheduler\n",
    "from tensorflow.keras.callbacks import ReduceLROnPlateau\n",
    "from tensorflow.keras.preprocessing.image import ImageDataGenerator\n",
    "from tensorflow.keras.regularizers import l2\n",
    "from tensorflow.keras import backend as K\n",
    "from keras.models import Model\n",
    "import numpy as np\n",
    "from numpy import loadtxt\n",
    "from tensorflow.keras.utils import to_categorical\n",
    "import numpy as np\n",
    "import pandas as pd\n",
    "import pickle"
   ]
  },
  {
   "cell_type": "code",
   "execution_count": 6,
   "metadata": {
    "id": "vWl7v6Nnduiu"
   },
   "outputs": [],
   "source": [
    "#Please add the validation datapath\n",
    "url=\"des_cbc_reviews2.csv\"\n",
    "\n",
    "dataset=pd.read_csv(url)"
   ]
  },
  {
   "cell_type": "code",
   "execution_count": 7,
   "metadata": {
    "colab": {
     "base_uri": "https://localhost:8080/",
     "height": 206
    },
    "id": "365ds1g1aTMe",
    "outputId": "d6756df4-a378-4db2-e950-7fca23e25c26"
   },
   "outputs": [
    {
     "data": {
      "text/html": [
       "\n",
       "  <div id=\"df-e85633ea-651f-469f-a09a-f933138d0620\">\n",
       "    <div class=\"colab-df-container\">\n",
       "      <div>\n",
       "<style scoped>\n",
       "    .dataframe tbody tr th:only-of-type {\n",
       "        vertical-align: middle;\n",
       "    }\n",
       "\n",
       "    .dataframe tbody tr th {\n",
       "        vertical-align: top;\n",
       "    }\n",
       "\n",
       "    .dataframe thead th {\n",
       "        text-align: right;\n",
       "    }\n",
       "</style>\n",
       "<table border=\"1\" class=\"dataframe\">\n",
       "  <thead>\n",
       "    <tr style=\"text-align: right;\">\n",
       "      <th></th>\n",
       "      <th>Unnamed: 0</th>\n",
       "      <th>Text</th>\n",
       "      <th>class</th>\n",
       "    </tr>\n",
       "  </thead>\n",
       "  <tbody>\n",
       "    <tr>\n",
       "      <th>0</th>\n",
       "      <td>0</td>\n",
       "      <td>2a6c378ffa5c60be640d302334eb6179e1f84dc22ccc58...</td>\n",
       "      <td>0</td>\n",
       "    </tr>\n",
       "    <tr>\n",
       "      <th>1</th>\n",
       "      <td>1</td>\n",
       "      <td>1990e0e7c331066f477abb782cd2f480b4db2d201e911e...</td>\n",
       "      <td>0</td>\n",
       "    </tr>\n",
       "    <tr>\n",
       "      <th>2</th>\n",
       "      <td>2</td>\n",
       "      <td>681aa3889bd41ba9cb3238a8a88b34358bb13395d6a5d6...</td>\n",
       "      <td>0</td>\n",
       "    </tr>\n",
       "    <tr>\n",
       "      <th>3</th>\n",
       "      <td>3</td>\n",
       "      <td>754b5747785567517855674762537453486d754b62546b...</td>\n",
       "      <td>1</td>\n",
       "    </tr>\n",
       "    <tr>\n",
       "      <th>4</th>\n",
       "      <td>4</td>\n",
       "      <td>a74449ecf0d2bb1e9b78a998325ebdd286e5d3e5956ff4...</td>\n",
       "      <td>0</td>\n",
       "    </tr>\n",
       "  </tbody>\n",
       "</table>\n",
       "</div>\n",
       "      <button class=\"colab-df-convert\" onclick=\"convertToInteractive('df-e85633ea-651f-469f-a09a-f933138d0620')\"\n",
       "              title=\"Convert this dataframe to an interactive table.\"\n",
       "              style=\"display:none;\">\n",
       "        \n",
       "  <svg xmlns=\"http://www.w3.org/2000/svg\" height=\"24px\"viewBox=\"0 0 24 24\"\n",
       "       width=\"24px\">\n",
       "    <path d=\"M0 0h24v24H0V0z\" fill=\"none\"/>\n",
       "    <path d=\"M18.56 5.44l.94 2.06.94-2.06 2.06-.94-2.06-.94-.94-2.06-.94 2.06-2.06.94zm-11 1L8.5 8.5l.94-2.06 2.06-.94-2.06-.94L8.5 2.5l-.94 2.06-2.06.94zm10 10l.94 2.06.94-2.06 2.06-.94-2.06-.94-.94-2.06-.94 2.06-2.06.94z\"/><path d=\"M17.41 7.96l-1.37-1.37c-.4-.4-.92-.59-1.43-.59-.52 0-1.04.2-1.43.59L10.3 9.45l-7.72 7.72c-.78.78-.78 2.05 0 2.83L4 21.41c.39.39.9.59 1.41.59.51 0 1.02-.2 1.41-.59l7.78-7.78 2.81-2.81c.8-.78.8-2.07 0-2.86zM5.41 20L4 18.59l7.72-7.72 1.47 1.35L5.41 20z\"/>\n",
       "  </svg>\n",
       "      </button>\n",
       "      \n",
       "  <style>\n",
       "    .colab-df-container {\n",
       "      display:flex;\n",
       "      flex-wrap:wrap;\n",
       "      gap: 12px;\n",
       "    }\n",
       "\n",
       "    .colab-df-convert {\n",
       "      background-color: #E8F0FE;\n",
       "      border: none;\n",
       "      border-radius: 50%;\n",
       "      cursor: pointer;\n",
       "      display: none;\n",
       "      fill: #1967D2;\n",
       "      height: 32px;\n",
       "      padding: 0 0 0 0;\n",
       "      width: 32px;\n",
       "    }\n",
       "\n",
       "    .colab-df-convert:hover {\n",
       "      background-color: #E2EBFA;\n",
       "      box-shadow: 0px 1px 2px rgba(60, 64, 67, 0.3), 0px 1px 3px 1px rgba(60, 64, 67, 0.15);\n",
       "      fill: #174EA6;\n",
       "    }\n",
       "\n",
       "    [theme=dark] .colab-df-convert {\n",
       "      background-color: #3B4455;\n",
       "      fill: #D2E3FC;\n",
       "    }\n",
       "\n",
       "    [theme=dark] .colab-df-convert:hover {\n",
       "      background-color: #434B5C;\n",
       "      box-shadow: 0px 1px 3px 1px rgba(0, 0, 0, 0.15);\n",
       "      filter: drop-shadow(0px 1px 2px rgba(0, 0, 0, 0.3));\n",
       "      fill: #FFFFFF;\n",
       "    }\n",
       "  </style>\n",
       "\n",
       "      <script>\n",
       "        const buttonEl =\n",
       "          document.querySelector('#df-e85633ea-651f-469f-a09a-f933138d0620 button.colab-df-convert');\n",
       "        buttonEl.style.display =\n",
       "          google.colab.kernel.accessAllowed ? 'block' : 'none';\n",
       "\n",
       "        async function convertToInteractive(key) {\n",
       "          const element = document.querySelector('#df-e85633ea-651f-469f-a09a-f933138d0620');\n",
       "          const dataTable =\n",
       "            await google.colab.kernel.invokeFunction('convertToInteractive',\n",
       "                                                     [key], {});\n",
       "          if (!dataTable) return;\n",
       "\n",
       "          const docLinkHtml = 'Like what you see? Visit the ' +\n",
       "            '<a target=\"_blank\" href=https://colab.research.google.com/notebooks/data_table.ipynb>data table notebook</a>'\n",
       "            + ' to learn more about interactive tables.';\n",
       "          element.innerHTML = '';\n",
       "          dataTable['output_type'] = 'display_data';\n",
       "          await google.colab.output.renderOutput(dataTable, element);\n",
       "          const docLink = document.createElement('div');\n",
       "          docLink.innerHTML = docLinkHtml;\n",
       "          element.appendChild(docLink);\n",
       "        }\n",
       "      </script>\n",
       "    </div>\n",
       "  </div>\n",
       "  "
      ],
      "text/plain": [
       "   Unnamed: 0                                               Text  class\n",
       "0           0  2a6c378ffa5c60be640d302334eb6179e1f84dc22ccc58...      0\n",
       "1           1  1990e0e7c331066f477abb782cd2f480b4db2d201e911e...      0\n",
       "2           2  681aa3889bd41ba9cb3238a8a88b34358bb13395d6a5d6...      0\n",
       "3           3  754b5747785567517855674762537453486d754b62546b...      1\n",
       "4           4  a74449ecf0d2bb1e9b78a998325ebdd286e5d3e5956ff4...      0"
      ]
     },
     "execution_count": 7,
     "metadata": {},
     "output_type": "execute_result"
    }
   ],
   "source": [
    "dataset.head()"
   ]
  },
  {
   "cell_type": "code",
   "execution_count": 8,
   "metadata": {
    "id": "SNbGP27BrQdH"
   },
   "outputs": [],
   "source": [
    "dataset.columns = ['CID', 'Text', 'class']"
   ]
  },
  {
   "cell_type": "code",
   "execution_count": 9,
   "metadata": {
    "id": "_TMfzRDKi2wm"
   },
   "outputs": [],
   "source": [
    "# dataset.drop(columns=['length'], axis=1, inplace=True)"
   ]
  },
  {
   "cell_type": "code",
   "execution_count": 10,
   "metadata": {
    "colab": {
     "base_uri": "https://localhost:8080/",
     "height": 206
    },
    "id": "YkyME1uJaRWe",
    "outputId": "f67244b7-90ca-4270-b20b-57931b461872"
   },
   "outputs": [
    {
     "data": {
      "text/html": [
       "\n",
       "  <div id=\"df-21a85cb7-b47b-4ad0-a07d-9f6bced4ec2f\">\n",
       "    <div class=\"colab-df-container\">\n",
       "      <div>\n",
       "<style scoped>\n",
       "    .dataframe tbody tr th:only-of-type {\n",
       "        vertical-align: middle;\n",
       "    }\n",
       "\n",
       "    .dataframe tbody tr th {\n",
       "        vertical-align: top;\n",
       "    }\n",
       "\n",
       "    .dataframe thead th {\n",
       "        text-align: right;\n",
       "    }\n",
       "</style>\n",
       "<table border=\"1\" class=\"dataframe\">\n",
       "  <thead>\n",
       "    <tr style=\"text-align: right;\">\n",
       "      <th></th>\n",
       "      <th>CID</th>\n",
       "      <th>Text</th>\n",
       "      <th>class</th>\n",
       "    </tr>\n",
       "  </thead>\n",
       "  <tbody>\n",
       "    <tr>\n",
       "      <th>13423</th>\n",
       "      <td>13423</td>\n",
       "      <td>357a4d695774512f497468596d4463794649676b2f3666...</td>\n",
       "      <td>1</td>\n",
       "    </tr>\n",
       "    <tr>\n",
       "      <th>9756</th>\n",
       "      <td>9756</td>\n",
       "      <td>d8f041a360a7492d77bb98310dce8860070aa04a819e35...</td>\n",
       "      <td>0</td>\n",
       "    </tr>\n",
       "    <tr>\n",
       "      <th>23398</th>\n",
       "      <td>23398</td>\n",
       "      <td>3ac9b9637f61b017e6a3bd1b5deb6a5ae9fbec5c489285...</td>\n",
       "      <td>0</td>\n",
       "    </tr>\n",
       "    <tr>\n",
       "      <th>8410</th>\n",
       "      <td>8410</td>\n",
       "      <td>4f326737502b4661776c6569637a76427374374e72794a...</td>\n",
       "      <td>1</td>\n",
       "    </tr>\n",
       "    <tr>\n",
       "      <th>2458</th>\n",
       "      <td>2458</td>\n",
       "      <td>58b3825b020ff2b1c33810a8bbbc12a9c62a88444686a9...</td>\n",
       "      <td>0</td>\n",
       "    </tr>\n",
       "  </tbody>\n",
       "</table>\n",
       "</div>\n",
       "      <button class=\"colab-df-convert\" onclick=\"convertToInteractive('df-21a85cb7-b47b-4ad0-a07d-9f6bced4ec2f')\"\n",
       "              title=\"Convert this dataframe to an interactive table.\"\n",
       "              style=\"display:none;\">\n",
       "        \n",
       "  <svg xmlns=\"http://www.w3.org/2000/svg\" height=\"24px\"viewBox=\"0 0 24 24\"\n",
       "       width=\"24px\">\n",
       "    <path d=\"M0 0h24v24H0V0z\" fill=\"none\"/>\n",
       "    <path d=\"M18.56 5.44l.94 2.06.94-2.06 2.06-.94-2.06-.94-.94-2.06-.94 2.06-2.06.94zm-11 1L8.5 8.5l.94-2.06 2.06-.94-2.06-.94L8.5 2.5l-.94 2.06-2.06.94zm10 10l.94 2.06.94-2.06 2.06-.94-2.06-.94-.94-2.06-.94 2.06-2.06.94z\"/><path d=\"M17.41 7.96l-1.37-1.37c-.4-.4-.92-.59-1.43-.59-.52 0-1.04.2-1.43.59L10.3 9.45l-7.72 7.72c-.78.78-.78 2.05 0 2.83L4 21.41c.39.39.9.59 1.41.59.51 0 1.02-.2 1.41-.59l7.78-7.78 2.81-2.81c.8-.78.8-2.07 0-2.86zM5.41 20L4 18.59l7.72-7.72 1.47 1.35L5.41 20z\"/>\n",
       "  </svg>\n",
       "      </button>\n",
       "      \n",
       "  <style>\n",
       "    .colab-df-container {\n",
       "      display:flex;\n",
       "      flex-wrap:wrap;\n",
       "      gap: 12px;\n",
       "    }\n",
       "\n",
       "    .colab-df-convert {\n",
       "      background-color: #E8F0FE;\n",
       "      border: none;\n",
       "      border-radius: 50%;\n",
       "      cursor: pointer;\n",
       "      display: none;\n",
       "      fill: #1967D2;\n",
       "      height: 32px;\n",
       "      padding: 0 0 0 0;\n",
       "      width: 32px;\n",
       "    }\n",
       "\n",
       "    .colab-df-convert:hover {\n",
       "      background-color: #E2EBFA;\n",
       "      box-shadow: 0px 1px 2px rgba(60, 64, 67, 0.3), 0px 1px 3px 1px rgba(60, 64, 67, 0.15);\n",
       "      fill: #174EA6;\n",
       "    }\n",
       "\n",
       "    [theme=dark] .colab-df-convert {\n",
       "      background-color: #3B4455;\n",
       "      fill: #D2E3FC;\n",
       "    }\n",
       "\n",
       "    [theme=dark] .colab-df-convert:hover {\n",
       "      background-color: #434B5C;\n",
       "      box-shadow: 0px 1px 3px 1px rgba(0, 0, 0, 0.15);\n",
       "      filter: drop-shadow(0px 1px 2px rgba(0, 0, 0, 0.3));\n",
       "      fill: #FFFFFF;\n",
       "    }\n",
       "  </style>\n",
       "\n",
       "      <script>\n",
       "        const buttonEl =\n",
       "          document.querySelector('#df-21a85cb7-b47b-4ad0-a07d-9f6bced4ec2f button.colab-df-convert');\n",
       "        buttonEl.style.display =\n",
       "          google.colab.kernel.accessAllowed ? 'block' : 'none';\n",
       "\n",
       "        async function convertToInteractive(key) {\n",
       "          const element = document.querySelector('#df-21a85cb7-b47b-4ad0-a07d-9f6bced4ec2f');\n",
       "          const dataTable =\n",
       "            await google.colab.kernel.invokeFunction('convertToInteractive',\n",
       "                                                     [key], {});\n",
       "          if (!dataTable) return;\n",
       "\n",
       "          const docLinkHtml = 'Like what you see? Visit the ' +\n",
       "            '<a target=\"_blank\" href=https://colab.research.google.com/notebooks/data_table.ipynb>data table notebook</a>'\n",
       "            + ' to learn more about interactive tables.';\n",
       "          element.innerHTML = '';\n",
       "          dataTable['output_type'] = 'display_data';\n",
       "          await google.colab.output.renderOutput(dataTable, element);\n",
       "          const docLink = document.createElement('div');\n",
       "          docLink.innerHTML = docLinkHtml;\n",
       "          element.appendChild(docLink);\n",
       "        }\n",
       "      </script>\n",
       "    </div>\n",
       "  </div>\n",
       "  "
      ],
      "text/plain": [
       "         CID                                               Text  class\n",
       "13423  13423  357a4d695774512f497468596d4463794649676b2f3666...      1\n",
       "9756    9756  d8f041a360a7492d77bb98310dce8860070aa04a819e35...      0\n",
       "23398  23398  3ac9b9637f61b017e6a3bd1b5deb6a5ae9fbec5c489285...      0\n",
       "8410    8410  4f326737502b4661776c6569637a76427374374e72794a...      1\n",
       "2458    2458  58b3825b020ff2b1c33810a8bbbc12a9c62a88444686a9...      0"
      ]
     },
     "execution_count": 10,
     "metadata": {},
     "output_type": "execute_result"
    }
   ],
   "source": [
    "dataset = dataset.sample(frac=1)#shuffles the rows\n",
    "dataset.head()"
   ]
  },
  {
   "cell_type": "code",
   "execution_count": 11,
   "metadata": {
    "id": "VrnTzKK8aO94"
   },
   "outputs": [],
   "source": [
    "arr4 = dataset['Text'].tolist()\n",
    "\n",
    "arr1 = dataset['CID'].tolist()\n",
    "\n",
    "arr2 = dataset['class'].tolist()\n",
    "\n",
    "#print(arr2)"
   ]
  },
  {
   "cell_type": "code",
   "execution_count": 12,
   "metadata": {
    "colab": {
     "base_uri": "https://localhost:8080/"
    },
    "id": "6Iq22uA8akaD",
    "outputId": "979c6a93-75d2-4458-e9ff-6f80ce083ebf"
   },
   "outputs": [
    {
     "data": {
      "text/plain": [
       "{0, 1}"
      ]
     },
     "execution_count": 12,
     "metadata": {},
     "output_type": "execute_result"
    }
   ],
   "source": [
    "set(arr2)"
   ]
  },
  {
   "cell_type": "code",
   "execution_count": 13,
   "metadata": {
    "id": "RBh7CEehZpjF"
   },
   "outputs": [],
   "source": [
    "#random array of 5 elements\n",
    "# np.random.randint(1,100,5)"
   ]
  },
  {
   "cell_type": "markdown",
   "metadata": {
    "id": "uT-GV8o5aC8Q"
   },
   "source": [
    "##Illustration of working of dataset.sample(frac=1).\n",
    "Run the following two cells to see how rows are getting shuffled"
   ]
  },
  {
   "cell_type": "code",
   "execution_count": 14,
   "metadata": {
    "id": "51tbZMorZAum"
   },
   "outputs": [],
   "source": [
    "# # data = {\n",
    "#   \"calories\": np.random.randint(1,100,10),\n",
    "#   \"duration\": np.random.randint(1,100,10),\n",
    "#   \"abcd\": np.random.randint(1,100,10)\n",
    "# }\n",
    "# df = pd.DataFrame(data)\n",
    "# df"
   ]
  },
  {
   "cell_type": "code",
   "execution_count": 15,
   "metadata": {
    "id": "Bx35N0RKYsVt"
   },
   "outputs": [],
   "source": [
    "# df = df.sample(frac=1)\n",
    "# df"
   ]
  },
  {
   "cell_type": "code",
   "execution_count": 16,
   "metadata": {
    "colab": {
     "base_uri": "https://localhost:8080/",
     "height": 424
    },
    "id": "mPPCm6ozxYDa",
    "outputId": "99764b3c-38ae-4ebb-f86c-d88fa82d634d"
   },
   "outputs": [
    {
     "data": {
      "text/html": [
       "\n",
       "  <div id=\"df-6b4a5a1f-6362-491e-af70-a57a9c8e9ac5\">\n",
       "    <div class=\"colab-df-container\">\n",
       "      <div>\n",
       "<style scoped>\n",
       "    .dataframe tbody tr th:only-of-type {\n",
       "        vertical-align: middle;\n",
       "    }\n",
       "\n",
       "    .dataframe tbody tr th {\n",
       "        vertical-align: top;\n",
       "    }\n",
       "\n",
       "    .dataframe thead th {\n",
       "        text-align: right;\n",
       "    }\n",
       "</style>\n",
       "<table border=\"1\" class=\"dataframe\">\n",
       "  <thead>\n",
       "    <tr style=\"text-align: right;\">\n",
       "      <th></th>\n",
       "      <th>CID</th>\n",
       "      <th>Text</th>\n",
       "      <th>class</th>\n",
       "    </tr>\n",
       "  </thead>\n",
       "  <tbody>\n",
       "    <tr>\n",
       "      <th>13423</th>\n",
       "      <td>13423</td>\n",
       "      <td>357a4d695774512f497468596d4463794649676b2f3666...</td>\n",
       "      <td>1</td>\n",
       "    </tr>\n",
       "    <tr>\n",
       "      <th>9756</th>\n",
       "      <td>9756</td>\n",
       "      <td>d8f041a360a7492d77bb98310dce8860070aa04a819e35...</td>\n",
       "      <td>0</td>\n",
       "    </tr>\n",
       "    <tr>\n",
       "      <th>23398</th>\n",
       "      <td>23398</td>\n",
       "      <td>3ac9b9637f61b017e6a3bd1b5deb6a5ae9fbec5c489285...</td>\n",
       "      <td>0</td>\n",
       "    </tr>\n",
       "    <tr>\n",
       "      <th>8410</th>\n",
       "      <td>8410</td>\n",
       "      <td>4f326737502b4661776c6569637a76427374374e72794a...</td>\n",
       "      <td>1</td>\n",
       "    </tr>\n",
       "    <tr>\n",
       "      <th>2458</th>\n",
       "      <td>2458</td>\n",
       "      <td>58b3825b020ff2b1c33810a8bbbc12a9c62a88444686a9...</td>\n",
       "      <td>0</td>\n",
       "    </tr>\n",
       "    <tr>\n",
       "      <th>...</th>\n",
       "      <td>...</td>\n",
       "      <td>...</td>\n",
       "      <td>...</td>\n",
       "    </tr>\n",
       "    <tr>\n",
       "      <th>16115</th>\n",
       "      <td>16115</td>\n",
       "      <td>3951464b77677a4e6a6a68474449425255537541337151...</td>\n",
       "      <td>1</td>\n",
       "    </tr>\n",
       "    <tr>\n",
       "      <th>14065</th>\n",
       "      <td>14065</td>\n",
       "      <td>5a664d4a4b47542b70357679417134352b434b6a716f50...</td>\n",
       "      <td>1</td>\n",
       "    </tr>\n",
       "    <tr>\n",
       "      <th>13323</th>\n",
       "      <td>13323</td>\n",
       "      <td>3246574a6b6f4c4b6c536e35664e426b31757336735a62...</td>\n",
       "      <td>1</td>\n",
       "    </tr>\n",
       "    <tr>\n",
       "      <th>16698</th>\n",
       "      <td>16698</td>\n",
       "      <td>59520646761f1dc589ad5449a6f3bf1c4b9adb6d98bbc4...</td>\n",
       "      <td>0</td>\n",
       "    </tr>\n",
       "    <tr>\n",
       "      <th>9751</th>\n",
       "      <td>9751</td>\n",
       "      <td>536d5362576d71742b50476f53546277757445546c5541...</td>\n",
       "      <td>1</td>\n",
       "    </tr>\n",
       "  </tbody>\n",
       "</table>\n",
       "<p>25000 rows × 3 columns</p>\n",
       "</div>\n",
       "      <button class=\"colab-df-convert\" onclick=\"convertToInteractive('df-6b4a5a1f-6362-491e-af70-a57a9c8e9ac5')\"\n",
       "              title=\"Convert this dataframe to an interactive table.\"\n",
       "              style=\"display:none;\">\n",
       "        \n",
       "  <svg xmlns=\"http://www.w3.org/2000/svg\" height=\"24px\"viewBox=\"0 0 24 24\"\n",
       "       width=\"24px\">\n",
       "    <path d=\"M0 0h24v24H0V0z\" fill=\"none\"/>\n",
       "    <path d=\"M18.56 5.44l.94 2.06.94-2.06 2.06-.94-2.06-.94-.94-2.06-.94 2.06-2.06.94zm-11 1L8.5 8.5l.94-2.06 2.06-.94-2.06-.94L8.5 2.5l-.94 2.06-2.06.94zm10 10l.94 2.06.94-2.06 2.06-.94-2.06-.94-.94-2.06-.94 2.06-2.06.94z\"/><path d=\"M17.41 7.96l-1.37-1.37c-.4-.4-.92-.59-1.43-.59-.52 0-1.04.2-1.43.59L10.3 9.45l-7.72 7.72c-.78.78-.78 2.05 0 2.83L4 21.41c.39.39.9.59 1.41.59.51 0 1.02-.2 1.41-.59l7.78-7.78 2.81-2.81c.8-.78.8-2.07 0-2.86zM5.41 20L4 18.59l7.72-7.72 1.47 1.35L5.41 20z\"/>\n",
       "  </svg>\n",
       "      </button>\n",
       "      \n",
       "  <style>\n",
       "    .colab-df-container {\n",
       "      display:flex;\n",
       "      flex-wrap:wrap;\n",
       "      gap: 12px;\n",
       "    }\n",
       "\n",
       "    .colab-df-convert {\n",
       "      background-color: #E8F0FE;\n",
       "      border: none;\n",
       "      border-radius: 50%;\n",
       "      cursor: pointer;\n",
       "      display: none;\n",
       "      fill: #1967D2;\n",
       "      height: 32px;\n",
       "      padding: 0 0 0 0;\n",
       "      width: 32px;\n",
       "    }\n",
       "\n",
       "    .colab-df-convert:hover {\n",
       "      background-color: #E2EBFA;\n",
       "      box-shadow: 0px 1px 2px rgba(60, 64, 67, 0.3), 0px 1px 3px 1px rgba(60, 64, 67, 0.15);\n",
       "      fill: #174EA6;\n",
       "    }\n",
       "\n",
       "    [theme=dark] .colab-df-convert {\n",
       "      background-color: #3B4455;\n",
       "      fill: #D2E3FC;\n",
       "    }\n",
       "\n",
       "    [theme=dark] .colab-df-convert:hover {\n",
       "      background-color: #434B5C;\n",
       "      box-shadow: 0px 1px 3px 1px rgba(0, 0, 0, 0.15);\n",
       "      filter: drop-shadow(0px 1px 2px rgba(0, 0, 0, 0.3));\n",
       "      fill: #FFFFFF;\n",
       "    }\n",
       "  </style>\n",
       "\n",
       "      <script>\n",
       "        const buttonEl =\n",
       "          document.querySelector('#df-6b4a5a1f-6362-491e-af70-a57a9c8e9ac5 button.colab-df-convert');\n",
       "        buttonEl.style.display =\n",
       "          google.colab.kernel.accessAllowed ? 'block' : 'none';\n",
       "\n",
       "        async function convertToInteractive(key) {\n",
       "          const element = document.querySelector('#df-6b4a5a1f-6362-491e-af70-a57a9c8e9ac5');\n",
       "          const dataTable =\n",
       "            await google.colab.kernel.invokeFunction('convertToInteractive',\n",
       "                                                     [key], {});\n",
       "          if (!dataTable) return;\n",
       "\n",
       "          const docLinkHtml = 'Like what you see? Visit the ' +\n",
       "            '<a target=\"_blank\" href=https://colab.research.google.com/notebooks/data_table.ipynb>data table notebook</a>'\n",
       "            + ' to learn more about interactive tables.';\n",
       "          element.innerHTML = '';\n",
       "          dataTable['output_type'] = 'display_data';\n",
       "          await google.colab.output.renderOutput(dataTable, element);\n",
       "          const docLink = document.createElement('div');\n",
       "          docLink.innerHTML = docLinkHtml;\n",
       "          element.appendChild(docLink);\n",
       "        }\n",
       "      </script>\n",
       "    </div>\n",
       "  </div>\n",
       "  "
      ],
      "text/plain": [
       "         CID                                               Text  class\n",
       "13423  13423  357a4d695774512f497468596d4463794649676b2f3666...      1\n",
       "9756    9756  d8f041a360a7492d77bb98310dce8860070aa04a819e35...      0\n",
       "23398  23398  3ac9b9637f61b017e6a3bd1b5deb6a5ae9fbec5c489285...      0\n",
       "8410    8410  4f326737502b4661776c6569637a76427374374e72794a...      1\n",
       "2458    2458  58b3825b020ff2b1c33810a8bbbc12a9c62a88444686a9...      0\n",
       "...      ...                                                ...    ...\n",
       "16115  16115  3951464b77677a4e6a6a68474449425255537541337151...      1\n",
       "14065  14065  5a664d4a4b47542b70357679417134352b434b6a716f50...      1\n",
       "13323  13323  3246574a6b6f4c4b6c536e35664e426b31757336735a62...      1\n",
       "16698  16698  59520646761f1dc589ad5449a6f3bf1c4b9adb6d98bbc4...      0\n",
       "9751    9751  536d5362576d71742b50476f53546277757445546c5541...      1\n",
       "\n",
       "[25000 rows x 3 columns]"
      ]
     },
     "execution_count": 16,
     "metadata": {},
     "output_type": "execute_result"
    }
   ],
   "source": [
    "dataset"
   ]
  },
  {
   "cell_type": "code",
   "execution_count": 17,
   "metadata": {
    "colab": {
     "base_uri": "https://localhost:8080/"
    },
    "id": "z_9KX4eDbLv4",
    "outputId": "443c4ba6-7aea-4812-f1f4-5fcc99e5b126"
   },
   "outputs": [
    {
     "data": {
      "text/plain": [
       "25000"
      ]
     },
     "execution_count": 17,
     "metadata": {},
     "output_type": "execute_result"
    }
   ],
   "source": [
    "# int(arr4[0], 16)\n",
    "len(arr4)"
   ]
  },
  {
   "cell_type": "code",
   "execution_count": 18,
   "metadata": {
    "id": "F036uzJYd71Q"
   },
   "outputs": [],
   "source": [
    "for i in range(len(arr4)):\n",
    "  arr4[i] = int(arr4[i],16)#converting each of the text into hexadecimal format\n",
    "\n",
    "li_of_li = []\n",
    "for i in range(len(arr4)):\n",
    "  str1 = str(arr4[i])\n",
    "  n = 17\n",
    "  chunks = [str1[i:i+n] for i in range(0, 17*4, n)]\n",
    "  chunks.insert(0,arr1[i])#before chunks we are inserting CID\n",
    "  chunks.append(arr2[i])#after chuncks, we are appending class-label\n",
    "  li_of_li.append(chunks)"
   ]
  },
  {
   "cell_type": "code",
   "execution_count": 19,
   "metadata": {
    "colab": {
     "base_uri": "https://localhost:8080/"
    },
    "id": "0xptxtCaclIh",
    "outputId": "f22ba7f7-e35c-489b-90aa-0880c1e92b12"
   },
   "outputs": [
    {
     "data": {
      "text/plain": [
       "6"
      ]
     },
     "execution_count": 19,
     "metadata": {},
     "output_type": "execute_result"
    }
   ],
   "source": [
    "len(li_of_li[0])"
   ]
  },
  {
   "cell_type": "code",
   "execution_count": 20,
   "metadata": {
    "id": "3YZh8Xqyegvd"
   },
   "outputs": [],
   "source": [
    "# df = pd.DataFrame(li_of_li, columns = ['CID',\n",
    "# 'Text1', 'Text2', 'Text3', 'Text4', 'Text5', 'Text6', 'Text7', 'Text8', 'Text9', 'Text10', \n",
    "# 'Text11', 'Text12', 'Text13', 'Text14', 'Text15', 'Text16', 'Text17', 'Text18', 'Text19', 'Text20',\n",
    "# 'Text21', 'Text22', 'Text23', 'Text24', 'Text25', 'Text26', 'Text27', 'Text28', 'Text29', 'Text30', \n",
    "# 'Text31', 'Text32', 'Text33', 'Text34', 'Text35', 'Text36', 'Text37', 'Text38', 'Text39', 'Text40', \n",
    "# 'Text41', 'Text42', 'Text43', 'Text44', 'Text45', 'Text46', 'Text47', 'Text48', 'Text49', 'Text50', \n",
    "# 'Text51', 'Text52', 'Text53', 'Text54', 'Text55', 'Text56', 'Text57', 'Text58', 'Text59', 'Text60',\n",
    "# 'Text61', 'Text62', 'Text63', 'Text64', 'Text65', 'Text66', 'Text67', 'Text68', 'Text69', 'Text70', \n",
    "# 'Text71', 'Text72', 'Text73', 'Text74', 'Text75', 'Text76', 'Text77', 'Text78', 'Text79', 'Text80', \n",
    "# 'Text81', 'Text82', 'Text83', 'Text84', 'Text85', 'Text86', 'Text87', 'Text88', 'Text89', 'Text90', \n",
    "# 'Text91', 'Text92', 'Text93', 'Text94', 'Text95', 'Text96', 'Text97', 'Text98', 'Text99', 'Text100',\n",
    "# 'Text101', 'Text102', 'Text103', 'Text104', 'Text105', 'Text106', 'Text107', 'Text108', 'Text109', 'Text110', \n",
    "# 'Text111', 'Text112', 'Text113', 'Text114', 'Text115', 'Text116', 'Text117', 'Text118', 'Text119', 'Text120', \n",
    "# 'Text121', 'Text122', 'Text123', 'Text124', 'Text125', 'Text126', 'Text127', 'Text128', 'Text129', 'Text130',\n",
    "# 'Text131', 'Text132', 'Text133', 'Text134', 'Text135', 'Text136', 'Text137', 'Text138', 'Text139', 'Text140', \n",
    "# 'Text141', 'Text142', 'Text143', 'Text144',\n",
    "# 'class'])\n",
    "\n",
    "df = pd.DataFrame(li_of_li, columns = ['CID', 'Text1', 'Text2', 'Text3', 'Text4', 'class'])\n",
    "\n"
   ]
  },
  {
   "cell_type": "code",
   "execution_count": 21,
   "metadata": {
    "colab": {
     "base_uri": "https://localhost:8080/",
     "height": 206
    },
    "id": "opborTY7c3rJ",
    "outputId": "2acd4cd2-e279-4d49-8d9d-dc7dde594acf"
   },
   "outputs": [
    {
     "data": {
      "text/html": [
       "\n",
       "  <div id=\"df-63dfd18f-8f8a-4143-a6d0-88dd9f3b7dfa\">\n",
       "    <div class=\"colab-df-container\">\n",
       "      <div>\n",
       "<style scoped>\n",
       "    .dataframe tbody tr th:only-of-type {\n",
       "        vertical-align: middle;\n",
       "    }\n",
       "\n",
       "    .dataframe tbody tr th {\n",
       "        vertical-align: top;\n",
       "    }\n",
       "\n",
       "    .dataframe thead th {\n",
       "        text-align: right;\n",
       "    }\n",
       "</style>\n",
       "<table border=\"1\" class=\"dataframe\">\n",
       "  <thead>\n",
       "    <tr style=\"text-align: right;\">\n",
       "      <th></th>\n",
       "      <th>CID</th>\n",
       "      <th>Text1</th>\n",
       "      <th>Text2</th>\n",
       "      <th>Text3</th>\n",
       "      <th>Text4</th>\n",
       "      <th>class</th>\n",
       "    </tr>\n",
       "  </thead>\n",
       "  <tbody>\n",
       "    <tr>\n",
       "      <th>0</th>\n",
       "      <td>13423</td>\n",
       "      <td>36299314371465115</td>\n",
       "      <td>80863063189271954</td>\n",
       "      <td>63958247734036116</td>\n",
       "      <td>88823799597625198</td>\n",
       "      <td>1</td>\n",
       "    </tr>\n",
       "    <tr>\n",
       "      <th>1</th>\n",
       "      <td>9756</td>\n",
       "      <td>14725226461922878</td>\n",
       "      <td>96063464837486497</td>\n",
       "      <td>06721988467633099</td>\n",
       "      <td>16943911818725952</td>\n",
       "      <td>0</td>\n",
       "    </tr>\n",
       "    <tr>\n",
       "      <th>2</th>\n",
       "      <td>23398</td>\n",
       "      <td>39903769362037100</td>\n",
       "      <td>72699883224957235</td>\n",
       "      <td>11909777736790695</td>\n",
       "      <td>12258884134001138</td>\n",
       "      <td>0</td>\n",
       "    </tr>\n",
       "    <tr>\n",
       "      <th>3</th>\n",
       "      <td>8410</td>\n",
       "      <td>53756806395841111</td>\n",
       "      <td>27669533575242309</td>\n",
       "      <td>31639813583757914</td>\n",
       "      <td>58447443094807270</td>\n",
       "      <td>1</td>\n",
       "    </tr>\n",
       "    <tr>\n",
       "      <th>4</th>\n",
       "      <td>2458</td>\n",
       "      <td>60208094144840667</td>\n",
       "      <td>20280029198647181</td>\n",
       "      <td>46065040992240920</td>\n",
       "      <td>07992379435557794</td>\n",
       "      <td>0</td>\n",
       "    </tr>\n",
       "  </tbody>\n",
       "</table>\n",
       "</div>\n",
       "      <button class=\"colab-df-convert\" onclick=\"convertToInteractive('df-63dfd18f-8f8a-4143-a6d0-88dd9f3b7dfa')\"\n",
       "              title=\"Convert this dataframe to an interactive table.\"\n",
       "              style=\"display:none;\">\n",
       "        \n",
       "  <svg xmlns=\"http://www.w3.org/2000/svg\" height=\"24px\"viewBox=\"0 0 24 24\"\n",
       "       width=\"24px\">\n",
       "    <path d=\"M0 0h24v24H0V0z\" fill=\"none\"/>\n",
       "    <path d=\"M18.56 5.44l.94 2.06.94-2.06 2.06-.94-2.06-.94-.94-2.06-.94 2.06-2.06.94zm-11 1L8.5 8.5l.94-2.06 2.06-.94-2.06-.94L8.5 2.5l-.94 2.06-2.06.94zm10 10l.94 2.06.94-2.06 2.06-.94-2.06-.94-.94-2.06-.94 2.06-2.06.94z\"/><path d=\"M17.41 7.96l-1.37-1.37c-.4-.4-.92-.59-1.43-.59-.52 0-1.04.2-1.43.59L10.3 9.45l-7.72 7.72c-.78.78-.78 2.05 0 2.83L4 21.41c.39.39.9.59 1.41.59.51 0 1.02-.2 1.41-.59l7.78-7.78 2.81-2.81c.8-.78.8-2.07 0-2.86zM5.41 20L4 18.59l7.72-7.72 1.47 1.35L5.41 20z\"/>\n",
       "  </svg>\n",
       "      </button>\n",
       "      \n",
       "  <style>\n",
       "    .colab-df-container {\n",
       "      display:flex;\n",
       "      flex-wrap:wrap;\n",
       "      gap: 12px;\n",
       "    }\n",
       "\n",
       "    .colab-df-convert {\n",
       "      background-color: #E8F0FE;\n",
       "      border: none;\n",
       "      border-radius: 50%;\n",
       "      cursor: pointer;\n",
       "      display: none;\n",
       "      fill: #1967D2;\n",
       "      height: 32px;\n",
       "      padding: 0 0 0 0;\n",
       "      width: 32px;\n",
       "    }\n",
       "\n",
       "    .colab-df-convert:hover {\n",
       "      background-color: #E2EBFA;\n",
       "      box-shadow: 0px 1px 2px rgba(60, 64, 67, 0.3), 0px 1px 3px 1px rgba(60, 64, 67, 0.15);\n",
       "      fill: #174EA6;\n",
       "    }\n",
       "\n",
       "    [theme=dark] .colab-df-convert {\n",
       "      background-color: #3B4455;\n",
       "      fill: #D2E3FC;\n",
       "    }\n",
       "\n",
       "    [theme=dark] .colab-df-convert:hover {\n",
       "      background-color: #434B5C;\n",
       "      box-shadow: 0px 1px 3px 1px rgba(0, 0, 0, 0.15);\n",
       "      filter: drop-shadow(0px 1px 2px rgba(0, 0, 0, 0.3));\n",
       "      fill: #FFFFFF;\n",
       "    }\n",
       "  </style>\n",
       "\n",
       "      <script>\n",
       "        const buttonEl =\n",
       "          document.querySelector('#df-63dfd18f-8f8a-4143-a6d0-88dd9f3b7dfa button.colab-df-convert');\n",
       "        buttonEl.style.display =\n",
       "          google.colab.kernel.accessAllowed ? 'block' : 'none';\n",
       "\n",
       "        async function convertToInteractive(key) {\n",
       "          const element = document.querySelector('#df-63dfd18f-8f8a-4143-a6d0-88dd9f3b7dfa');\n",
       "          const dataTable =\n",
       "            await google.colab.kernel.invokeFunction('convertToInteractive',\n",
       "                                                     [key], {});\n",
       "          if (!dataTable) return;\n",
       "\n",
       "          const docLinkHtml = 'Like what you see? Visit the ' +\n",
       "            '<a target=\"_blank\" href=https://colab.research.google.com/notebooks/data_table.ipynb>data table notebook</a>'\n",
       "            + ' to learn more about interactive tables.';\n",
       "          element.innerHTML = '';\n",
       "          dataTable['output_type'] = 'display_data';\n",
       "          await google.colab.output.renderOutput(dataTable, element);\n",
       "          const docLink = document.createElement('div');\n",
       "          docLink.innerHTML = docLinkHtml;\n",
       "          element.appendChild(docLink);\n",
       "        }\n",
       "      </script>\n",
       "    </div>\n",
       "  </div>\n",
       "  "
      ],
      "text/plain": [
       "     CID              Text1              Text2              Text3  \\\n",
       "0  13423  36299314371465115  80863063189271954  63958247734036116   \n",
       "1   9756  14725226461922878  96063464837486497  06721988467633099   \n",
       "2  23398  39903769362037100  72699883224957235  11909777736790695   \n",
       "3   8410  53756806395841111  27669533575242309  31639813583757914   \n",
       "4   2458  60208094144840667  20280029198647181  46065040992240920   \n",
       "\n",
       "               Text4  class  \n",
       "0  88823799597625198      1  \n",
       "1  16943911818725952      0  \n",
       "2  12258884134001138      0  \n",
       "3  58447443094807270      1  \n",
       "4  07992379435557794      0  "
      ]
     },
     "execution_count": 21,
     "metadata": {},
     "output_type": "execute_result"
    }
   ],
   "source": [
    "df.head()"
   ]
  },
  {
   "cell_type": "code",
   "execution_count": 22,
   "metadata": {
    "id": "Y8adEGfVr8CD"
   },
   "outputs": [],
   "source": [
    "# df.dropna(inplace=True)"
   ]
  },
  {
   "cell_type": "code",
   "execution_count": 23,
   "metadata": {
    "colab": {
     "base_uri": "https://localhost:8080/",
     "height": 206
    },
    "id": "kyM18gvlsGia",
    "outputId": "06a583d4-bfd1-4b2f-8bd2-dfae3175edb1"
   },
   "outputs": [
    {
     "data": {
      "text/html": [
       "\n",
       "  <div id=\"df-2bc57081-5e18-47bc-9e82-b3ef7c1fe990\">\n",
       "    <div class=\"colab-df-container\">\n",
       "      <div>\n",
       "<style scoped>\n",
       "    .dataframe tbody tr th:only-of-type {\n",
       "        vertical-align: middle;\n",
       "    }\n",
       "\n",
       "    .dataframe tbody tr th {\n",
       "        vertical-align: top;\n",
       "    }\n",
       "\n",
       "    .dataframe thead th {\n",
       "        text-align: right;\n",
       "    }\n",
       "</style>\n",
       "<table border=\"1\" class=\"dataframe\">\n",
       "  <thead>\n",
       "    <tr style=\"text-align: right;\">\n",
       "      <th></th>\n",
       "      <th>CID</th>\n",
       "      <th>Text1</th>\n",
       "      <th>Text2</th>\n",
       "      <th>Text3</th>\n",
       "      <th>Text4</th>\n",
       "      <th>class</th>\n",
       "    </tr>\n",
       "  </thead>\n",
       "  <tbody>\n",
       "    <tr>\n",
       "      <th>0</th>\n",
       "      <td>13423</td>\n",
       "      <td>36299314371465115</td>\n",
       "      <td>80863063189271954</td>\n",
       "      <td>63958247734036116</td>\n",
       "      <td>88823799597625198</td>\n",
       "      <td>1</td>\n",
       "    </tr>\n",
       "    <tr>\n",
       "      <th>1</th>\n",
       "      <td>9756</td>\n",
       "      <td>14725226461922878</td>\n",
       "      <td>96063464837486497</td>\n",
       "      <td>06721988467633099</td>\n",
       "      <td>16943911818725952</td>\n",
       "      <td>0</td>\n",
       "    </tr>\n",
       "    <tr>\n",
       "      <th>2</th>\n",
       "      <td>23398</td>\n",
       "      <td>39903769362037100</td>\n",
       "      <td>72699883224957235</td>\n",
       "      <td>11909777736790695</td>\n",
       "      <td>12258884134001138</td>\n",
       "      <td>0</td>\n",
       "    </tr>\n",
       "    <tr>\n",
       "      <th>3</th>\n",
       "      <td>8410</td>\n",
       "      <td>53756806395841111</td>\n",
       "      <td>27669533575242309</td>\n",
       "      <td>31639813583757914</td>\n",
       "      <td>58447443094807270</td>\n",
       "      <td>1</td>\n",
       "    </tr>\n",
       "    <tr>\n",
       "      <th>4</th>\n",
       "      <td>2458</td>\n",
       "      <td>60208094144840667</td>\n",
       "      <td>20280029198647181</td>\n",
       "      <td>46065040992240920</td>\n",
       "      <td>07992379435557794</td>\n",
       "      <td>0</td>\n",
       "    </tr>\n",
       "  </tbody>\n",
       "</table>\n",
       "</div>\n",
       "      <button class=\"colab-df-convert\" onclick=\"convertToInteractive('df-2bc57081-5e18-47bc-9e82-b3ef7c1fe990')\"\n",
       "              title=\"Convert this dataframe to an interactive table.\"\n",
       "              style=\"display:none;\">\n",
       "        \n",
       "  <svg xmlns=\"http://www.w3.org/2000/svg\" height=\"24px\"viewBox=\"0 0 24 24\"\n",
       "       width=\"24px\">\n",
       "    <path d=\"M0 0h24v24H0V0z\" fill=\"none\"/>\n",
       "    <path d=\"M18.56 5.44l.94 2.06.94-2.06 2.06-.94-2.06-.94-.94-2.06-.94 2.06-2.06.94zm-11 1L8.5 8.5l.94-2.06 2.06-.94-2.06-.94L8.5 2.5l-.94 2.06-2.06.94zm10 10l.94 2.06.94-2.06 2.06-.94-2.06-.94-.94-2.06-.94 2.06-2.06.94z\"/><path d=\"M17.41 7.96l-1.37-1.37c-.4-.4-.92-.59-1.43-.59-.52 0-1.04.2-1.43.59L10.3 9.45l-7.72 7.72c-.78.78-.78 2.05 0 2.83L4 21.41c.39.39.9.59 1.41.59.51 0 1.02-.2 1.41-.59l7.78-7.78 2.81-2.81c.8-.78.8-2.07 0-2.86zM5.41 20L4 18.59l7.72-7.72 1.47 1.35L5.41 20z\"/>\n",
       "  </svg>\n",
       "      </button>\n",
       "      \n",
       "  <style>\n",
       "    .colab-df-container {\n",
       "      display:flex;\n",
       "      flex-wrap:wrap;\n",
       "      gap: 12px;\n",
       "    }\n",
       "\n",
       "    .colab-df-convert {\n",
       "      background-color: #E8F0FE;\n",
       "      border: none;\n",
       "      border-radius: 50%;\n",
       "      cursor: pointer;\n",
       "      display: none;\n",
       "      fill: #1967D2;\n",
       "      height: 32px;\n",
       "      padding: 0 0 0 0;\n",
       "      width: 32px;\n",
       "    }\n",
       "\n",
       "    .colab-df-convert:hover {\n",
       "      background-color: #E2EBFA;\n",
       "      box-shadow: 0px 1px 2px rgba(60, 64, 67, 0.3), 0px 1px 3px 1px rgba(60, 64, 67, 0.15);\n",
       "      fill: #174EA6;\n",
       "    }\n",
       "\n",
       "    [theme=dark] .colab-df-convert {\n",
       "      background-color: #3B4455;\n",
       "      fill: #D2E3FC;\n",
       "    }\n",
       "\n",
       "    [theme=dark] .colab-df-convert:hover {\n",
       "      background-color: #434B5C;\n",
       "      box-shadow: 0px 1px 3px 1px rgba(0, 0, 0, 0.15);\n",
       "      filter: drop-shadow(0px 1px 2px rgba(0, 0, 0, 0.3));\n",
       "      fill: #FFFFFF;\n",
       "    }\n",
       "  </style>\n",
       "\n",
       "      <script>\n",
       "        const buttonEl =\n",
       "          document.querySelector('#df-2bc57081-5e18-47bc-9e82-b3ef7c1fe990 button.colab-df-convert');\n",
       "        buttonEl.style.display =\n",
       "          google.colab.kernel.accessAllowed ? 'block' : 'none';\n",
       "\n",
       "        async function convertToInteractive(key) {\n",
       "          const element = document.querySelector('#df-2bc57081-5e18-47bc-9e82-b3ef7c1fe990');\n",
       "          const dataTable =\n",
       "            await google.colab.kernel.invokeFunction('convertToInteractive',\n",
       "                                                     [key], {});\n",
       "          if (!dataTable) return;\n",
       "\n",
       "          const docLinkHtml = 'Like what you see? Visit the ' +\n",
       "            '<a target=\"_blank\" href=https://colab.research.google.com/notebooks/data_table.ipynb>data table notebook</a>'\n",
       "            + ' to learn more about interactive tables.';\n",
       "          element.innerHTML = '';\n",
       "          dataTable['output_type'] = 'display_data';\n",
       "          await google.colab.output.renderOutput(dataTable, element);\n",
       "          const docLink = document.createElement('div');\n",
       "          docLink.innerHTML = docLinkHtml;\n",
       "          element.appendChild(docLink);\n",
       "        }\n",
       "      </script>\n",
       "    </div>\n",
       "  </div>\n",
       "  "
      ],
      "text/plain": [
       "     CID              Text1              Text2              Text3  \\\n",
       "0  13423  36299314371465115  80863063189271954  63958247734036116   \n",
       "1   9756  14725226461922878  96063464837486497  06721988467633099   \n",
       "2  23398  39903769362037100  72699883224957235  11909777736790695   \n",
       "3   8410  53756806395841111  27669533575242309  31639813583757914   \n",
       "4   2458  60208094144840667  20280029198647181  46065040992240920   \n",
       "\n",
       "               Text4  class  \n",
       "0  88823799597625198      1  \n",
       "1  16943911818725952      0  \n",
       "2  12258884134001138      0  \n",
       "3  58447443094807270      1  \n",
       "4  07992379435557794      0  "
      ]
     },
     "execution_count": 23,
     "metadata": {},
     "output_type": "execute_result"
    }
   ],
   "source": [
    "df.head()"
   ]
  },
  {
   "cell_type": "code",
   "execution_count": 24,
   "metadata": {
    "colab": {
     "base_uri": "https://localhost:8080/"
    },
    "id": "tq91ovkksLKo",
    "outputId": "c5eaa6f8-c90b-44bb-f5bd-1ddb2642cff3"
   },
   "outputs": [
    {
     "data": {
      "text/plain": [
       "1    12500\n",
       "0    12500\n",
       "Name: class, dtype: int64"
      ]
     },
     "execution_count": 24,
     "metadata": {},
     "output_type": "execute_result"
    }
   ],
   "source": [
    "df['class'].value_counts()"
   ]
  },
  {
   "cell_type": "code",
   "execution_count": 25,
   "metadata": {
    "colab": {
     "base_uri": "https://localhost:8080/"
    },
    "id": "NGtTJi65r-KM",
    "outputId": "fad28aa8-1fc9-4f2e-a0fb-e26f51243904"
   },
   "outputs": [
    {
     "data": {
      "text/plain": [
       "(25000, 6)"
      ]
     },
     "execution_count": 25,
     "metadata": {},
     "output_type": "execute_result"
    }
   ],
   "source": [
    "df.shape"
   ]
  },
  {
   "cell_type": "code",
   "execution_count": 26,
   "metadata": {
    "id": "dlvsExukc8ZS"
   },
   "outputs": [],
   "source": [
    "# pd.to_numeric(df['Text1'])"
   ]
  },
  {
   "cell_type": "code",
   "execution_count": 27,
   "metadata": {
    "id": "YM9NniNLe5fa"
   },
   "outputs": [],
   "source": [
    "C1= pd.to_numeric(df['Text1']) \n",
    "C1=C1.to_numpy()\n",
    "C2= pd.to_numeric(df['Text2']) \n",
    "C2=C2.to_numpy()\n",
    "C3= pd.to_numeric(df['Text3']) \n",
    "C3=C3.to_numpy()\n",
    "C4= pd.to_numeric(df['Text4']) \n",
    "C4=C4.to_numpy()\n",
    "# C5= pd.to_numeric(df['Text5']) \n",
    "# C5=C5.to_numpy()\n",
    "# C6= pd.to_numeric(df['Text6']) \n",
    "# C6=C6.to_numpy()\n",
    "# C7= pd.to_numeric(df['Text7']) \n",
    "# C7=C7.to_numpy()\n",
    "# C8= pd.to_numeric(df['Text8']) \n",
    "# C8=C8.to_numpy()\n",
    "# C9= pd.to_numeric(df['Text9']) \n",
    "# C9=C9.to_numpy()\n",
    "# C10= pd.to_numeric(df['Text10']) \n",
    "# C10=C10.to_numpy()\n",
    "# C11= pd.to_numeric(df['Text11']) \n",
    "# C11=C11.to_numpy()\n",
    "# C12= pd.to_numeric(df['Text12']) \n",
    "# C12=C12.to_numpy()\n",
    "# C13= pd.to_numeric(df['Text13']) \n",
    "# C13=C13.to_numpy()\n",
    "# C14= pd.to_numeric(df['Text14']) \n",
    "# C14=C14.to_numpy()\n",
    "# C15= pd.to_numeric(df['Text15']) \n",
    "# C15=C15.to_numpy()\n",
    "# C16= pd.to_numeric(df['Text16']) \n",
    "# C16=C16.to_numpy()\n",
    "# C17= pd.to_numeric(df['Text17']) \n",
    "# C17=C17.to_numpy()\n",
    "# C18= pd.to_numeric(df['Text18']) \n",
    "# C18=C18.to_numpy()\n",
    "# C19= pd.to_numeric(df['Text19']) \n",
    "# C19=C19.to_numpy()\n",
    "# C20= pd.to_numeric(df['Text20']) \n",
    "# C20=C20.to_numpy()\n",
    "# C21= pd.to_numeric(df['Text21']) \n",
    "# C21=C21.to_numpy()\n",
    "# C22= pd.to_numeric(df['Text22']) \n",
    "# C22=C22.to_numpy()\n",
    "# C23= pd.to_numeric(df['Text23']) \n",
    "# C23=C23.to_numpy()\n",
    "# C24= pd.to_numeric(df['Text24']) \n",
    "# C24=C24.to_numpy()\n",
    "# C25= pd.to_numeric(df['Text25']) \n",
    "# C25=C25.to_numpy()\n",
    "# C26= pd.to_numeric(df['Text26']) \n",
    "# C26=C26.to_numpy()\n",
    "# C27= pd.to_numeric(df['Text27']) \n",
    "# C27=C27.to_numpy()\n",
    "# C28= pd.to_numeric(df['Text28']) \n",
    "# C28=C28.to_numpy()\n",
    "# C29= pd.to_numeric(df['Text29']) \n",
    "# C29=C29.to_numpy()\n",
    "# C30= pd.to_numeric(df['Text30']) \n",
    "# C30=C30.to_numpy()\n",
    "# C31= pd.to_numeric(df['Text31']) \n",
    "# C31=C31.to_numpy()\n",
    "# C32= pd.to_numeric(df['Text32']) \n",
    "# C32=C32.to_numpy()\n",
    "# C33= pd.to_numeric(df['Text33']) \n",
    "# C33=C33.to_numpy()\n",
    "# C34= pd.to_numeric(df['Text34']) \n",
    "# C34=C34.to_numpy()\n",
    "# C35= pd.to_numeric(df['Text35']) \n",
    "# C35=C35.to_numpy()\n",
    "# C36= pd.to_numeric(df['Text36']) \n",
    "# C36=C36.to_numpy()\n",
    "# C37= pd.to_numeric(df['Text37']) \n",
    "# C37=C37.to_numpy()\n",
    "# C38= pd.to_numeric(df['Text38']) \n",
    "# C38=C38.to_numpy()\n",
    "# C39= pd.to_numeric(df['Text39']) \n",
    "# C39=C39.to_numpy()\n",
    "# C40= pd.to_numeric(df['Text40']) \n",
    "# C40=C40.to_numpy()\n",
    "# C41= pd.to_numeric(df['Text41']) \n",
    "# C41=C41.to_numpy()\n",
    "# C42= pd.to_numeric(df['Text42']) \n",
    "# C42=C42.to_numpy()\n",
    "# C43= pd.to_numeric(df['Text43']) \n",
    "# C43=C43.to_numpy()\n",
    "# C44= pd.to_numeric(df['Text44']) \n",
    "# C44=C44.to_numpy()\n",
    "# C45= pd.to_numeric(df['Text45']) \n",
    "# C45=C45.to_numpy()\n",
    "# C46= pd.to_numeric(df['Text46']) \n",
    "# C46=C46.to_numpy()\n",
    "# C47= pd.to_numeric(df['Text47']) \n",
    "# C47=C47.to_numpy()\n",
    "# C48= pd.to_numeric(df['Text48']) \n",
    "# C48=C48.to_numpy()\n",
    "# C49= pd.to_numeric(df['Text49']) \n",
    "# C49=C49.to_numpy()\n",
    "# C50= pd.to_numeric(df['Text50']) \n",
    "# C50=C50.to_numpy()\n",
    "# C51= pd.to_numeric(df['Text51']) \n",
    "# C51=C51.to_numpy()\n",
    "# C52= pd.to_numeric(df['Text52']) \n",
    "# C52=C52.to_numpy()\n",
    "# C53= pd.to_numeric(df['Text53']) \n",
    "# C53=C53.to_numpy()\n",
    "# C54= pd.to_numeric(df['Text54']) \n",
    "# C54=C54.to_numpy()\n",
    "# C55= pd.to_numeric(df['Text55']) \n",
    "# C55=C55.to_numpy()\n",
    "# C56= pd.to_numeric(df['Text56']) \n",
    "# C56=C56.to_numpy()\n",
    "# C57= pd.to_numeric(df['Text57']) \n",
    "# C57=C57.to_numpy()\n",
    "# C58= pd.to_numeric(df['Text58']) \n",
    "# C58=C58.to_numpy()\n",
    "# C59= pd.to_numeric(df['Text59']) \n",
    "# C59=C59.to_numpy()\n",
    "# C60= pd.to_numeric(df['Text60']) \n",
    "# C60=C60.to_numpy()\n",
    "# C61= pd.to_numeric(df['Text61']) \n",
    "# C61=C61.to_numpy()\n",
    "# C62= pd.to_numeric(df['Text62']) \n",
    "# C62=C62.to_numpy()\n",
    "# C63= pd.to_numeric(df['Text63']) \n",
    "# C63=C63.to_numpy()\n",
    "# C64= pd.to_numeric(df['Text64']) \n",
    "# C64=C64.to_numpy()\n",
    "# C65= pd.to_numeric(df['Text65']) \n",
    "# C65=C65.to_numpy()\n",
    "# C66= pd.to_numeric(df['Text66']) \n",
    "# C66=C66.to_numpy()\n",
    "# C67= pd.to_numeric(df['Text67']) \n",
    "# C67=C67.to_numpy()\n",
    "# C68= pd.to_numeric(df['Text68']) \n",
    "# C68=C68.to_numpy()\n",
    "# C69= pd.to_numeric(df['Text69']) \n",
    "# C69=C69.to_numpy()\n",
    "# C70= pd.to_numeric(df['Text70']) \n",
    "# C70=C70.to_numpy()\n",
    "# C71= pd.to_numeric(df['Text71']) \n",
    "# C71=C71.to_numpy()\n",
    "# C72= pd.to_numeric(df['Text72']) \n",
    "# C72=C72.to_numpy()\n",
    "# C73= pd.to_numeric(df['Text73']) \n",
    "# C73=C73.to_numpy()\n",
    "# C74= pd.to_numeric(df['Text74']) \n",
    "# C74=C74.to_numpy()\n",
    "# C75= pd.to_numeric(df['Text75']) \n",
    "# C75=C75.to_numpy()\n",
    "# C76= pd.to_numeric(df['Text76']) \n",
    "# C76=C76.to_numpy()\n",
    "# C77= pd.to_numeric(df['Text77']) \n",
    "# C77=C77.to_numpy()\n",
    "# C78= pd.to_numeric(df['Text78']) \n",
    "# C78=C78.to_numpy()\n",
    "# C79= pd.to_numeric(df['Text79']) \n",
    "# C79=C79.to_numpy()\n",
    "# C80= pd.to_numeric(df['Text80']) \n",
    "# C80=C80.to_numpy()\n",
    "# C81= pd.to_numeric(df['Text81']) \n",
    "# C81=C81.to_numpy()\n",
    "# C82= pd.to_numeric(df['Text82']) \n",
    "# C82=C82.to_numpy()\n",
    "# C83= pd.to_numeric(df['Text83']) \n",
    "# C83=C83.to_numpy()\n",
    "# C84= pd.to_numeric(df['Text84']) \n",
    "# C84=C84.to_numpy()\n",
    "# C85= pd.to_numeric(df['Text85']) \n",
    "# C85=C85.to_numpy()\n",
    "# C86= pd.to_numeric(df['Text86']) \n",
    "# C86=C86.to_numpy()\n",
    "# C87= pd.to_numeric(df['Text87']) \n",
    "# C87=C87.to_numpy()\n",
    "# C88= pd.to_numeric(df['Text88']) \n",
    "# C88=C88.to_numpy()\n",
    "# C89= pd.to_numeric(df['Text89']) \n",
    "# C89=C89.to_numpy()\n",
    "# C90= pd.to_numeric(df['Text90']) \n",
    "# C90=C90.to_numpy()\n",
    "# C91= pd.to_numeric(df['Text91']) \n",
    "# C91=C91.to_numpy()\n",
    "# C92= pd.to_numeric(df['Text92']) \n",
    "# C92=C92.to_numpy()\n",
    "# C93= pd.to_numeric(df['Text93']) \n",
    "# C93=C93.to_numpy()\n",
    "# C94= pd.to_numeric(df['Text94']) \n",
    "# C94=C94.to_numpy()\n",
    "# C95= pd.to_numeric(df['Text95']) \n",
    "# C95=C95.to_numpy()\n",
    "# C96= pd.to_numeric(df['Text96']) \n",
    "# C96=C96.to_numpy()\n",
    "# C97= pd.to_numeric(df['Text97']) \n",
    "# C97=C97.to_numpy()\n",
    "# C98= pd.to_numeric(df['Text98']) \n",
    "# C98=C98.to_numpy()\n",
    "# C99= pd.to_numeric(df['Text99']) \n",
    "# C99=C99.to_numpy()\n",
    "# C100= pd.to_numeric(df['Text100']) \n",
    "# C100=C100.to_numpy()\n",
    "# C101= pd.to_numeric(df['Text101']) \n",
    "# C101=C101.to_numpy()\n",
    "# C102= pd.to_numeric(df['Text102']) \n",
    "# C102=C102.to_numpy()\n",
    "# C103= pd.to_numeric(df['Text103']) \n",
    "# C103=C103.to_numpy()\n",
    "# C104= pd.to_numeric(df['Text104']) \n",
    "# C104=C104.to_numpy()\n",
    "# C105= pd.to_numeric(df['Text105']) \n",
    "# C105=C105.to_numpy()\n",
    "# C106= pd.to_numeric(df['Text106']) \n",
    "# C106=C106.to_numpy()\n",
    "# C107= pd.to_numeric(df['Text107']) \n",
    "# C107=C107.to_numpy()\n",
    "# C108= pd.to_numeric(df['Text108']) \n",
    "# C108=C108.to_numpy()\n",
    "# C109= pd.to_numeric(df['Text109']) \n",
    "# C109=C109.to_numpy()\n",
    "# C110= pd.to_numeric(df['Text110']) \n",
    "# C110=C110.to_numpy()\n",
    "# C111= pd.to_numeric(df['Text111']) \n",
    "# C111=C111.to_numpy()\n",
    "# C112= pd.to_numeric(df['Text112']) \n",
    "# C112=C112.to_numpy()\n",
    "# C113= pd.to_numeric(df['Text113']) \n",
    "# C113=C113.to_numpy()\n",
    "# C114= pd.to_numeric(df['Text114']) \n",
    "# C114=C114.to_numpy()\n",
    "# C115= pd.to_numeric(df['Text115']) \n",
    "# C115=C115.to_numpy()\n",
    "# C116= pd.to_numeric(df['Text116']) \n",
    "# C116=C116.to_numpy()\n",
    "# C117= pd.to_numeric(df['Text117']) \n",
    "# C117=C117.to_numpy()\n",
    "# C118= pd.to_numeric(df['Text118']) \n",
    "# C118=C118.to_numpy()\n",
    "# C119= pd.to_numeric(df['Text119']) \n",
    "# C119=C119.to_numpy()\n",
    "# C120= pd.to_numeric(df['Text120']) \n",
    "# C120=C120.to_numpy()\n",
    "# C121= pd.to_numeric(df['Text121']) \n",
    "# C121=C121.to_numpy()\n",
    "# C122= pd.to_numeric(df['Text122']) \n",
    "# C122=C122.to_numpy()\n",
    "# C123= pd.to_numeric(df['Text123']) \n",
    "# C123=C123.to_numpy()\n",
    "# C124= pd.to_numeric(df['Text124']) \n",
    "# C124=C124.to_numpy()\n",
    "# C125= pd.to_numeric(df['Text125']) \n",
    "# C125=C125.to_numpy()\n",
    "# C126= pd.to_numeric(df['Text126']) \n",
    "# C126=C126.to_numpy()\n",
    "# C127= pd.to_numeric(df['Text127']) \n",
    "# C127=C127.to_numpy()\n",
    "# C128= pd.to_numeric(df['Text128']) \n",
    "# C128=C128.to_numpy()\n",
    "# C129= pd.to_numeric(df['Text129']) \n",
    "# C129=C129.to_numpy()\n",
    "# C130= pd.to_numeric(df['Text130']) \n",
    "# C130=C130.to_numpy()\n",
    "# C131= pd.to_numeric(df['Text131']) \n",
    "# C131=C131.to_numpy()\n",
    "# C132= pd.to_numeric(df['Text132']) \n",
    "# C132=C132.to_numpy()\n",
    "# C133= pd.to_numeric(df['Text133']) \n",
    "# C133=C133.to_numpy()\n",
    "# C134= pd.to_numeric(df['Text134']) \n",
    "# C134=C134.to_numpy()\n",
    "# C135= pd.to_numeric(df['Text135']) \n",
    "# C135=C135.to_numpy()\n",
    "# C136= pd.to_numeric(df['Text136']) \n",
    "# C136=C136.to_numpy()\n",
    "# C137= pd.to_numeric(df['Text137']) \n",
    "# C137=C137.to_numpy()\n",
    "# C138= pd.to_numeric(df['Text138']) \n",
    "# C138=C138.to_numpy()\n",
    "# C139= pd.to_numeric(df['Text139']) \n",
    "# C139=C139.to_numpy()\n",
    "# C140= pd.to_numeric(df['Text140']) \n",
    "# C140=C140.to_numpy()\n",
    "# C141= pd.to_numeric(df['Text141']) \n",
    "# C141=C141.to_numpy()\n",
    "# C142= pd.to_numeric(df['Text142']) \n",
    "# C142=C142.to_numpy()\n",
    "\n",
    "# C = [C1,C2,C3,C4,C5,C6,C7,C8,C9,C10,C11,C12,C13,C14,C15,C16,C17,C18,C19,C20,C21,C22,C23,C24,C25,C26,C27,C28,C29,C30,C31,C32,C33,C34,C35,C36,C37,C38,C39,C40,C41,C42,C43,C44,C45,C46,C47,C48,C49,C50,C51,C52,C53,C54,C55,C56,C57,C58,C59,C60,C61,C62,C63,C64,C65,C66,C67,C68,C69,C70,C71,C72,C73,C74,C75,C76,C77,C78,C79,C80,C81,C82,C83,C84,C85,C86,C87,C88,C89,C90,C91,C92,C93,C94,C95,C96,C97,C98,C99,C100,C101,C102,C103,C104,C105,C106,C107,C108,C109,C110,C111,C112,C113,C114,C115,C116,C117,C118,C119,C120,C121,C122,C123,C124,C125,C126,C127,C128,C129,C130,C131,C132,C133,C134,C135,C136,C137,C138,C139,C140,C141,C142]\n",
    "C = [C1,C2,C3,C4]\n",
    "\n",
    "Y = df['class'].to_numpy()\n",
    "Y = Y.astype(int)"
   ]
  },
  {
   "cell_type": "code",
   "execution_count": 28,
   "metadata": {
    "id": "8GlFSRg5dwbL"
   },
   "outputs": [],
   "source": [
    "# len(C), len(C[0])"
   ]
  },
  {
   "cell_type": "code",
   "execution_count": 29,
   "metadata": {
    "id": "ItaMejcBe2La"
   },
   "outputs": [],
   "source": [
    "def WORD_SIZE():\n",
    "  return(32);\n",
    "def convert_to_binary(arr):\n",
    "  X1 = np.zeros((4 * WORD_SIZE(),len(arr[0])),dtype=np.uint8);\n",
    "  for i in range(4 * WORD_SIZE()):\n",
    "    index = i // WORD_SIZE();\n",
    "    #print(index)\n",
    "    offset = WORD_SIZE() - (i % WORD_SIZE()) - 1;\n",
    "    X1[i] = ((arr[index]) >> offset) & 1;#they are only considering starting 4 chunks of arr i.e., C\n",
    "    #print(f\"X1[{i}]\",X1[i], len(X1[i]))\n",
    "    \n",
    "  #print(X1)\n",
    "  X1 = X1.transpose();\n",
    "  \n",
    "  return(X1);\n",
    "\n",
    "X=convert_to_binary(C)\n",
    "\n"
   ]
  },
  {
   "cell_type": "code",
   "execution_count": 30,
   "metadata": {
    "id": "CYRwfTu7e6IJ"
   },
   "outputs": [],
   "source": [
    "# C[0], (C[0]>>1)&1"
   ]
  },
  {
   "cell_type": "code",
   "execution_count": 31,
   "metadata": {
    "colab": {
     "base_uri": "https://localhost:8080/"
    },
    "id": "mLR6cNsPey8k",
    "outputId": "5625f44f-4a4d-4543-9e6b-d608d5b2d081"
   },
   "outputs": [
    {
     "data": {
      "text/plain": [
       "(25000, 128)"
      ]
     },
     "execution_count": 31,
     "metadata": {},
     "output_type": "execute_result"
    }
   ],
   "source": [
    "X.shape"
   ]
  },
  {
   "cell_type": "code",
   "execution_count": 32,
   "metadata": {
    "id": "IE30nlJlev1r"
   },
   "outputs": [],
   "source": [
    "import numpy as np\n",
    "seed=9\n",
    "np.random.seed(seed)\n",
    "X_train, X_val, y_train, y_val = train_test_split(X, Y, test_size=0.20,random_state=seed)\n",
    "X_val, X_test, y_val, y_test = train_test_split(X_val, y_val, test_size=0.50,random_state=seed)\n",
    "\n",
    "# len(X_test)\n",
    "\n",
    "X_train = X_train[..., np.newaxis]\n",
    "#X_test = X[..., np.newaxis]\n",
    "\n",
    "X_train = X_train[..., np.newaxis]\n",
    "#X_test = X_test[..., np.newaxis]"
   ]
  },
  {
   "cell_type": "code",
   "execution_count": 33,
   "metadata": {
    "id": "Ay4YlbZ6lKcQ"
   },
   "outputs": [],
   "source": [
    "X_val = X_val[..., np.newaxis]\n",
    "X_val = X_val[..., np.newaxis]\n",
    "\n",
    "X_test = X_test[..., np.newaxis]\n",
    "X_test = X_test[..., np.newaxis]"
   ]
  },
  {
   "cell_type": "code",
   "execution_count": 34,
   "metadata": {
    "id": "jANOGnrcfHRD"
   },
   "outputs": [],
   "source": [
    "#Please add the model datapath\n",
    "url=\"CRL_Best_V1.h5\""
   ]
  },
  {
   "cell_type": "code",
   "execution_count": 35,
   "metadata": {
    "id": "PanYUMwdfpyH"
   },
   "outputs": [],
   "source": [
    "#len(X_test)\n",
    "from keras.models import load_model\n",
    "model = load_model(url)"
   ]
  },
  {
   "cell_type": "code",
   "execution_count": 36,
   "metadata": {
    "id": "vGwvnXH6i2IE"
   },
   "outputs": [],
   "source": [
    "# model.summary()"
   ]
  },
  {
   "cell_type": "code",
   "execution_count": 37,
   "metadata": {
    "id": "cMNgnNBWUmF-"
   },
   "outputs": [],
   "source": [
    "# model.get_layer(\"dense\").get_config()"
   ]
  },
  {
   "cell_type": "code",
   "execution_count": 38,
   "metadata": {
    "id": "dNms_dHJf5xK"
   },
   "outputs": [],
   "source": [
    "xa = model.layers[-2].output\n",
    "# xb = Dense(units=512, activation='sigmoid')(xa)\n",
    "# xc = Dense(units=128, activation='sigmoid')(xb)\n",
    "# xd = Dense(units=32, activation='sigmoid')(xc)\n",
    "#xe = Dense(units=4, activation='relu')(xa)\n",
    "output = Dense(units=2, activation='softmax')(xa)"
   ]
  },
  {
   "cell_type": "code",
   "execution_count": 39,
   "metadata": {
    "id": "zxroz-ZygqyH"
   },
   "outputs": [],
   "source": [
    "from keras.models import Model\n",
    "new_model = Model(inputs=model.input, outputs=output)"
   ]
  },
  {
   "cell_type": "code",
   "execution_count": 40,
   "metadata": {
    "colab": {
     "base_uri": "https://localhost:8080/"
    },
    "id": "_E-vwqAJxx7e",
    "outputId": "76a11cc8-cc95-456f-ea12-c73764256064"
   },
   "outputs": [
    {
     "data": {
      "text/plain": [
       "423"
      ]
     },
     "execution_count": 40,
     "metadata": {},
     "output_type": "execute_result"
    }
   ],
   "source": [
    "len(new_model.layers)"
   ]
  },
  {
   "cell_type": "code",
   "execution_count": 41,
   "metadata": {
    "colab": {
     "base_uri": "https://localhost:8080/"
    },
    "id": "r1Po8bOZjOLh",
    "outputId": "05d4ea33-0cde-44b1-91fe-93079f3ed1f7"
   },
   "outputs": [
    {
     "name": "stdout",
     "output_type": "stream",
     "text": [
      "Epoch 1/5\n",
      "625/625 - 157s - loss: 0.7002 - accuracy: 0.5055 - val_loss: 0.7005 - val_accuracy: 0.4792 - 157s/epoch - 251ms/step\n",
      "Epoch 2/5\n",
      "625/625 - 48s - loss: 0.6817 - accuracy: 0.5646 - val_loss: 0.7130 - val_accuracy: 0.4920 - 48s/epoch - 76ms/step\n",
      "Epoch 3/5\n",
      "625/625 - 49s - loss: 0.6185 - accuracy: 0.6587 - val_loss: 0.7954 - val_accuracy: 0.4908 - 49s/epoch - 79ms/step\n",
      "Epoch 4/5\n",
      "625/625 - 50s - loss: 0.4570 - accuracy: 0.7850 - val_loss: 0.9843 - val_accuracy: 0.4852 - 50s/epoch - 80ms/step\n",
      "Epoch 5/5\n",
      "625/625 - 50s - loss: 0.2559 - accuracy: 0.8925 - val_loss: 1.3710 - val_accuracy: 0.4776 - 50s/epoch - 80ms/step\n"
     ]
    },
    {
     "data": {
      "text/plain": [
       "<keras.callbacks.History at 0x7fa4306669a0>"
      ]
     },
     "execution_count": 41,
     "metadata": {},
     "output_type": "execute_result"
    }
   ],
   "source": [
    "# model.compile(loss='sparse_categorical_crossentropy', optimizer='adam', metrics=['accuracy'])\n",
    "# model.fit(x = X_train, y=y_train,epochs=5, verbose=2, validation_data=(X_val, y_val))\n",
    "\n",
    "new_model.compile(loss='sparse_categorical_crossentropy', optimizer='Adam', metrics=['accuracy'])\n",
    "new_model.fit(x = X_train, y=y_train,epochs=5, verbose=2, validation_data=(X_val, y_val))"
   ]
  },
  {
   "cell_type": "code",
   "execution_count": 42,
   "metadata": {
    "colab": {
     "base_uri": "https://localhost:8080/"
    },
    "id": "M5dLhy40wW2Z",
    "outputId": "0fd610d5-c7ec-4b32-8f6e-9f84801a2970"
   },
   "outputs": [
    {
     "name": "stdout",
     "output_type": "stream",
     "text": [
      "79/79 [==============================] - 3s 13ms/step\n",
      "Prediction Values: [[0.9345859  0.06541406]\n",
      " [0.76537144 0.23462856]\n",
      " [0.6277007  0.37229928]\n",
      " ...\n",
      " [0.20200793 0.7979921 ]\n",
      " [0.62377626 0.37622374]\n",
      " [0.22965059 0.77034944]]\n",
      "[0, 0, 0, 1, 1, 0, 1, 1, 1, 0, 0, 1, 1, 1, 1, 1, 0, 0, 1, 1, 0, 1, 0, 1, 1, 0, 1, 1, 1, 1, 1, 1, 0, 0, 1, 0, 0, 1, 1, 1, 1, 1, 1, 1, 0, 1, 0, 1, 1, 0, 1, 1, 0, 0, 0, 0, 0, 1, 1, 1, 0, 1, 1, 0, 0, 0, 1, 1, 1, 0, 1, 1, 0, 0, 0, 0, 1, 0, 0, 0, 0, 1, 0, 1, 1, 1, 1, 0, 1, 0, 0, 0, 1, 1, 0, 1, 1, 0, 1, 0, 1, 1, 1, 1, 0, 0, 1, 1, 1, 0, 0, 1, 1, 1, 0, 1, 0, 0, 1, 1, 1, 1, 0, 1, 1, 1, 0, 1, 0, 1, 0, 0, 0, 0, 0, 0, 0, 0, 1, 1, 1, 0, 0, 0, 0, 0, 1, 0, 1, 0, 1, 1, 0, 0, 0, 0, 1, 0, 1, 0, 0, 1, 1, 0, 1, 1, 0, 1, 0, 0, 0, 1, 1, 1, 0, 1, 1, 0, 0, 1, 0, 0, 0, 0, 0, 0, 0, 0, 0, 0, 1, 0, 1, 0, 1, 0, 1, 1, 0, 1, 0, 0, 1, 0, 0, 1, 1, 0, 0, 1, 1, 1, 0, 0, 0, 1, 1, 1, 0, 0, 1, 1, 1, 1, 1, 0, 1, 0, 0, 0, 1, 1, 1, 1, 0, 0, 1, 1, 0, 1, 0, 1, 0, 1, 0, 1, 0, 0, 1, 1, 1, 0, 0, 0, 1, 1, 0, 0, 0, 1, 1, 1, 1, 1, 0, 0, 1, 0, 1, 1, 1, 1, 1, 0, 0, 0, 0, 1, 1, 0, 0, 1, 1, 0, 0, 1, 0, 1, 1, 1, 1, 0, 1, 0, 1, 1, 1, 1, 1, 1, 1, 1, 0, 0, 0, 1, 1, 0, 0, 0, 1, 0, 0, 1, 0, 0, 1, 0, 1, 0, 1, 1, 1, 1, 1, 1, 0, 0, 1, 0, 1, 1, 1, 1, 0, 1, 0, 0, 0, 1, 0, 0, 0, 0, 0, 0, 1, 1, 1, 0, 0, 1, 0, 1, 1, 1, 0, 0, 1, 0, 1, 0, 0, 1, 1, 0, 0, 1, 1, 1, 1, 1, 0, 0, 1, 1, 0, 0, 0, 0, 1, 1, 0, 0, 0, 1, 1, 0, 1, 0, 1, 1, 0, 1, 0, 1, 0, 1, 0, 1, 1, 1, 1, 1, 0, 0, 1, 1, 0, 0, 1, 0, 1, 0, 0, 0, 0, 0, 1, 0, 0, 1, 1, 1, 1, 1, 1, 1, 1, 1, 0, 1, 1, 0, 1, 1, 1, 1, 0, 1, 0, 1, 0, 1, 0, 1, 1, 0, 1, 1, 0, 0, 1, 1, 1, 1, 0, 1, 1, 1, 1, 0, 0, 1, 1, 0, 0, 1, 1, 1, 0, 1, 0, 1, 0, 1, 1, 0, 1, 1, 0, 1, 1, 1, 1, 0, 0, 0, 0, 0, 1, 0, 1, 0, 0, 0, 0, 0, 1, 1, 0, 1, 1, 0, 1, 1, 0, 1, 1, 0, 0, 1, 0, 0, 1, 0, 1, 0, 0, 1, 0, 0, 0, 1, 1, 0, 0, 1, 1, 1, 0, 1, 1, 1, 1, 0, 0, 1, 1, 1, 0, 0, 1, 1, 1, 0, 0, 0, 0, 1, 0, 1, 1, 1, 1, 0, 0, 0, 0, 1, 0, 0, 1, 1, 0, 0, 0, 0, 1, 0, 0, 0, 1, 1, 0, 0, 1, 0, 1, 1, 0, 0, 0, 1, 1, 0, 1, 1, 1, 1, 1, 0, 1, 1, 0, 1, 0, 0, 1, 1, 1, 1, 1, 1, 0, 0, 0, 1, 0, 0, 0, 1, 1, 0, 1, 0, 0, 1, 1, 0, 0, 0, 0, 1, 0, 1, 0, 1, 0, 0, 0, 0, 1, 1, 1, 1, 1, 0, 0, 1, 1, 0, 1, 0, 0, 0, 1, 1, 1, 1, 1, 1, 1, 0, 0, 1, 1, 1, 0, 0, 1, 1, 1, 0, 1, 0, 1, 0, 0, 0, 1, 1, 1, 1, 1, 1, 0, 1, 1, 1, 1, 0, 1, 0, 0, 0, 0, 0, 1, 0, 1, 1, 0, 0, 0, 0, 1, 0, 0, 1, 0, 1, 0, 0, 0, 1, 1, 1, 0, 1, 0, 0, 1, 1, 0, 1, 0, 1, 0, 1, 1, 0, 1, 1, 0, 0, 1, 1, 1, 1, 0, 0, 0, 1, 0, 1, 1, 0, 1, 0, 1, 1, 0, 0, 1, 1, 1, 1, 0, 0, 1, 1, 1, 1, 1, 1, 0, 1, 1, 1, 0, 1, 0, 0, 1, 1, 0, 1, 1, 1, 1, 0, 1, 0, 1, 1, 1, 1, 0, 1, 1, 1, 1, 0, 1, 1, 1, 1, 0, 1, 0, 1, 0, 1, 0, 1, 1, 0, 1, 0, 1, 1, 0, 0, 1, 0, 0, 1, 0, 1, 1, 0, 0, 1, 1, 0, 0, 0, 1, 1, 0, 1, 0, 0, 0, 0, 1, 0, 1, 0, 1, 1, 1, 1, 0, 0, 0, 0, 0, 1, 1, 1, 0, 0, 1, 1, 1, 1, 1, 0, 1, 0, 1, 1, 0, 0, 0, 0, 1, 1, 0, 0, 1, 0, 1, 1, 1, 1, 1, 1, 1, 1, 1, 0, 0, 1, 1, 0, 1, 0, 0, 1, 1, 0, 1, 0, 0, 1, 1, 1, 0, 0, 1, 1, 1, 1, 1, 1, 1, 1, 1, 1, 0, 0, 0, 0, 1, 0, 0, 0, 0, 0, 1, 1, 1, 1, 0, 1, 1, 1, 1, 1, 1, 0, 1, 1, 1, 1, 0, 1, 1, 1, 1, 1, 1, 1, 1, 0, 0, 1, 0, 1, 1, 1, 0, 0, 1, 1, 1, 0, 0, 1, 1, 0, 1, 0, 0, 0, 0, 0, 1, 0, 1, 1, 1, 0, 1, 0, 0, 0, 1, 1, 0, 1, 1, 1, 0, 1, 0, 1, 1, 0, 0, 1, 1, 1, 0, 0, 1, 1, 1, 0, 0, 0, 1, 1, 0, 0, 1, 0, 1, 0, 1, 1, 1, 0, 0, 0, 0, 0, 1, 0, 0, 0, 1, 0, 1, 0, 1, 1, 0, 0, 0, 0, 1, 1, 1, 1, 0, 1, 0, 0, 1, 1, 0, 1, 1, 0, 1, 0, 1, 0, 1, 0, 1, 0, 1, 0, 1, 0, 0, 1, 0, 0, 0, 1, 1, 0, 0, 1, 0, 1, 0, 0, 0, 0, 0, 1, 0, 0, 1, 0, 0, 0, 1, 0, 1, 1, 1, 1, 1, 1, 0, 0, 0, 1, 0, 1, 0, 1, 1, 1, 0, 1, 0, 1, 0, 0, 1, 0, 1, 1, 0, 1, 1, 1, 1, 1, 1, 0, 1, 0, 1, 1, 0, 0, 1, 0, 0, 0, 0, 0, 0, 1, 1, 1, 0, 1, 1, 1, 0, 1, 1, 1, 0, 0, 0, 1, 0, 1, 0, 1, 1, 1, 1, 1, 1, 0, 1, 0, 0, 0, 0, 0, 1, 1, 1, 1, 1, 1, 0, 0, 1, 0, 0, 1, 1, 1, 1, 1, 0, 0, 1, 1, 1, 0, 1, 0, 0, 0, 1, 1, 0, 1, 1, 0, 0, 0, 1, 0, 1, 1, 1, 1, 0, 0, 0, 1, 1, 0, 1, 0, 1, 1, 0, 1, 0, 1, 0, 1, 1, 1, 1, 1, 1, 1, 0, 1, 1, 0, 1, 0, 1, 0, 1, 1, 0, 1, 0, 0, 1, 0, 1, 1, 1, 1, 0, 1, 0, 1, 0, 0, 1, 0, 1, 0, 0, 0, 0, 0, 0, 1, 1, 1, 1, 1, 1, 1, 1, 0, 0, 1, 1, 0, 1, 0, 1, 1, 1, 0, 0, 1, 1, 1, 0, 0, 1, 1, 0, 1, 0, 0, 0, 0, 1, 1, 1, 1, 1, 0, 1, 1, 1, 1, 1, 1, 0, 1, 0, 1, 0, 1, 0, 0, 1, 0, 1, 1, 1, 1, 1, 0, 0, 1, 0, 1, 1, 1, 1, 1, 1, 0, 0, 1, 0, 1, 1, 0, 0, 1, 0, 1, 0, 1, 1, 1, 1, 0, 1, 0, 1, 1, 1, 1, 1, 0, 1, 1, 0, 0, 1, 1, 1, 1, 0, 0, 1, 0, 0, 0, 0, 1, 0, 1, 1, 0, 0, 1, 0, 1, 0, 0, 0, 0, 1, 0, 1, 1, 0, 0, 0, 0, 0, 1, 0, 1, 1, 0, 1, 1, 1, 1, 0, 1, 0, 1, 1, 1, 0, 0, 1, 1, 1, 0, 1, 1, 0, 1, 1, 1, 0, 0, 1, 1, 0, 1, 1, 1, 0, 0, 0, 0, 0, 0, 1, 0, 1, 0, 1, 1, 0, 0, 0, 1, 1, 0, 1, 1, 1, 0, 1, 0, 0, 1, 0, 0, 0, 0, 0, 1, 1, 1, 0, 0, 1, 1, 0, 0, 0, 1, 1, 0, 1, 1, 0, 1, 0, 1, 1, 1, 1, 0, 1, 1, 1, 0, 1, 1, 1, 1, 1, 0, 1, 0, 1, 0, 0, 0, 1, 0, 1, 0, 1, 0, 1, 0, 1, 1, 1, 0, 0, 1, 0, 0, 1, 0, 0, 0, 1, 1, 0, 1, 0, 1, 1, 1, 0, 1, 1, 1, 0, 1, 1, 1, 0, 0, 1, 1, 0, 0, 0, 0, 0, 0, 1, 0, 0, 1, 1, 1, 0, 0, 1, 1, 0, 1, 1, 1, 1, 1, 0, 1, 0, 0, 0, 1, 0, 1, 1, 1, 1, 1, 1, 1, 1, 1, 0, 0, 0, 1, 1, 1, 1, 0, 0, 1, 1, 1, 1, 0, 0, 1, 0, 1, 1, 0, 1, 0, 1, 0, 0, 1, 0, 1, 0, 0, 1, 1, 0, 1, 0, 1, 1, 1, 0, 0, 1, 0, 1, 1, 0, 1, 0, 0, 0, 0, 0, 0, 1, 1, 1, 1, 1, 1, 1, 0, 1, 1, 1, 1, 0, 1, 1, 0, 0, 1, 1, 1, 0, 0, 1, 1, 1, 1, 0, 0, 0, 0, 0, 0, 0, 1, 0, 0, 1, 1, 1, 0, 0, 1, 0, 0, 0, 1, 0, 1, 0, 1, 1, 1, 1, 1, 1, 0, 1, 0, 1, 0, 0, 1, 0, 0, 1, 1, 0, 0, 0, 0, 0, 1, 1, 1, 1, 1, 0, 1, 0, 1, 0, 0, 0, 1, 0, 1, 0, 0, 1, 1, 1, 1, 0, 1, 1, 1, 0, 1, 0, 0, 0, 0, 1, 0, 1, 0, 1, 1, 1, 1, 0, 0, 1, 0, 1, 1, 1, 1, 1, 1, 0, 0, 1, 0, 1, 1, 1, 1, 0, 0, 1, 1, 1, 0, 0, 1, 0, 1, 0, 0, 0, 0, 0, 0, 1, 0, 1, 1, 1, 1, 1, 0, 0, 1, 1, 1, 1, 1, 0, 1, 0, 1, 1, 1, 1, 0, 0, 1, 0, 0, 1, 0, 0, 1, 1, 1, 0, 0, 0, 0, 1, 1, 0, 1, 0, 1, 0, 1, 1, 0, 0, 1, 1, 1, 1, 0, 1, 0, 1, 0, 0, 1, 1, 0, 1, 0, 1, 1, 1, 0, 1, 0, 0, 0, 1, 1, 1, 1, 1, 0, 0, 0, 0, 1, 1, 0, 1, 1, 1, 0, 0, 0, 1, 0, 1, 0, 0, 1, 0, 1, 1, 0, 1, 1, 0, 1, 1, 1, 0, 1, 1, 1, 1, 0, 1, 1, 1, 0, 0, 1, 1, 0, 0, 0, 1, 0, 0, 0, 0, 1, 1, 0, 0, 1, 0, 0, 0, 0, 1, 0, 1, 0, 1, 0, 0, 1, 0, 1, 1, 1, 1, 1, 1, 0, 0, 0, 0, 0, 0, 0, 1, 0, 1, 1, 0, 0, 0, 0, 0, 0, 0, 1, 0, 0, 1, 1, 0, 1, 1, 1, 0, 0, 1, 1, 0, 1, 0, 1, 0, 1, 1, 0, 1, 1, 0, 0, 1, 1, 1, 0, 1, 1, 0, 1, 1, 0, 0, 1, 1, 1, 1, 1, 1, 1, 1, 0, 1, 0, 0, 1, 1, 1, 1, 0, 0, 0, 0, 0, 1, 1, 0, 0, 0, 1, 1, 0, 0, 0, 0, 1, 1, 1, 0, 1, 1, 1, 1, 1, 0, 0, 1, 1, 1, 0, 0, 0, 0, 1, 0, 1, 1, 0, 0, 0, 0, 1, 1, 1, 0, 1, 0, 1, 1, 0, 0, 0, 0, 0, 0, 1, 1, 1, 1, 0, 1, 1, 0, 1, 1, 1, 1, 0, 1, 0, 0, 0, 0, 0, 0, 1, 0, 1, 0, 0, 1, 1, 1, 0, 0, 1, 1, 1, 0, 0, 1, 1, 1, 1, 1, 1, 0, 1, 1, 1, 1, 1, 0, 0, 1, 0, 0, 1, 1, 1, 1, 1, 1, 1, 1, 1, 0, 1, 0, 1, 1, 1, 0, 1, 0, 0, 1, 0, 1, 1, 1, 1, 0, 1, 0, 1, 0, 1, 0, 0, 1, 0, 1, 1, 1, 0, 1, 1, 1, 0, 1, 1, 1, 0, 1, 1, 1, 0, 1, 1, 1, 1, 1, 0, 1, 0, 1, 1, 0, 0, 1, 0, 0, 1, 0, 1, 0, 1, 0, 0, 0, 0, 1, 0, 1, 1, 1, 1, 0, 1, 1, 1, 1, 1, 1, 1, 1, 1, 1, 1, 0, 0, 0, 1, 0, 0, 0, 0, 1, 1, 0, 1, 1, 1, 0, 1, 0, 1, 0, 1, 1, 0, 0, 1, 1, 1, 1, 1, 0, 0, 0, 0, 1, 0, 0, 0, 0, 0, 0, 1, 1, 0, 0, 1, 1, 0, 0, 0, 0, 0, 0, 0, 1, 1, 1, 0, 1, 1, 0, 1, 0, 0, 1, 0, 0, 1, 0, 0, 1, 0, 0, 1, 0, 1, 1, 1, 1, 1, 1, 1, 1, 0, 1, 0, 0, 1, 1, 0, 0, 1, 1, 1, 1, 1, 0, 1, 0, 1, 0, 1, 1, 1, 1, 0, 1, 0, 0, 0, 0, 0, 0, 0, 1, 1, 0, 0, 1, 0, 1, 0, 1, 0, 0, 0, 1, 0, 1, 0, 0, 0, 1, 1, 1, 0, 0, 1, 1, 1, 0, 1, 1, 0, 0, 1, 0, 1, 1, 1, 0, 0, 1, 0, 0, 0, 1, 0, 1, 0, 1, 1, 1, 0, 1, 0, 0, 0, 1, 0, 0, 0, 1, 1, 0, 0, 0, 0, 0, 1, 1, 1, 1, 0, 1, 1, 0, 1, 1, 1, 1, 0, 1, 0, 0, 0, 0, 0, 1, 0, 1, 1, 0, 1, 1, 0, 1, 0, 1, 1, 1, 0, 1, 1, 1, 0, 1, 1, 0, 1, 1, 1, 1, 0, 1, 1, 0, 0, 1, 0, 1, 1, 0, 1, 1, 0, 0, 1, 1, 0, 0, 1, 0, 1, 0, 0, 1, 0, 1, 0, 1, 0, 0, 0, 1, 0, 0, 0, 0, 0, 1, 1, 0, 0, 1, 0, 1, 0, 0, 0, 1, 0, 0, 0, 1, 1, 0, 1, 0, 0, 0, 1, 1, 0, 1, 0, 0, 1, 1, 1, 0, 1, 1, 0, 1, 1, 0, 1, 1, 0, 1, 1, 0, 1, 1, 1, 0, 1, 1, 0, 0, 1, 1, 1, 0, 0, 1, 1, 0, 1]\n"
     ]
    }
   ],
   "source": [
    "scores=new_model.predict(X_test)\n",
    "#scores=model.evaluate(X_test,y_test)\n",
    "\n",
    "print('Prediction Values:', scores)\n",
    "\n",
    "#argmax() method \n",
    "y_pred_final = [np.argmax(line) for line in scores]\n",
    "\n",
    "print(y_pred_final)"
   ]
  },
  {
   "cell_type": "code",
   "execution_count": 43,
   "metadata": {
    "colab": {
     "base_uri": "https://localhost:8080/"
    },
    "id": "R019NdMEYEUw",
    "outputId": "60608d95-46aa-4673-c5b5-ce762d701a25"
   },
   "outputs": [
    {
     "name": "stdout",
     "output_type": "stream",
     "text": [
      "79/79 [==============================] - 3s 31ms/step - loss: 1.3769 - accuracy: 0.4872\n"
     ]
    },
    {
     "data": {
      "text/plain": [
       "[1.3769267797470093, 0.487199991941452]"
      ]
     },
     "execution_count": 43,
     "metadata": {},
     "output_type": "execute_result"
    }
   ],
   "source": [
    "new_model.evaluate(X_test, y_test)"
   ]
  },
  {
   "cell_type": "code",
   "execution_count": 44,
   "metadata": {
    "colab": {
     "base_uri": "https://localhost:8080/"
    },
    "id": "G5JtZi_AYLF1",
    "outputId": "55de1a2f-4622-4b49-e8ef-a6ea41831857"
   },
   "outputs": [
    {
     "data": {
      "text/plain": [
       "array([1, 1, 0, ..., 0, 0, 1])"
      ]
     },
     "execution_count": 44,
     "metadata": {},
     "output_type": "execute_result"
    }
   ],
   "source": [
    "y_test"
   ]
  },
  {
   "cell_type": "code",
   "execution_count": 45,
   "metadata": {
    "colab": {
     "base_uri": "https://localhost:8080/",
     "height": 449
    },
    "id": "BkVg71i5YOwe",
    "outputId": "c6fcce7d-3382-4931-df1a-e17d316f97fa"
   },
   "outputs": [
    {
     "data": {
      "image/png": "[encoded data removed]",
      "text/plain": [
       "<Figure size 640x480 with 2 Axes>"
      ]
     },
     "metadata": {},
     "output_type": "display_data"
    }
   ],
   "source": [
    "from sklearn.metrics import confusion_matrix, ConfusionMatrixDisplay\n",
    "import seaborn as sns\n",
    "from matplotlib import pyplot as plt\n",
    "cm = confusion_matrix(y_test, y_pred_final)\n",
    "cm_display = ConfusionMatrixDisplay(cm)\n",
    "cm_display.plot()\n",
    "plt.show()"
   ]
  },
  {
   "cell_type": "code",
   "execution_count": 46,
   "metadata": {
    "colab": {
     "base_uri": "https://localhost:8080/"
    },
    "id": "aZY2T6gGZAxb",
    "outputId": "df8d8fac-3e09-4deb-9f5c-67ed19d3cf70"
   },
   "outputs": [
    {
     "data": {
      "text/plain": [
       "(numpy.ndarray, 2500)"
      ]
     },
     "execution_count": 46,
     "metadata": {},
     "output_type": "execute_result"
    }
   ],
   "source": [
    "type(y_test), len(y_test)"
   ]
  },
  {
   "cell_type": "code",
   "execution_count": 47,
   "metadata": {
    "id": "1C-BeAUiaRk5"
   },
   "outputs": [],
   "source": [
    "from sklearn.metrics import classification_report"
   ]
  },
  {
   "cell_type": "code",
   "execution_count": 48,
   "metadata": {
    "colab": {
     "base_uri": "https://localhost:8080/"
    },
    "id": "AJpKny4Oah1o",
    "outputId": "74f9bdc9-160c-491d-b808-f657e7b1411d"
   },
   "outputs": [
    {
     "name": "stdout",
     "output_type": "stream",
     "text": [
      "              precision    recall  f1-score   support\n",
      "\n",
      "           0       0.49      0.44      0.47      1258\n",
      "           1       0.49      0.53      0.51      1242\n",
      "\n",
      "    accuracy                           0.49      2500\n",
      "   macro avg       0.49      0.49      0.49      2500\n",
      "weighted avg       0.49      0.49      0.49      2500\n",
      "\n"
     ]
    }
   ],
   "source": [
    "print(classification_report(y_test, y_pred_final))"
   ]
  }
 ],
 "metadata": {
  "accelerator": "GPU",
  "colab": {
   "provenance": []
  },
  "gpuClass": "standard",
  "kernelspec": {
   "display_name": "Python 3 (ipykernel)",
   "language": "python",
   "name": "python3"
  },
  "language_info": {
   "codemirror_mode": {
    "name": "ipython",
    "version": 3
   },
   "file_extension": ".py",
   "mimetype": "text/x-python",
   "name": "python",
   "nbconvert_exporter": "python",
   "pygments_lexer": "ipython3",
   "version": "3.9.13"
  }
 },
 "nbformat": 4,
 "nbformat_minor": 1
}
