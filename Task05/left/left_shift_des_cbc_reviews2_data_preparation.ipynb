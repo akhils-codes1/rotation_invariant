{
 "cells": [
  {
   "cell_type": "code",
   "execution_count": 1,
   "id": "rXrm3HAfQZL9",
   "metadata": {
    "colab": {
     "base_uri": "https://localhost:8080/"
    },
    "id": "rXrm3HAfQZL9",
    "outputId": "4548bd9b-fd84-4cc6-825d-e9bb3cc51ef5"
   },
   "outputs": [
    {
     "name": "stdout",
     "output_type": "stream",
     "text": [
      "Mounted at /content/drive\n"
     ]
    }
   ],
   "source": [
    "from google.colab import drive\n",
    "drive.mount('/content/drive')"
   ]
  },
  {
   "cell_type": "code",
   "execution_count": 2,
   "id": "qLzTsm_DQc8v",
   "metadata": {
    "colab": {
     "base_uri": "https://localhost:8080/"
    },
    "id": "qLzTsm_DQc8v",
    "outputId": "78b2e3b1-ed2e-4241-d8d4-8451f06298bc"
   },
   "outputs": [
    {
     "name": "stdout",
     "output_type": "stream",
     "text": [
      "/content/drive/MyDrive/diss/apr\n"
     ]
    }
   ],
   "source": [
    "%cd \"/content/drive/MyDrive/diss/apr\""
   ]
  },
  {
   "cell_type": "code",
   "execution_count": 3,
   "id": "F1XU5BM3Qmmt",
   "metadata": {
    "colab": {
     "base_uri": "https://localhost:8080/"
    },
    "id": "F1XU5BM3Qmmt",
    "outputId": "02007eba-80d3-4dde-f9b5-70c974566b4e"
   },
   "outputs": [
    {
     "name": "stdout",
     "output_type": "stream",
     "text": [
      "aes_cbc_reviews2_1000.csv      des_cbc_reviews2_1000.csv\n",
      "aes_cbc_TrainingData_1000.csv  des_cbc_TrainingData_1000.csv\n"
     ]
    }
   ],
   "source": [
    "!ls"
   ]
  },
  {
   "cell_type": "code",
   "execution_count": 1,
   "id": "61be2edd",
   "metadata": {
    "id": "61be2edd"
   },
   "outputs": [],
   "source": [
    "import pandas as pd"
   ]
  },
  {
   "cell_type": "code",
   "execution_count": 2,
   "id": "691dcfa0",
   "metadata": {
    "id": "691dcfa0"
   },
   "outputs": [],
   "source": [
    "def get_bindata(hexstr):\n",
    "    return bin(int(hexstr,16))[2:]\n",
    "\n",
    "def left_shift_128(bin_data):\n",
    "    temp = []\n",
    "    for i in range(127):\n",
    "        bin_data = bin_data[1:]+bin_data[0]\n",
    "        temp.append((hex(int('0b'+bin_data,2))[2:]).zfill(2000))#padding on left with zeros for getting 2000 length\n",
    "    return temp\n",
    "\n",
    "def right_shift_128(bin_data):\n",
    "    temp = []\n",
    "    for i in range(127):\n",
    "        bin_data = bin_data[-1]+bin_data[:-1]\n",
    "        temp.append((hex(int('0b'+bin_data,2))[2:]).zfill(2000))#padding on left with zeros for getting 2000 length\n",
    "    return temp"
   ]
  },
  {
   "cell_type": "code",
   "execution_count": 3,
   "id": "08559294",
   "metadata": {
    "id": "08559294"
   },
   "outputs": [],
   "source": [
    "def make_lrb(df,name):\n",
    "    l = []\n",
    "    r = []\n",
    "    b = []\n",
    "    n = df.shape[0]\n",
    "    for i in range(n):\n",
    "        tmptxt = df.iloc[i].Text\n",
    "        tclass = df.iloc[i]['class']\n",
    "        bdata = get_bindata(tmptxt)\n",
    "        left = left_shift_128(bdata)\n",
    "        right = right_shift_128(bdata)\n",
    "        ltmp = []\n",
    "        rtmp = [[tmptxt,tclass]]\n",
    "        btmp = [[tmptxt,tclass]]\n",
    "        for j in range(127):\n",
    "            val = [left[j],tclass]\n",
    "            ltmp.append(val)\n",
    "            btmp.append(val)\n",
    "        for j in range(127):\n",
    "            val = [right[j],tclass]\n",
    "            rtmp.append(val)\n",
    "            btmp.append(val)\n",
    "        l+=ltmp\n",
    "        r+=rtmp\n",
    "        b+=btmp\n",
    "    dfl = pd.DataFrame(l,columns=['Text','class'])\n",
    "    dfr = pd.DataFrame(r,columns=['Text','class'])\n",
    "    dfb = pd.DataFrame(b,columns=['Text','class'])\n",
    "    dfl.to_csv(name+\"_dfleft.csv\")\n",
    "    dfr.to_csv(name+\"_dfright.csv\")\n",
    "    dfb.to_csv(name+\"_dfboth.csv\")"
   ]
  },
  {
   "cell_type": "code",
   "execution_count": 13,
   "id": "23b6e1c6",
   "metadata": {
    "id": "23b6e1c6"
   },
   "outputs": [],
   "source": [
    "#dfr_des = pd.read_csv(\"/home/d/datewise/apr/2/Task05/des_cbc_reviews2_1000.csv\")\n",
    "#dfr_aes = pd.read_csv(\"aes_cbc_reviews2_1000.csv\")\n",
    "#dftd_des = pd.read_csv(\"des_cbc_TrainingData_1000.csv\")\n",
    "dftd_aes = pd.read_csv(\"aes_cbc_TrainingData_1000.csv\")"
   ]
  },
  {
   "cell_type": "code",
   "execution_count": 14,
   "id": "8af7e8bf",
   "metadata": {
    "id": "8af7e8bf",
    "scrolled": true
   },
   "outputs": [],
   "source": [
    "#make_lrb(dfr_des, \"des_reviews2\")\n",
    "#make_lrb(dfr_aes, \"aes_reviews2\")\n",
    "#make_lrb(dftd_des, \"des_td\")\n",
    "make_lrb(dftd_aes, \"aes_td\")"
   ]
  },
  {
   "cell_type": "code",
   "execution_count": null,
   "id": "2luog59XbQ_r",
   "metadata": {
    "id": "2luog59XbQ_r"
   },
   "outputs": [],
   "source": []
  }
 ],
 "metadata": {
  "colab": {
   "provenance": []
  },
  "kernelspec": {
   "display_name": "Python 3 (ipykernel)",
   "language": "python",
   "name": "python3"
  },
  "language_info": {
   "codemirror_mode": {
    "name": "ipython",
    "version": 3
   },
   "file_extension": ".py",
   "mimetype": "text/x-python",
   "name": "python",
   "nbconvert_exporter": "python",
   "pygments_lexer": "ipython3",
   "version": "3.9.13"
  }
 },
 "nbformat": 4,
 "nbformat_minor": 5
}
