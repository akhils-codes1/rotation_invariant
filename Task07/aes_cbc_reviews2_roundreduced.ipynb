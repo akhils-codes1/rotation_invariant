{
  "cells": [
    {
      "cell_type": "code",
      "execution_count": null,
      "metadata": {
        "colab": {
          "base_uri": "https://localhost:8080/"
        },
        "id": "81bFU2wodpXR",
        "outputId": "d0b81b0a-1cee-4124-e16a-0cef400da594"
      },
      "outputs": [
        {
          "output_type": "stream",
          "name": "stdout",
          "text": [
            "Mounted at /content/gdrive/\n"
          ]
        }
      ],
      "source": [
        "from google.colab import drive\n",
        "drive.mount('/content/gdrive/', force_remount=True)"
      ]
    },
    {
      "cell_type": "code",
      "execution_count": null,
      "metadata": {
        "colab": {
          "base_uri": "https://localhost:8080/"
        },
        "id": "kiWbLQDucF5y",
        "outputId": "7452ef17-6733-47eb-dee7-fb2d5202027c"
      },
      "outputs": [
        {
          "output_type": "stream",
          "name": "stdout",
          "text": [
            "/content/gdrive/MyDrive/dissertation/apr/2\n"
          ]
        }
      ],
      "source": [
        "%cd /content/gdrive/MyDrive/dissertation/apr/2"
      ]
    },
    {
      "cell_type": "code",
      "execution_count": null,
      "metadata": {
        "colab": {
          "base_uri": "https://localhost:8080/"
        },
        "id": "eeFGolv2xGm1",
        "outputId": "45b6b092-0396-433a-a973-c974fcf2426e"
      },
      "outputs": [
        {
          "output_type": "stream",
          "name": "stdout",
          "text": [
            "aes_cbc_reviews2.csv\t  aes_td_dfleft.csv\n",
            "aes_cbc_TrainingData.csv  allrounds_AES_CBC_reviews2.csv\n",
            "aes_reviews2_dfleft.csv\n"
          ]
        }
      ],
      "source": [
        "!ls"
      ]
    },
    {
      "cell_type": "code",
      "execution_count": null,
      "metadata": {
        "id": "-zQB-YAKdkCn"
      },
      "outputs": [],
      "source": [
        "# -*- coding: utf-8 -*-\n",
        "# Load libraries\n",
        "import numpy as np\n",
        "from pickle import dump\n",
        "from numpy import loadtxt\n",
        "from tensorflow.keras.models import Sequential\n",
        "from tensorflow.keras.layers import Dense\n",
        "from tensorflow.keras.layers import Dense, Conv1D, Flatten\n",
        "import pandas as pd\n",
        "from pandas import read_csv\n",
        "from sklearn.model_selection import train_test_split\n",
        "from sklearn.metrics import accuracy_score\n",
        "import keras\n",
        "from tensorflow.keras.layers import Dense, Conv2D, BatchNormalization, Activation\n",
        "from tensorflow.keras.layers import AveragePooling2D, Input, Flatten, GlobalAveragePooling2D,Dropout\n",
        "from tensorflow.keras.callbacks import ModelCheckpoint, LearningRateScheduler\n",
        "from tensorflow.keras.callbacks import ReduceLROnPlateau\n",
        "from tensorflow.keras.preprocessing.image import ImageDataGenerator\n",
        "from tensorflow.keras.regularizers import l2\n",
        "from tensorflow.keras import backend as K\n",
        "from keras.models import Model\n",
        "import numpy as np\n",
        "from numpy import loadtxt\n",
        "from tensorflow.keras.utils import to_categorical\n",
        "import numpy as np\n",
        "import pandas as pd\n",
        "import pickle"
      ]
    },
    {
      "cell_type": "code",
      "execution_count": null,
      "metadata": {
        "id": "vWl7v6Nnduiu"
      },
      "outputs": [],
      "source": [
        "#Please add the validation datapath\n",
        "url=\"allrounds_AES_CBC_reviews2.csv\"\n",
        "\n",
        "dataset=pd.read_csv(url)"
      ]
    },
    {
      "cell_type": "code",
      "execution_count": null,
      "metadata": {
        "colab": {
          "base_uri": "https://localhost:8080/",
          "height": 206
        },
        "id": "365ds1g1aTMe",
        "outputId": "45c5fdaf-7868-4ab6-9f8b-74b695341afc"
      },
      "outputs": [
        {
          "output_type": "execute_result",
          "data": {
            "text/plain": [
              "   Unnamed: 0                                               text  class\n",
              "0           0  85e7555a6ba17f45558a7d7661ece7c6fc8f8055d98d80...      1\n",
              "1           1  85e7555a6ba17f45558a7d7661ece7c6fc8f8055d98d80...      2\n",
              "2           2  85e7555a6ba17f45558a7d7661ece7c6fc8f8055d98d80...      3\n",
              "3           3  85e7555a6ba17f45558a7d7661ece7c6fc8f8055d98d80...      4\n",
              "4           4  85e7555a6ba17f45558a7d7661ece7c6fc8f8055d98d80...      5"
            ],
            "text/html": [
              "\n",
              "  <div id=\"df-a3b09638-ee09-49a5-8a10-fd61316e1e6e\">\n",
              "    <div class=\"colab-df-container\">\n",
              "      <div>\n",
              "<style scoped>\n",
              "    .dataframe tbody tr th:only-of-type {\n",
              "        vertical-align: middle;\n",
              "    }\n",
              "\n",
              "    .dataframe tbody tr th {\n",
              "        vertical-align: top;\n",
              "    }\n",
              "\n",
              "    .dataframe thead th {\n",
              "        text-align: right;\n",
              "    }\n",
              "</style>\n",
              "<table border=\"1\" class=\"dataframe\">\n",
              "  <thead>\n",
              "    <tr style=\"text-align: right;\">\n",
              "      <th></th>\n",
              "      <th>Unnamed: 0</th>\n",
              "      <th>text</th>\n",
              "      <th>class</th>\n",
              "    </tr>\n",
              "  </thead>\n",
              "  <tbody>\n",
              "    <tr>\n",
              "      <th>0</th>\n",
              "      <td>0</td>\n",
              "      <td>85e7555a6ba17f45558a7d7661ece7c6fc8f8055d98d80...</td>\n",
              "      <td>1</td>\n",
              "    </tr>\n",
              "    <tr>\n",
              "      <th>1</th>\n",
              "      <td>1</td>\n",
              "      <td>85e7555a6ba17f45558a7d7661ece7c6fc8f8055d98d80...</td>\n",
              "      <td>2</td>\n",
              "    </tr>\n",
              "    <tr>\n",
              "      <th>2</th>\n",
              "      <td>2</td>\n",
              "      <td>85e7555a6ba17f45558a7d7661ece7c6fc8f8055d98d80...</td>\n",
              "      <td>3</td>\n",
              "    </tr>\n",
              "    <tr>\n",
              "      <th>3</th>\n",
              "      <td>3</td>\n",
              "      <td>85e7555a6ba17f45558a7d7661ece7c6fc8f8055d98d80...</td>\n",
              "      <td>4</td>\n",
              "    </tr>\n",
              "    <tr>\n",
              "      <th>4</th>\n",
              "      <td>4</td>\n",
              "      <td>85e7555a6ba17f45558a7d7661ece7c6fc8f8055d98d80...</td>\n",
              "      <td>5</td>\n",
              "    </tr>\n",
              "  </tbody>\n",
              "</table>\n",
              "</div>\n",
              "      <button class=\"colab-df-convert\" onclick=\"convertToInteractive('df-a3b09638-ee09-49a5-8a10-fd61316e1e6e')\"\n",
              "              title=\"Convert this dataframe to an interactive table.\"\n",
              "              style=\"display:none;\">\n",
              "        \n",
              "  <svg xmlns=\"http://www.w3.org/2000/svg\" height=\"24px\"viewBox=\"0 0 24 24\"\n",
              "       width=\"24px\">\n",
              "    <path d=\"M0 0h24v24H0V0z\" fill=\"none\"/>\n",
              "    <path d=\"M18.56 5.44l.94 2.06.94-2.06 2.06-.94-2.06-.94-.94-2.06-.94 2.06-2.06.94zm-11 1L8.5 8.5l.94-2.06 2.06-.94-2.06-.94L8.5 2.5l-.94 2.06-2.06.94zm10 10l.94 2.06.94-2.06 2.06-.94-2.06-.94-.94-2.06-.94 2.06-2.06.94z\"/><path d=\"M17.41 7.96l-1.37-1.37c-.4-.4-.92-.59-1.43-.59-.52 0-1.04.2-1.43.59L10.3 9.45l-7.72 7.72c-.78.78-.78 2.05 0 2.83L4 21.41c.39.39.9.59 1.41.59.51 0 1.02-.2 1.41-.59l7.78-7.78 2.81-2.81c.8-.78.8-2.07 0-2.86zM5.41 20L4 18.59l7.72-7.72 1.47 1.35L5.41 20z\"/>\n",
              "  </svg>\n",
              "      </button>\n",
              "      \n",
              "  <style>\n",
              "    .colab-df-container {\n",
              "      display:flex;\n",
              "      flex-wrap:wrap;\n",
              "      gap: 12px;\n",
              "    }\n",
              "\n",
              "    .colab-df-convert {\n",
              "      background-color: #E8F0FE;\n",
              "      border: none;\n",
              "      border-radius: 50%;\n",
              "      cursor: pointer;\n",
              "      display: none;\n",
              "      fill: #1967D2;\n",
              "      height: 32px;\n",
              "      padding: 0 0 0 0;\n",
              "      width: 32px;\n",
              "    }\n",
              "\n",
              "    .colab-df-convert:hover {\n",
              "      background-color: #E2EBFA;\n",
              "      box-shadow: 0px 1px 2px rgba(60, 64, 67, 0.3), 0px 1px 3px 1px rgba(60, 64, 67, 0.15);\n",
              "      fill: #174EA6;\n",
              "    }\n",
              "\n",
              "    [theme=dark] .colab-df-convert {\n",
              "      background-color: #3B4455;\n",
              "      fill: #D2E3FC;\n",
              "    }\n",
              "\n",
              "    [theme=dark] .colab-df-convert:hover {\n",
              "      background-color: #434B5C;\n",
              "      box-shadow: 0px 1px 3px 1px rgba(0, 0, 0, 0.15);\n",
              "      filter: drop-shadow(0px 1px 2px rgba(0, 0, 0, 0.3));\n",
              "      fill: #FFFFFF;\n",
              "    }\n",
              "  </style>\n",
              "\n",
              "      <script>\n",
              "        const buttonEl =\n",
              "          document.querySelector('#df-a3b09638-ee09-49a5-8a10-fd61316e1e6e button.colab-df-convert');\n",
              "        buttonEl.style.display =\n",
              "          google.colab.kernel.accessAllowed ? 'block' : 'none';\n",
              "\n",
              "        async function convertToInteractive(key) {\n",
              "          const element = document.querySelector('#df-a3b09638-ee09-49a5-8a10-fd61316e1e6e');\n",
              "          const dataTable =\n",
              "            await google.colab.kernel.invokeFunction('convertToInteractive',\n",
              "                                                     [key], {});\n",
              "          if (!dataTable) return;\n",
              "\n",
              "          const docLinkHtml = 'Like what you see? Visit the ' +\n",
              "            '<a target=\"_blank\" href=https://colab.research.google.com/notebooks/data_table.ipynb>data table notebook</a>'\n",
              "            + ' to learn more about interactive tables.';\n",
              "          element.innerHTML = '';\n",
              "          dataTable['output_type'] = 'display_data';\n",
              "          await google.colab.output.renderOutput(dataTable, element);\n",
              "          const docLink = document.createElement('div');\n",
              "          docLink.innerHTML = docLinkHtml;\n",
              "          element.appendChild(docLink);\n",
              "        }\n",
              "      </script>\n",
              "    </div>\n",
              "  </div>\n",
              "  "
            ]
          },
          "metadata": {},
          "execution_count": 8
        }
      ],
      "source": [
        "dataset.head()"
      ]
    },
    {
      "cell_type": "code",
      "execution_count": null,
      "metadata": {
        "id": "SNbGP27BrQdH"
      },
      "outputs": [],
      "source": [
        "dataset.columns = ['CID', 'Text', 'class']"
      ]
    },
    {
      "cell_type": "code",
      "execution_count": null,
      "metadata": {
        "id": "_TMfzRDKi2wm"
      },
      "outputs": [],
      "source": [
        "# dataset.drop(columns=['length'], axis=1, inplace=True)"
      ]
    },
    {
      "cell_type": "code",
      "execution_count": null,
      "metadata": {
        "colab": {
          "base_uri": "https://localhost:8080/",
          "height": 206
        },
        "id": "YkyME1uJaRWe",
        "outputId": "434dc3dc-d5b3-437e-bf5d-7f24bb94e2b5"
      },
      "outputs": [
        {
          "output_type": "execute_result",
          "data": {
            "text/plain": [
              "         CID                                               Text  class\n",
              "91757  91757  2f3504d2e40473f6fae39c500d923ff1361f9e9a0edd3e...      7\n",
              "72589  72589  d85746b2af7450ccaeddb8bb6289e8d739965d543c4fba...      1\n",
              "38900  38900  5edf1011d4cc5b3b19bcf846489e9e006d6b3c53897b45...      5\n",
              "45336  45336  6ff6fd1cc88782257e832c843afb63555fc40dbc61ad3e...      6\n",
              "92629  92629  c2bdc8fe86b08b6c699cf7b8b8ee6a23c9b9f2244acff5...     10"
            ],
            "text/html": [
              "\n",
              "  <div id=\"df-e268a725-a41d-446d-b165-5e9ab8363daa\">\n",
              "    <div class=\"colab-df-container\">\n",
              "      <div>\n",
              "<style scoped>\n",
              "    .dataframe tbody tr th:only-of-type {\n",
              "        vertical-align: middle;\n",
              "    }\n",
              "\n",
              "    .dataframe tbody tr th {\n",
              "        vertical-align: top;\n",
              "    }\n",
              "\n",
              "    .dataframe thead th {\n",
              "        text-align: right;\n",
              "    }\n",
              "</style>\n",
              "<table border=\"1\" class=\"dataframe\">\n",
              "  <thead>\n",
              "    <tr style=\"text-align: right;\">\n",
              "      <th></th>\n",
              "      <th>CID</th>\n",
              "      <th>Text</th>\n",
              "      <th>class</th>\n",
              "    </tr>\n",
              "  </thead>\n",
              "  <tbody>\n",
              "    <tr>\n",
              "      <th>91757</th>\n",
              "      <td>91757</td>\n",
              "      <td>2f3504d2e40473f6fae39c500d923ff1361f9e9a0edd3e...</td>\n",
              "      <td>7</td>\n",
              "    </tr>\n",
              "    <tr>\n",
              "      <th>72589</th>\n",
              "      <td>72589</td>\n",
              "      <td>d85746b2af7450ccaeddb8bb6289e8d739965d543c4fba...</td>\n",
              "      <td>1</td>\n",
              "    </tr>\n",
              "    <tr>\n",
              "      <th>38900</th>\n",
              "      <td>38900</td>\n",
              "      <td>5edf1011d4cc5b3b19bcf846489e9e006d6b3c53897b45...</td>\n",
              "      <td>5</td>\n",
              "    </tr>\n",
              "    <tr>\n",
              "      <th>45336</th>\n",
              "      <td>45336</td>\n",
              "      <td>6ff6fd1cc88782257e832c843afb63555fc40dbc61ad3e...</td>\n",
              "      <td>6</td>\n",
              "    </tr>\n",
              "    <tr>\n",
              "      <th>92629</th>\n",
              "      <td>92629</td>\n",
              "      <td>c2bdc8fe86b08b6c699cf7b8b8ee6a23c9b9f2244acff5...</td>\n",
              "      <td>10</td>\n",
              "    </tr>\n",
              "  </tbody>\n",
              "</table>\n",
              "</div>\n",
              "      <button class=\"colab-df-convert\" onclick=\"convertToInteractive('df-e268a725-a41d-446d-b165-5e9ab8363daa')\"\n",
              "              title=\"Convert this dataframe to an interactive table.\"\n",
              "              style=\"display:none;\">\n",
              "        \n",
              "  <svg xmlns=\"http://www.w3.org/2000/svg\" height=\"24px\"viewBox=\"0 0 24 24\"\n",
              "       width=\"24px\">\n",
              "    <path d=\"M0 0h24v24H0V0z\" fill=\"none\"/>\n",
              "    <path d=\"M18.56 5.44l.94 2.06.94-2.06 2.06-.94-2.06-.94-.94-2.06-.94 2.06-2.06.94zm-11 1L8.5 8.5l.94-2.06 2.06-.94-2.06-.94L8.5 2.5l-.94 2.06-2.06.94zm10 10l.94 2.06.94-2.06 2.06-.94-2.06-.94-.94-2.06-.94 2.06-2.06.94z\"/><path d=\"M17.41 7.96l-1.37-1.37c-.4-.4-.92-.59-1.43-.59-.52 0-1.04.2-1.43.59L10.3 9.45l-7.72 7.72c-.78.78-.78 2.05 0 2.83L4 21.41c.39.39.9.59 1.41.59.51 0 1.02-.2 1.41-.59l7.78-7.78 2.81-2.81c.8-.78.8-2.07 0-2.86zM5.41 20L4 18.59l7.72-7.72 1.47 1.35L5.41 20z\"/>\n",
              "  </svg>\n",
              "      </button>\n",
              "      \n",
              "  <style>\n",
              "    .colab-df-container {\n",
              "      display:flex;\n",
              "      flex-wrap:wrap;\n",
              "      gap: 12px;\n",
              "    }\n",
              "\n",
              "    .colab-df-convert {\n",
              "      background-color: #E8F0FE;\n",
              "      border: none;\n",
              "      border-radius: 50%;\n",
              "      cursor: pointer;\n",
              "      display: none;\n",
              "      fill: #1967D2;\n",
              "      height: 32px;\n",
              "      padding: 0 0 0 0;\n",
              "      width: 32px;\n",
              "    }\n",
              "\n",
              "    .colab-df-convert:hover {\n",
              "      background-color: #E2EBFA;\n",
              "      box-shadow: 0px 1px 2px rgba(60, 64, 67, 0.3), 0px 1px 3px 1px rgba(60, 64, 67, 0.15);\n",
              "      fill: #174EA6;\n",
              "    }\n",
              "\n",
              "    [theme=dark] .colab-df-convert {\n",
              "      background-color: #3B4455;\n",
              "      fill: #D2E3FC;\n",
              "    }\n",
              "\n",
              "    [theme=dark] .colab-df-convert:hover {\n",
              "      background-color: #434B5C;\n",
              "      box-shadow: 0px 1px 3px 1px rgba(0, 0, 0, 0.15);\n",
              "      filter: drop-shadow(0px 1px 2px rgba(0, 0, 0, 0.3));\n",
              "      fill: #FFFFFF;\n",
              "    }\n",
              "  </style>\n",
              "\n",
              "      <script>\n",
              "        const buttonEl =\n",
              "          document.querySelector('#df-e268a725-a41d-446d-b165-5e9ab8363daa button.colab-df-convert');\n",
              "        buttonEl.style.display =\n",
              "          google.colab.kernel.accessAllowed ? 'block' : 'none';\n",
              "\n",
              "        async function convertToInteractive(key) {\n",
              "          const element = document.querySelector('#df-e268a725-a41d-446d-b165-5e9ab8363daa');\n",
              "          const dataTable =\n",
              "            await google.colab.kernel.invokeFunction('convertToInteractive',\n",
              "                                                     [key], {});\n",
              "          if (!dataTable) return;\n",
              "\n",
              "          const docLinkHtml = 'Like what you see? Visit the ' +\n",
              "            '<a target=\"_blank\" href=https://colab.research.google.com/notebooks/data_table.ipynb>data table notebook</a>'\n",
              "            + ' to learn more about interactive tables.';\n",
              "          element.innerHTML = '';\n",
              "          dataTable['output_type'] = 'display_data';\n",
              "          await google.colab.output.renderOutput(dataTable, element);\n",
              "          const docLink = document.createElement('div');\n",
              "          docLink.innerHTML = docLinkHtml;\n",
              "          element.appendChild(docLink);\n",
              "        }\n",
              "      </script>\n",
              "    </div>\n",
              "  </div>\n",
              "  "
            ]
          },
          "metadata": {},
          "execution_count": 11
        }
      ],
      "source": [
        "dataset = dataset.sample(frac=1)#shuffles the rows\n",
        "dataset.head()"
      ]
    },
    {
      "cell_type": "code",
      "execution_count": null,
      "metadata": {
        "id": "VrnTzKK8aO94"
      },
      "outputs": [],
      "source": [
        "arr4 = dataset['Text'].tolist()\n",
        "\n",
        "arr1 = dataset['CID'].tolist()\n",
        "\n",
        "arr2 = dataset['class'].tolist()\n",
        "\n",
        "#print(arr2)"
      ]
    },
    {
      "cell_type": "code",
      "execution_count": null,
      "metadata": {
        "colab": {
          "base_uri": "https://localhost:8080/"
        },
        "id": "6Iq22uA8akaD",
        "outputId": "6a39d7b0-4fa3-4071-ee7e-207ad49704ec"
      },
      "outputs": [
        {
          "output_type": "execute_result",
          "data": {
            "text/plain": [
              "{0, 1, 2, 3, 4, 5, 6, 7, 8, 9, 10}"
            ]
          },
          "metadata": {},
          "execution_count": 13
        }
      ],
      "source": [
        "set(arr2)"
      ]
    },
    {
      "cell_type": "code",
      "execution_count": null,
      "metadata": {
        "id": "RBh7CEehZpjF"
      },
      "outputs": [],
      "source": [
        "#random array of 5 elements\n",
        "# np.random.randint(1,100,5)"
      ]
    },
    {
      "cell_type": "markdown",
      "metadata": {
        "id": "uT-GV8o5aC8Q"
      },
      "source": [
        "##Illustration of working of dataset.sample(frac=1).\n",
        "Run the following two cells to see how rows are getting shuffled"
      ]
    },
    {
      "cell_type": "code",
      "execution_count": null,
      "metadata": {
        "id": "51tbZMorZAum"
      },
      "outputs": [],
      "source": [
        "# data = {\n",
        "#   \"calories\": np.random.randint(1,100,10),\n",
        "#   \"duration\": np.random.randint(1,100,10),\n",
        "#   \"abcd\": np.random.randint(1,100,10)\n",
        "# }\n",
        "# df = pd.DataFrame(data)\n",
        "# df"
      ]
    },
    {
      "cell_type": "code",
      "execution_count": null,
      "metadata": {
        "id": "Bx35N0RKYsVt"
      },
      "outputs": [],
      "source": [
        "# df = df.sample(frac=1)\n",
        "# df"
      ]
    },
    {
      "cell_type": "code",
      "execution_count": null,
      "metadata": {
        "id": "mPPCm6ozxYDa"
      },
      "outputs": [],
      "source": [
        "# dataset"
      ]
    },
    {
      "cell_type": "code",
      "execution_count": null,
      "metadata": {
        "colab": {
          "base_uri": "https://localhost:8080/"
        },
        "id": "z_9KX4eDbLv4",
        "outputId": "2d50c8f2-98c8-4ebd-d13d-8f698ed5f506"
      },
      "outputs": [
        {
          "output_type": "execute_result",
          "data": {
            "text/plain": [
              "137500"
            ]
          },
          "metadata": {},
          "execution_count": 18
        }
      ],
      "source": [
        "# int(arr4[0], 16)\n",
        "len(arr4)"
      ]
    },
    {
      "cell_type": "code",
      "execution_count": null,
      "metadata": {
        "id": "F036uzJYd71Q"
      },
      "outputs": [],
      "source": [
        "for i in range(len(arr4)):\n",
        "  arr4[i] = int(arr4[i],16)#converting each of the text into hexadecimal format\n",
        "\n",
        "li_of_li = []\n",
        "for i in range(len(arr4)):\n",
        "  str1 = str(arr4[i])\n",
        "  n = 17\n",
        "  chunks = [str1[i:i+n] for i in range(0, 17*4, n)]\n",
        "  chunks.insert(0,arr1[i])#before chunks we are inserting CID\n",
        "  chunks.append(arr2[i])#after chuncks, we are appending class-label\n",
        "  li_of_li.append(chunks)"
      ]
    },
    {
      "cell_type": "code",
      "execution_count": null,
      "metadata": {
        "colab": {
          "base_uri": "https://localhost:8080/"
        },
        "id": "0xptxtCaclIh",
        "outputId": "4895a0b7-9e53-4c89-8bb3-dee8c9044fe3"
      },
      "outputs": [
        {
          "output_type": "execute_result",
          "data": {
            "text/plain": [
              "6"
            ]
          },
          "metadata": {},
          "execution_count": 20
        }
      ],
      "source": [
        "len(li_of_li[0])"
      ]
    },
    {
      "cell_type": "code",
      "execution_count": null,
      "metadata": {
        "id": "3YZh8Xqyegvd"
      },
      "outputs": [],
      "source": [
        "# df = pd.DataFrame(li_of_li, columns = ['CID',\n",
        "# 'Text1', 'Text2', 'Text3', 'Text4', 'Text5', 'Text6', 'Text7', 'Text8', 'Text9', 'Text10', \n",
        "# 'Text11', 'Text12', 'Text13', 'Text14', 'Text15', 'Text16', 'Text17', 'Text18', 'Text19', 'Text20',\n",
        "# 'Text21', 'Text22', 'Text23', 'Text24', 'Text25', 'Text26', 'Text27', 'Text28', 'Text29', 'Text30', \n",
        "# 'Text31', 'Text32', 'Text33', 'Text34', 'Text35', 'Text36', 'Text37', 'Text38', 'Text39', 'Text40', \n",
        "# 'Text41', 'Text42', 'Text43', 'Text44', 'Text45', 'Text46', 'Text47', 'Text48', 'Text49', 'Text50', \n",
        "# 'Text51', 'Text52', 'Text53', 'Text54', 'Text55', 'Text56', 'Text57', 'Text58', 'Text59', 'Text60',\n",
        "# 'Text61', 'Text62', 'Text63', 'Text64', 'Text65', 'Text66', 'Text67', 'Text68', 'Text69', 'Text70', \n",
        "# 'Text71', 'Text72', 'Text73', 'Text74', 'Text75', 'Text76', 'Text77', 'Text78', 'Text79', 'Text80', \n",
        "# 'Text81', 'Text82', 'Text83', 'Text84', 'Text85', 'Text86', 'Text87', 'Text88', 'Text89', 'Text90', \n",
        "# 'Text91', 'Text92', 'Text93', 'Text94', 'Text95', 'Text96', 'Text97', 'Text98', 'Text99', 'Text100',\n",
        "# 'Text101', 'Text102', 'Text103', 'Text104', 'Text105', 'Text106', 'Text107', 'Text108', 'Text109', 'Text110', \n",
        "# 'Text111', 'Text112', 'Text113', 'Text114', 'Text115', 'Text116', 'Text117', 'Text118', 'Text119', 'Text120', \n",
        "# 'Text121', 'Text122', 'Text123', 'Text124', 'Text125', 'Text126', 'Text127', 'Text128', 'Text129', 'Text130',\n",
        "# 'Text131', 'Text132', 'Text133', 'Text134', 'Text135', 'Text136', 'Text137', 'Text138', 'Text139', 'Text140', \n",
        "# 'Text141', 'Text142', 'Text143', 'Text144',\n",
        "# 'class'])\n",
        "\n",
        "df = pd.DataFrame(li_of_li, columns = ['CID', 'Text1', 'Text2', 'Text3', 'Text4', 'class'])\n",
        "\n"
      ]
    },
    {
      "cell_type": "code",
      "execution_count": null,
      "metadata": {
        "colab": {
          "base_uri": "https://localhost:8080/",
          "height": 206
        },
        "id": "opborTY7c3rJ",
        "outputId": "a65830d6-5ce6-4550-f0bc-eea408bf961f"
      },
      "outputs": [
        {
          "output_type": "execute_result",
          "data": {
            "text/plain": [
              "     CID              Text1              Text2              Text3  \\\n",
              "0  91757  32042966306499284  36284648988908735  27830787748745051   \n",
              "1  72589  14684664336328691  47154941358165062  02879241674978843   \n",
              "2  38900  64396220163491987  37448855218746521  06129262480285370   \n",
              "3  45336  75998820833424915  95187297257583485  48471891268389225   \n",
              "4  92629  13218540889791187  69013787033755507  98698038280903288   \n",
              "\n",
              "               Text4  class  \n",
              "0  27723647262965137      7  \n",
              "1  44203277953704949      1  \n",
              "2  34170626291773689      5  \n",
              "3  40355835176959280      6  \n",
              "4  07743318183932568     10  "
            ],
            "text/html": [
              "\n",
              "  <div id=\"df-62d370d8-9d91-42ee-93e0-5cdf5020fc1b\">\n",
              "    <div class=\"colab-df-container\">\n",
              "      <div>\n",
              "<style scoped>\n",
              "    .dataframe tbody tr th:only-of-type {\n",
              "        vertical-align: middle;\n",
              "    }\n",
              "\n",
              "    .dataframe tbody tr th {\n",
              "        vertical-align: top;\n",
              "    }\n",
              "\n",
              "    .dataframe thead th {\n",
              "        text-align: right;\n",
              "    }\n",
              "</style>\n",
              "<table border=\"1\" class=\"dataframe\">\n",
              "  <thead>\n",
              "    <tr style=\"text-align: right;\">\n",
              "      <th></th>\n",
              "      <th>CID</th>\n",
              "      <th>Text1</th>\n",
              "      <th>Text2</th>\n",
              "      <th>Text3</th>\n",
              "      <th>Text4</th>\n",
              "      <th>class</th>\n",
              "    </tr>\n",
              "  </thead>\n",
              "  <tbody>\n",
              "    <tr>\n",
              "      <th>0</th>\n",
              "      <td>91757</td>\n",
              "      <td>32042966306499284</td>\n",
              "      <td>36284648988908735</td>\n",
              "      <td>27830787748745051</td>\n",
              "      <td>27723647262965137</td>\n",
              "      <td>7</td>\n",
              "    </tr>\n",
              "    <tr>\n",
              "      <th>1</th>\n",
              "      <td>72589</td>\n",
              "      <td>14684664336328691</td>\n",
              "      <td>47154941358165062</td>\n",
              "      <td>02879241674978843</td>\n",
              "      <td>44203277953704949</td>\n",
              "      <td>1</td>\n",
              "    </tr>\n",
              "    <tr>\n",
              "      <th>2</th>\n",
              "      <td>38900</td>\n",
              "      <td>64396220163491987</td>\n",
              "      <td>37448855218746521</td>\n",
              "      <td>06129262480285370</td>\n",
              "      <td>34170626291773689</td>\n",
              "      <td>5</td>\n",
              "    </tr>\n",
              "    <tr>\n",
              "      <th>3</th>\n",
              "      <td>45336</td>\n",
              "      <td>75998820833424915</td>\n",
              "      <td>95187297257583485</td>\n",
              "      <td>48471891268389225</td>\n",
              "      <td>40355835176959280</td>\n",
              "      <td>6</td>\n",
              "    </tr>\n",
              "    <tr>\n",
              "      <th>4</th>\n",
              "      <td>92629</td>\n",
              "      <td>13218540889791187</td>\n",
              "      <td>69013787033755507</td>\n",
              "      <td>98698038280903288</td>\n",
              "      <td>07743318183932568</td>\n",
              "      <td>10</td>\n",
              "    </tr>\n",
              "  </tbody>\n",
              "</table>\n",
              "</div>\n",
              "      <button class=\"colab-df-convert\" onclick=\"convertToInteractive('df-62d370d8-9d91-42ee-93e0-5cdf5020fc1b')\"\n",
              "              title=\"Convert this dataframe to an interactive table.\"\n",
              "              style=\"display:none;\">\n",
              "        \n",
              "  <svg xmlns=\"http://www.w3.org/2000/svg\" height=\"24px\"viewBox=\"0 0 24 24\"\n",
              "       width=\"24px\">\n",
              "    <path d=\"M0 0h24v24H0V0z\" fill=\"none\"/>\n",
              "    <path d=\"M18.56 5.44l.94 2.06.94-2.06 2.06-.94-2.06-.94-.94-2.06-.94 2.06-2.06.94zm-11 1L8.5 8.5l.94-2.06 2.06-.94-2.06-.94L8.5 2.5l-.94 2.06-2.06.94zm10 10l.94 2.06.94-2.06 2.06-.94-2.06-.94-.94-2.06-.94 2.06-2.06.94z\"/><path d=\"M17.41 7.96l-1.37-1.37c-.4-.4-.92-.59-1.43-.59-.52 0-1.04.2-1.43.59L10.3 9.45l-7.72 7.72c-.78.78-.78 2.05 0 2.83L4 21.41c.39.39.9.59 1.41.59.51 0 1.02-.2 1.41-.59l7.78-7.78 2.81-2.81c.8-.78.8-2.07 0-2.86zM5.41 20L4 18.59l7.72-7.72 1.47 1.35L5.41 20z\"/>\n",
              "  </svg>\n",
              "      </button>\n",
              "      \n",
              "  <style>\n",
              "    .colab-df-container {\n",
              "      display:flex;\n",
              "      flex-wrap:wrap;\n",
              "      gap: 12px;\n",
              "    }\n",
              "\n",
              "    .colab-df-convert {\n",
              "      background-color: #E8F0FE;\n",
              "      border: none;\n",
              "      border-radius: 50%;\n",
              "      cursor: pointer;\n",
              "      display: none;\n",
              "      fill: #1967D2;\n",
              "      height: 32px;\n",
              "      padding: 0 0 0 0;\n",
              "      width: 32px;\n",
              "    }\n",
              "\n",
              "    .colab-df-convert:hover {\n",
              "      background-color: #E2EBFA;\n",
              "      box-shadow: 0px 1px 2px rgba(60, 64, 67, 0.3), 0px 1px 3px 1px rgba(60, 64, 67, 0.15);\n",
              "      fill: #174EA6;\n",
              "    }\n",
              "\n",
              "    [theme=dark] .colab-df-convert {\n",
              "      background-color: #3B4455;\n",
              "      fill: #D2E3FC;\n",
              "    }\n",
              "\n",
              "    [theme=dark] .colab-df-convert:hover {\n",
              "      background-color: #434B5C;\n",
              "      box-shadow: 0px 1px 3px 1px rgba(0, 0, 0, 0.15);\n",
              "      filter: drop-shadow(0px 1px 2px rgba(0, 0, 0, 0.3));\n",
              "      fill: #FFFFFF;\n",
              "    }\n",
              "  </style>\n",
              "\n",
              "      <script>\n",
              "        const buttonEl =\n",
              "          document.querySelector('#df-62d370d8-9d91-42ee-93e0-5cdf5020fc1b button.colab-df-convert');\n",
              "        buttonEl.style.display =\n",
              "          google.colab.kernel.accessAllowed ? 'block' : 'none';\n",
              "\n",
              "        async function convertToInteractive(key) {\n",
              "          const element = document.querySelector('#df-62d370d8-9d91-42ee-93e0-5cdf5020fc1b');\n",
              "          const dataTable =\n",
              "            await google.colab.kernel.invokeFunction('convertToInteractive',\n",
              "                                                     [key], {});\n",
              "          if (!dataTable) return;\n",
              "\n",
              "          const docLinkHtml = 'Like what you see? Visit the ' +\n",
              "            '<a target=\"_blank\" href=https://colab.research.google.com/notebooks/data_table.ipynb>data table notebook</a>'\n",
              "            + ' to learn more about interactive tables.';\n",
              "          element.innerHTML = '';\n",
              "          dataTable['output_type'] = 'display_data';\n",
              "          await google.colab.output.renderOutput(dataTable, element);\n",
              "          const docLink = document.createElement('div');\n",
              "          docLink.innerHTML = docLinkHtml;\n",
              "          element.appendChild(docLink);\n",
              "        }\n",
              "      </script>\n",
              "    </div>\n",
              "  </div>\n",
              "  "
            ]
          },
          "metadata": {},
          "execution_count": 22
        }
      ],
      "source": [
        "df.head()"
      ]
    },
    {
      "cell_type": "code",
      "execution_count": null,
      "metadata": {
        "id": "Y8adEGfVr8CD"
      },
      "outputs": [],
      "source": [
        "# df.dropna(inplace=True)"
      ]
    },
    {
      "cell_type": "code",
      "execution_count": null,
      "metadata": {
        "colab": {
          "base_uri": "https://localhost:8080/",
          "height": 206
        },
        "id": "kyM18gvlsGia",
        "outputId": "78bd24e2-26fb-48b6-98e8-f7cbeb30f3fe"
      },
      "outputs": [
        {
          "output_type": "execute_result",
          "data": {
            "text/plain": [
              "     CID              Text1              Text2              Text3  \\\n",
              "0  91757  32042966306499284  36284648988908735  27830787748745051   \n",
              "1  72589  14684664336328691  47154941358165062  02879241674978843   \n",
              "2  38900  64396220163491987  37448855218746521  06129262480285370   \n",
              "3  45336  75998820833424915  95187297257583485  48471891268389225   \n",
              "4  92629  13218540889791187  69013787033755507  98698038280903288   \n",
              "\n",
              "               Text4  class  \n",
              "0  27723647262965137      7  \n",
              "1  44203277953704949      1  \n",
              "2  34170626291773689      5  \n",
              "3  40355835176959280      6  \n",
              "4  07743318183932568     10  "
            ],
            "text/html": [
              "\n",
              "  <div id=\"df-3737a8b7-6f9c-434f-8bb9-f8cd304bd760\">\n",
              "    <div class=\"colab-df-container\">\n",
              "      <div>\n",
              "<style scoped>\n",
              "    .dataframe tbody tr th:only-of-type {\n",
              "        vertical-align: middle;\n",
              "    }\n",
              "\n",
              "    .dataframe tbody tr th {\n",
              "        vertical-align: top;\n",
              "    }\n",
              "\n",
              "    .dataframe thead th {\n",
              "        text-align: right;\n",
              "    }\n",
              "</style>\n",
              "<table border=\"1\" class=\"dataframe\">\n",
              "  <thead>\n",
              "    <tr style=\"text-align: right;\">\n",
              "      <th></th>\n",
              "      <th>CID</th>\n",
              "      <th>Text1</th>\n",
              "      <th>Text2</th>\n",
              "      <th>Text3</th>\n",
              "      <th>Text4</th>\n",
              "      <th>class</th>\n",
              "    </tr>\n",
              "  </thead>\n",
              "  <tbody>\n",
              "    <tr>\n",
              "      <th>0</th>\n",
              "      <td>91757</td>\n",
              "      <td>32042966306499284</td>\n",
              "      <td>36284648988908735</td>\n",
              "      <td>27830787748745051</td>\n",
              "      <td>27723647262965137</td>\n",
              "      <td>7</td>\n",
              "    </tr>\n",
              "    <tr>\n",
              "      <th>1</th>\n",
              "      <td>72589</td>\n",
              "      <td>14684664336328691</td>\n",
              "      <td>47154941358165062</td>\n",
              "      <td>02879241674978843</td>\n",
              "      <td>44203277953704949</td>\n",
              "      <td>1</td>\n",
              "    </tr>\n",
              "    <tr>\n",
              "      <th>2</th>\n",
              "      <td>38900</td>\n",
              "      <td>64396220163491987</td>\n",
              "      <td>37448855218746521</td>\n",
              "      <td>06129262480285370</td>\n",
              "      <td>34170626291773689</td>\n",
              "      <td>5</td>\n",
              "    </tr>\n",
              "    <tr>\n",
              "      <th>3</th>\n",
              "      <td>45336</td>\n",
              "      <td>75998820833424915</td>\n",
              "      <td>95187297257583485</td>\n",
              "      <td>48471891268389225</td>\n",
              "      <td>40355835176959280</td>\n",
              "      <td>6</td>\n",
              "    </tr>\n",
              "    <tr>\n",
              "      <th>4</th>\n",
              "      <td>92629</td>\n",
              "      <td>13218540889791187</td>\n",
              "      <td>69013787033755507</td>\n",
              "      <td>98698038280903288</td>\n",
              "      <td>07743318183932568</td>\n",
              "      <td>10</td>\n",
              "    </tr>\n",
              "  </tbody>\n",
              "</table>\n",
              "</div>\n",
              "      <button class=\"colab-df-convert\" onclick=\"convertToInteractive('df-3737a8b7-6f9c-434f-8bb9-f8cd304bd760')\"\n",
              "              title=\"Convert this dataframe to an interactive table.\"\n",
              "              style=\"display:none;\">\n",
              "        \n",
              "  <svg xmlns=\"http://www.w3.org/2000/svg\" height=\"24px\"viewBox=\"0 0 24 24\"\n",
              "       width=\"24px\">\n",
              "    <path d=\"M0 0h24v24H0V0z\" fill=\"none\"/>\n",
              "    <path d=\"M18.56 5.44l.94 2.06.94-2.06 2.06-.94-2.06-.94-.94-2.06-.94 2.06-2.06.94zm-11 1L8.5 8.5l.94-2.06 2.06-.94-2.06-.94L8.5 2.5l-.94 2.06-2.06.94zm10 10l.94 2.06.94-2.06 2.06-.94-2.06-.94-.94-2.06-.94 2.06-2.06.94z\"/><path d=\"M17.41 7.96l-1.37-1.37c-.4-.4-.92-.59-1.43-.59-.52 0-1.04.2-1.43.59L10.3 9.45l-7.72 7.72c-.78.78-.78 2.05 0 2.83L4 21.41c.39.39.9.59 1.41.59.51 0 1.02-.2 1.41-.59l7.78-7.78 2.81-2.81c.8-.78.8-2.07 0-2.86zM5.41 20L4 18.59l7.72-7.72 1.47 1.35L5.41 20z\"/>\n",
              "  </svg>\n",
              "      </button>\n",
              "      \n",
              "  <style>\n",
              "    .colab-df-container {\n",
              "      display:flex;\n",
              "      flex-wrap:wrap;\n",
              "      gap: 12px;\n",
              "    }\n",
              "\n",
              "    .colab-df-convert {\n",
              "      background-color: #E8F0FE;\n",
              "      border: none;\n",
              "      border-radius: 50%;\n",
              "      cursor: pointer;\n",
              "      display: none;\n",
              "      fill: #1967D2;\n",
              "      height: 32px;\n",
              "      padding: 0 0 0 0;\n",
              "      width: 32px;\n",
              "    }\n",
              "\n",
              "    .colab-df-convert:hover {\n",
              "      background-color: #E2EBFA;\n",
              "      box-shadow: 0px 1px 2px rgba(60, 64, 67, 0.3), 0px 1px 3px 1px rgba(60, 64, 67, 0.15);\n",
              "      fill: #174EA6;\n",
              "    }\n",
              "\n",
              "    [theme=dark] .colab-df-convert {\n",
              "      background-color: #3B4455;\n",
              "      fill: #D2E3FC;\n",
              "    }\n",
              "\n",
              "    [theme=dark] .colab-df-convert:hover {\n",
              "      background-color: #434B5C;\n",
              "      box-shadow: 0px 1px 3px 1px rgba(0, 0, 0, 0.15);\n",
              "      filter: drop-shadow(0px 1px 2px rgba(0, 0, 0, 0.3));\n",
              "      fill: #FFFFFF;\n",
              "    }\n",
              "  </style>\n",
              "\n",
              "      <script>\n",
              "        const buttonEl =\n",
              "          document.querySelector('#df-3737a8b7-6f9c-434f-8bb9-f8cd304bd760 button.colab-df-convert');\n",
              "        buttonEl.style.display =\n",
              "          google.colab.kernel.accessAllowed ? 'block' : 'none';\n",
              "\n",
              "        async function convertToInteractive(key) {\n",
              "          const element = document.querySelector('#df-3737a8b7-6f9c-434f-8bb9-f8cd304bd760');\n",
              "          const dataTable =\n",
              "            await google.colab.kernel.invokeFunction('convertToInteractive',\n",
              "                                                     [key], {});\n",
              "          if (!dataTable) return;\n",
              "\n",
              "          const docLinkHtml = 'Like what you see? Visit the ' +\n",
              "            '<a target=\"_blank\" href=https://colab.research.google.com/notebooks/data_table.ipynb>data table notebook</a>'\n",
              "            + ' to learn more about interactive tables.';\n",
              "          element.innerHTML = '';\n",
              "          dataTable['output_type'] = 'display_data';\n",
              "          await google.colab.output.renderOutput(dataTable, element);\n",
              "          const docLink = document.createElement('div');\n",
              "          docLink.innerHTML = docLinkHtml;\n",
              "          element.appendChild(docLink);\n",
              "        }\n",
              "      </script>\n",
              "    </div>\n",
              "  </div>\n",
              "  "
            ]
          },
          "metadata": {},
          "execution_count": 24
        }
      ],
      "source": [
        "df.head()"
      ]
    },
    {
      "cell_type": "code",
      "execution_count": null,
      "metadata": {
        "colab": {
          "base_uri": "https://localhost:8080/"
        },
        "id": "tq91ovkksLKo",
        "outputId": "aa5d9b8b-b581-4799-94ec-dbbdf60647a8"
      },
      "outputs": [
        {
          "output_type": "execute_result",
          "data": {
            "text/plain": [
              "7     12500\n",
              "1     12500\n",
              "5     12500\n",
              "6     12500\n",
              "10    12500\n",
              "4     12500\n",
              "0     12500\n",
              "8     12500\n",
              "2     12500\n",
              "9     12500\n",
              "3     12500\n",
              "Name: class, dtype: int64"
            ]
          },
          "metadata": {},
          "execution_count": 25
        }
      ],
      "source": [
        "df['class'].value_counts()"
      ]
    },
    {
      "cell_type": "code",
      "execution_count": null,
      "metadata": {
        "colab": {
          "base_uri": "https://localhost:8080/"
        },
        "id": "NGtTJi65r-KM",
        "outputId": "2a3ffed7-eecb-4796-d6ed-04d6fa5a0dc7"
      },
      "outputs": [
        {
          "output_type": "execute_result",
          "data": {
            "text/plain": [
              "(137500, 6)"
            ]
          },
          "metadata": {},
          "execution_count": 26
        }
      ],
      "source": [
        "df.shape"
      ]
    },
    {
      "cell_type": "code",
      "execution_count": null,
      "metadata": {
        "id": "dlvsExukc8ZS"
      },
      "outputs": [],
      "source": [
        "# pd.to_numeric(df['Text1'])"
      ]
    },
    {
      "cell_type": "code",
      "execution_count": null,
      "metadata": {
        "id": "YM9NniNLe5fa"
      },
      "outputs": [],
      "source": [
        "C1= pd.to_numeric(df['Text1']) \n",
        "C1=C1.to_numpy()\n",
        "C2= pd.to_numeric(df['Text2']) \n",
        "C2=C2.to_numpy()\n",
        "C3= pd.to_numeric(df['Text3']) \n",
        "C3=C3.to_numpy()\n",
        "C4= pd.to_numeric(df['Text4']) \n",
        "C4=C4.to_numpy()\n",
        "# C5= pd.to_numeric(df['Text5']) \n",
        "# C5=C5.to_numpy()\n",
        "# C6= pd.to_numeric(df['Text6']) \n",
        "# C6=C6.to_numpy()\n",
        "# C7= pd.to_numeric(df['Text7']) \n",
        "# C7=C7.to_numpy()\n",
        "# C8= pd.to_numeric(df['Text8']) \n",
        "# C8=C8.to_numpy()\n",
        "# C9= pd.to_numeric(df['Text9']) \n",
        "# C9=C9.to_numpy()\n",
        "# C10= pd.to_numeric(df['Text10']) \n",
        "# C10=C10.to_numpy()\n",
        "# C11= pd.to_numeric(df['Text11']) \n",
        "# C11=C11.to_numpy()\n",
        "# C12= pd.to_numeric(df['Text12']) \n",
        "# C12=C12.to_numpy()\n",
        "# C13= pd.to_numeric(df['Text13']) \n",
        "# C13=C13.to_numpy()\n",
        "# C14= pd.to_numeric(df['Text14']) \n",
        "# C14=C14.to_numpy()\n",
        "# C15= pd.to_numeric(df['Text15']) \n",
        "# C15=C15.to_numpy()\n",
        "# C16= pd.to_numeric(df['Text16']) \n",
        "# C16=C16.to_numpy()\n",
        "# C17= pd.to_numeric(df['Text17']) \n",
        "# C17=C17.to_numpy()\n",
        "# C18= pd.to_numeric(df['Text18']) \n",
        "# C18=C18.to_numpy()\n",
        "# C19= pd.to_numeric(df['Text19']) \n",
        "# C19=C19.to_numpy()\n",
        "# C20= pd.to_numeric(df['Text20']) \n",
        "# C20=C20.to_numpy()\n",
        "# C21= pd.to_numeric(df['Text21']) \n",
        "# C21=C21.to_numpy()\n",
        "# C22= pd.to_numeric(df['Text22']) \n",
        "# C22=C22.to_numpy()\n",
        "# C23= pd.to_numeric(df['Text23']) \n",
        "# C23=C23.to_numpy()\n",
        "# C24= pd.to_numeric(df['Text24']) \n",
        "# C24=C24.to_numpy()\n",
        "# C25= pd.to_numeric(df['Text25']) \n",
        "# C25=C25.to_numpy()\n",
        "# C26= pd.to_numeric(df['Text26']) \n",
        "# C26=C26.to_numpy()\n",
        "# C27= pd.to_numeric(df['Text27']) \n",
        "# C27=C27.to_numpy()\n",
        "# C28= pd.to_numeric(df['Text28']) \n",
        "# C28=C28.to_numpy()\n",
        "# C29= pd.to_numeric(df['Text29']) \n",
        "# C29=C29.to_numpy()\n",
        "# C30= pd.to_numeric(df['Text30']) \n",
        "# C30=C30.to_numpy()\n",
        "# C31= pd.to_numeric(df['Text31']) \n",
        "# C31=C31.to_numpy()\n",
        "# C32= pd.to_numeric(df['Text32']) \n",
        "# C32=C32.to_numpy()\n",
        "# C33= pd.to_numeric(df['Text33']) \n",
        "# C33=C33.to_numpy()\n",
        "# C34= pd.to_numeric(df['Text34']) \n",
        "# C34=C34.to_numpy()\n",
        "# C35= pd.to_numeric(df['Text35']) \n",
        "# C35=C35.to_numpy()\n",
        "# C36= pd.to_numeric(df['Text36']) \n",
        "# C36=C36.to_numpy()\n",
        "# C37= pd.to_numeric(df['Text37']) \n",
        "# C37=C37.to_numpy()\n",
        "# C38= pd.to_numeric(df['Text38']) \n",
        "# C38=C38.to_numpy()\n",
        "# C39= pd.to_numeric(df['Text39']) \n",
        "# C39=C39.to_numpy()\n",
        "# C40= pd.to_numeric(df['Text40']) \n",
        "# C40=C40.to_numpy()\n",
        "# C41= pd.to_numeric(df['Text41']) \n",
        "# C41=C41.to_numpy()\n",
        "# C42= pd.to_numeric(df['Text42']) \n",
        "# C42=C42.to_numpy()\n",
        "# C43= pd.to_numeric(df['Text43']) \n",
        "# C43=C43.to_numpy()\n",
        "# C44= pd.to_numeric(df['Text44']) \n",
        "# C44=C44.to_numpy()\n",
        "# C45= pd.to_numeric(df['Text45']) \n",
        "# C45=C45.to_numpy()\n",
        "# C46= pd.to_numeric(df['Text46']) \n",
        "# C46=C46.to_numpy()\n",
        "# C47= pd.to_numeric(df['Text47']) \n",
        "# C47=C47.to_numpy()\n",
        "# C48= pd.to_numeric(df['Text48']) \n",
        "# C48=C48.to_numpy()\n",
        "# C49= pd.to_numeric(df['Text49']) \n",
        "# C49=C49.to_numpy()\n",
        "# C50= pd.to_numeric(df['Text50']) \n",
        "# C50=C50.to_numpy()\n",
        "# C51= pd.to_numeric(df['Text51']) \n",
        "# C51=C51.to_numpy()\n",
        "# C52= pd.to_numeric(df['Text52']) \n",
        "# C52=C52.to_numpy()\n",
        "# C53= pd.to_numeric(df['Text53']) \n",
        "# C53=C53.to_numpy()\n",
        "# C54= pd.to_numeric(df['Text54']) \n",
        "# C54=C54.to_numpy()\n",
        "# C55= pd.to_numeric(df['Text55']) \n",
        "# C55=C55.to_numpy()\n",
        "# C56= pd.to_numeric(df['Text56']) \n",
        "# C56=C56.to_numpy()\n",
        "# C57= pd.to_numeric(df['Text57']) \n",
        "# C57=C57.to_numpy()\n",
        "# C58= pd.to_numeric(df['Text58']) \n",
        "# C58=C58.to_numpy()\n",
        "# C59= pd.to_numeric(df['Text59']) \n",
        "# C59=C59.to_numpy()\n",
        "# C60= pd.to_numeric(df['Text60']) \n",
        "# C60=C60.to_numpy()\n",
        "# C61= pd.to_numeric(df['Text61']) \n",
        "# C61=C61.to_numpy()\n",
        "# C62= pd.to_numeric(df['Text62']) \n",
        "# C62=C62.to_numpy()\n",
        "# C63= pd.to_numeric(df['Text63']) \n",
        "# C63=C63.to_numpy()\n",
        "# C64= pd.to_numeric(df['Text64']) \n",
        "# C64=C64.to_numpy()\n",
        "# C65= pd.to_numeric(df['Text65']) \n",
        "# C65=C65.to_numpy()\n",
        "# C66= pd.to_numeric(df['Text66']) \n",
        "# C66=C66.to_numpy()\n",
        "# C67= pd.to_numeric(df['Text67']) \n",
        "# C67=C67.to_numpy()\n",
        "# C68= pd.to_numeric(df['Text68']) \n",
        "# C68=C68.to_numpy()\n",
        "# C69= pd.to_numeric(df['Text69']) \n",
        "# C69=C69.to_numpy()\n",
        "# C70= pd.to_numeric(df['Text70']) \n",
        "# C70=C70.to_numpy()\n",
        "# C71= pd.to_numeric(df['Text71']) \n",
        "# C71=C71.to_numpy()\n",
        "# C72= pd.to_numeric(df['Text72']) \n",
        "# C72=C72.to_numpy()\n",
        "# C73= pd.to_numeric(df['Text73']) \n",
        "# C73=C73.to_numpy()\n",
        "# C74= pd.to_numeric(df['Text74']) \n",
        "# C74=C74.to_numpy()\n",
        "# C75= pd.to_numeric(df['Text75']) \n",
        "# C75=C75.to_numpy()\n",
        "# C76= pd.to_numeric(df['Text76']) \n",
        "# C76=C76.to_numpy()\n",
        "# C77= pd.to_numeric(df['Text77']) \n",
        "# C77=C77.to_numpy()\n",
        "# C78= pd.to_numeric(df['Text78']) \n",
        "# C78=C78.to_numpy()\n",
        "# C79= pd.to_numeric(df['Text79']) \n",
        "# C79=C79.to_numpy()\n",
        "# C80= pd.to_numeric(df['Text80']) \n",
        "# C80=C80.to_numpy()\n",
        "# C81= pd.to_numeric(df['Text81']) \n",
        "# C81=C81.to_numpy()\n",
        "# C82= pd.to_numeric(df['Text82']) \n",
        "# C82=C82.to_numpy()\n",
        "# C83= pd.to_numeric(df['Text83']) \n",
        "# C83=C83.to_numpy()\n",
        "# C84= pd.to_numeric(df['Text84']) \n",
        "# C84=C84.to_numpy()\n",
        "# C85= pd.to_numeric(df['Text85']) \n",
        "# C85=C85.to_numpy()\n",
        "# C86= pd.to_numeric(df['Text86']) \n",
        "# C86=C86.to_numpy()\n",
        "# C87= pd.to_numeric(df['Text87']) \n",
        "# C87=C87.to_numpy()\n",
        "# C88= pd.to_numeric(df['Text88']) \n",
        "# C88=C88.to_numpy()\n",
        "# C89= pd.to_numeric(df['Text89']) \n",
        "# C89=C89.to_numpy()\n",
        "# C90= pd.to_numeric(df['Text90']) \n",
        "# C90=C90.to_numpy()\n",
        "# C91= pd.to_numeric(df['Text91']) \n",
        "# C91=C91.to_numpy()\n",
        "# C92= pd.to_numeric(df['Text92']) \n",
        "# C92=C92.to_numpy()\n",
        "# C93= pd.to_numeric(df['Text93']) \n",
        "# C93=C93.to_numpy()\n",
        "# C94= pd.to_numeric(df['Text94']) \n",
        "# C94=C94.to_numpy()\n",
        "# C95= pd.to_numeric(df['Text95']) \n",
        "# C95=C95.to_numpy()\n",
        "# C96= pd.to_numeric(df['Text96']) \n",
        "# C96=C96.to_numpy()\n",
        "# C97= pd.to_numeric(df['Text97']) \n",
        "# C97=C97.to_numpy()\n",
        "# C98= pd.to_numeric(df['Text98']) \n",
        "# C98=C98.to_numpy()\n",
        "# C99= pd.to_numeric(df['Text99']) \n",
        "# C99=C99.to_numpy()\n",
        "# C100= pd.to_numeric(df['Text100']) \n",
        "# C100=C100.to_numpy()\n",
        "# C101= pd.to_numeric(df['Text101']) \n",
        "# C101=C101.to_numpy()\n",
        "# C102= pd.to_numeric(df['Text102']) \n",
        "# C102=C102.to_numpy()\n",
        "# C103= pd.to_numeric(df['Text103']) \n",
        "# C103=C103.to_numpy()\n",
        "# C104= pd.to_numeric(df['Text104']) \n",
        "# C104=C104.to_numpy()\n",
        "# C105= pd.to_numeric(df['Text105']) \n",
        "# C105=C105.to_numpy()\n",
        "# C106= pd.to_numeric(df['Text106']) \n",
        "# C106=C106.to_numpy()\n",
        "# C107= pd.to_numeric(df['Text107']) \n",
        "# C107=C107.to_numpy()\n",
        "# C108= pd.to_numeric(df['Text108']) \n",
        "# C108=C108.to_numpy()\n",
        "# C109= pd.to_numeric(df['Text109']) \n",
        "# C109=C109.to_numpy()\n",
        "# C110= pd.to_numeric(df['Text110']) \n",
        "# C110=C110.to_numpy()\n",
        "# C111= pd.to_numeric(df['Text111']) \n",
        "# C111=C111.to_numpy()\n",
        "# C112= pd.to_numeric(df['Text112']) \n",
        "# C112=C112.to_numpy()\n",
        "# C113= pd.to_numeric(df['Text113']) \n",
        "# C113=C113.to_numpy()\n",
        "# C114= pd.to_numeric(df['Text114']) \n",
        "# C114=C114.to_numpy()\n",
        "# C115= pd.to_numeric(df['Text115']) \n",
        "# C115=C115.to_numpy()\n",
        "# C116= pd.to_numeric(df['Text116']) \n",
        "# C116=C116.to_numpy()\n",
        "# C117= pd.to_numeric(df['Text117']) \n",
        "# C117=C117.to_numpy()\n",
        "# C118= pd.to_numeric(df['Text118']) \n",
        "# C118=C118.to_numpy()\n",
        "# C119= pd.to_numeric(df['Text119']) \n",
        "# C119=C119.to_numpy()\n",
        "# C120= pd.to_numeric(df['Text120']) \n",
        "# C120=C120.to_numpy()\n",
        "# C121= pd.to_numeric(df['Text121']) \n",
        "# C121=C121.to_numpy()\n",
        "# C122= pd.to_numeric(df['Text122']) \n",
        "# C122=C122.to_numpy()\n",
        "# C123= pd.to_numeric(df['Text123']) \n",
        "# C123=C123.to_numpy()\n",
        "# C124= pd.to_numeric(df['Text124']) \n",
        "# C124=C124.to_numpy()\n",
        "# C125= pd.to_numeric(df['Text125']) \n",
        "# C125=C125.to_numpy()\n",
        "# C126= pd.to_numeric(df['Text126']) \n",
        "# C126=C126.to_numpy()\n",
        "# C127= pd.to_numeric(df['Text127']) \n",
        "# C127=C127.to_numpy()\n",
        "# C128= pd.to_numeric(df['Text128']) \n",
        "# C128=C128.to_numpy()\n",
        "# C129= pd.to_numeric(df['Text129']) \n",
        "# C129=C129.to_numpy()\n",
        "# C130= pd.to_numeric(df['Text130']) \n",
        "# C130=C130.to_numpy()\n",
        "# C131= pd.to_numeric(df['Text131']) \n",
        "# C131=C131.to_numpy()\n",
        "# C132= pd.to_numeric(df['Text132']) \n",
        "# C132=C132.to_numpy()\n",
        "# C133= pd.to_numeric(df['Text133']) \n",
        "# C133=C133.to_numpy()\n",
        "# C134= pd.to_numeric(df['Text134']) \n",
        "# C134=C134.to_numpy()\n",
        "# C135= pd.to_numeric(df['Text135']) \n",
        "# C135=C135.to_numpy()\n",
        "# C136= pd.to_numeric(df['Text136']) \n",
        "# C136=C136.to_numpy()\n",
        "# C137= pd.to_numeric(df['Text137']) \n",
        "# C137=C137.to_numpy()\n",
        "# C138= pd.to_numeric(df['Text138']) \n",
        "# C138=C138.to_numpy()\n",
        "# C139= pd.to_numeric(df['Text139']) \n",
        "# C139=C139.to_numpy()\n",
        "# C140= pd.to_numeric(df['Text140']) \n",
        "# C140=C140.to_numpy()\n",
        "# C141= pd.to_numeric(df['Text141']) \n",
        "# C141=C141.to_numpy()\n",
        "# C142= pd.to_numeric(df['Text142']) \n",
        "# C142=C142.to_numpy()\n",
        "\n",
        "# C = [C1,C2,C3,C4,C5,C6,C7,C8,C9,C10,C11,C12,C13,C14,C15,C16,C17,C18,C19,C20,C21,C22,C23,C24,C25,C26,C27,C28,C29,C30,C31,C32,C33,C34,C35,C36,C37,C38,C39,C40,C41,C42,C43,C44,C45,C46,C47,C48,C49,C50,C51,C52,C53,C54,C55,C56,C57,C58,C59,C60,C61,C62,C63,C64,C65,C66,C67,C68,C69,C70,C71,C72,C73,C74,C75,C76,C77,C78,C79,C80,C81,C82,C83,C84,C85,C86,C87,C88,C89,C90,C91,C92,C93,C94,C95,C96,C97,C98,C99,C100,C101,C102,C103,C104,C105,C106,C107,C108,C109,C110,C111,C112,C113,C114,C115,C116,C117,C118,C119,C120,C121,C122,C123,C124,C125,C126,C127,C128,C129,C130,C131,C132,C133,C134,C135,C136,C137,C138,C139,C140,C141,C142]\n",
        "C = [C1,C2,C3,C4]\n",
        "\n",
        "Y = df['class'].to_numpy()\n",
        "Y = Y.astype(int)"
      ]
    },
    {
      "cell_type": "code",
      "execution_count": null,
      "metadata": {
        "id": "8GlFSRg5dwbL"
      },
      "outputs": [],
      "source": [
        "# len(C), len(C[0])"
      ]
    },
    {
      "cell_type": "code",
      "execution_count": null,
      "metadata": {
        "id": "ItaMejcBe2La"
      },
      "outputs": [],
      "source": [
        "def WORD_SIZE():\n",
        "  return(32);\n",
        "def convert_to_binary(arr):\n",
        "  X1 = np.zeros((4 * WORD_SIZE(),len(arr[0])),dtype=np.uint8);\n",
        "  for i in range(4 * WORD_SIZE()):\n",
        "    index = i // WORD_SIZE();\n",
        "    #print(index)\n",
        "    offset = WORD_SIZE() - (i % WORD_SIZE()) - 1;\n",
        "    X1[i] = ((arr[index]) >> offset) & 1;#they are only considering starting 4 chunks of arr i.e., C\n",
        "    #print(f\"X1[{i}]\",X1[i], len(X1[i]))\n",
        "    \n",
        "  #print(X1)\n",
        "  X1 = X1.transpose();\n",
        "  \n",
        "  return(X1);\n",
        "\n",
        "X=convert_to_binary(C)\n",
        "\n"
      ]
    },
    {
      "cell_type": "code",
      "execution_count": null,
      "metadata": {
        "id": "CYRwfTu7e6IJ"
      },
      "outputs": [],
      "source": [
        "# C[0], (C[0]>>1)&1"
      ]
    },
    {
      "cell_type": "code",
      "execution_count": null,
      "metadata": {
        "colab": {
          "base_uri": "https://localhost:8080/"
        },
        "id": "mLR6cNsPey8k",
        "outputId": "4a2388a6-b263-4d68-ec66-4a3aacea3817"
      },
      "outputs": [
        {
          "output_type": "execute_result",
          "data": {
            "text/plain": [
              "(137500, 128)"
            ]
          },
          "metadata": {},
          "execution_count": 32
        }
      ],
      "source": [
        "X.shape"
      ]
    },
    {
      "cell_type": "code",
      "execution_count": null,
      "metadata": {
        "id": "IE30nlJlev1r"
      },
      "outputs": [],
      "source": [
        "import numpy as np\n",
        "seed=9\n",
        "np.random.seed(seed)\n",
        "X_train, X_val, y_train, y_val = train_test_split(X, Y, test_size=0.20,random_state=seed)\n",
        "X_val, X_test, y_val, y_test = train_test_split(X_val, y_val, test_size=0.50,random_state=seed)\n",
        "\n",
        "# len(X_test)\n",
        "\n",
        "X_train = X_train[..., np.newaxis]\n",
        "#X_test = X[..., np.newaxis]\n",
        "\n",
        "X_train = X_train[..., np.newaxis]\n",
        "#X_test = X_test[..., np.newaxis]"
      ]
    },
    {
      "cell_type": "code",
      "execution_count": null,
      "metadata": {
        "id": "Ay4YlbZ6lKcQ"
      },
      "outputs": [],
      "source": [
        "X_val = X_val[..., np.newaxis]\n",
        "X_val = X_val[..., np.newaxis]\n",
        "\n",
        "X_test = X_test[..., np.newaxis]\n",
        "X_test = X_test[..., np.newaxis]"
      ]
    },
    {
      "cell_type": "code",
      "execution_count": null,
      "metadata": {
        "id": "jANOGnrcfHRD"
      },
      "outputs": [],
      "source": [
        "#Please add the model datapath\n",
        "url=\"/content/gdrive/MyDrive/dissertation/random_vs_DES/tl/CRL_Best_V1.h5\""
      ]
    },
    {
      "cell_type": "code",
      "execution_count": null,
      "metadata": {
        "id": "PanYUMwdfpyH"
      },
      "outputs": [],
      "source": [
        "#len(X_test)\n",
        "from keras.models import load_model\n",
        "model = load_model(url)"
      ]
    },
    {
      "cell_type": "code",
      "execution_count": null,
      "metadata": {
        "id": "vGwvnXH6i2IE"
      },
      "outputs": [],
      "source": [
        "# model.summary()"
      ]
    },
    {
      "cell_type": "code",
      "execution_count": null,
      "metadata": {
        "id": "cMNgnNBWUmF-"
      },
      "outputs": [],
      "source": [
        "# model.get_layer(\"dense\").get_config()"
      ]
    },
    {
      "cell_type": "code",
      "execution_count": null,
      "metadata": {
        "id": "dNms_dHJf5xK"
      },
      "outputs": [],
      "source": [
        "xa = model.layers[-2].output\n",
        "# xb = Dense(units=512, activation='sigmoid')(xa)\n",
        "# xc = Dense(units=128, activation='sigmoid')(xb)\n",
        "# xd = Dense(units=32, activation='sigmoid')(xc)\n",
        "#xe = Dense(units=4, activation='relu')(xa)\n",
        "output = Dense(units=11, activation='softmax')(xa)"
      ]
    },
    {
      "cell_type": "code",
      "execution_count": null,
      "metadata": {
        "id": "zxroz-ZygqyH"
      },
      "outputs": [],
      "source": [
        "from keras.models import Model\n",
        "new_model = Model(inputs=model.input, outputs=output)"
      ]
    },
    {
      "cell_type": "code",
      "execution_count": null,
      "metadata": {
        "id": "7KVp1Vwctc3e"
      },
      "outputs": [],
      "source": [
        "# model.get_layer(\"input_1\").get_config()"
      ]
    },
    {
      "cell_type": "code",
      "execution_count": null,
      "metadata": {
        "id": "9qJA6fGGitXp"
      },
      "outputs": [],
      "source": [
        "# new_model.summary()"
      ]
    },
    {
      "cell_type": "code",
      "execution_count": null,
      "metadata": {
        "id": "U_6qL3KwqvD4"
      },
      "outputs": [],
      "source": [
        "# from keras.utils import plot_model\n",
        "# plot_model(model, to_file = \"hello.png\")"
      ]
    },
    {
      "cell_type": "code",
      "execution_count": null,
      "metadata": {
        "colab": {
          "base_uri": "https://localhost:8080/"
        },
        "id": "_E-vwqAJxx7e",
        "outputId": "07c8c152-abe8-4914-f054-09c4dff573e5"
      },
      "outputs": [
        {
          "output_type": "execute_result",
          "data": {
            "text/plain": [
              "423"
            ]
          },
          "metadata": {},
          "execution_count": 41
        }
      ],
      "source": [
        "len(new_model.layers)"
      ]
    },
    {
      "cell_type": "code",
      "execution_count": null,
      "metadata": {
        "id": "_M1B3HoPkDuO"
      },
      "outputs": [],
      "source": [
        "# for layer in model.layers[:-100]:\n",
        "#   layer.trainable=False"
      ]
    },
    {
      "cell_type": "code",
      "execution_count": null,
      "metadata": {
        "colab": {
          "base_uri": "https://localhost:8080/"
        },
        "id": "r1Po8bOZjOLh",
        "outputId": "31436897-77c5-4d29-eee1-7b1d3f24658c"
      },
      "outputs": [
        {
          "output_type": "stream",
          "name": "stdout",
          "text": [
            "Epoch 1/15\n",
            "3438/3438 - 377s - loss: 2.2733 - accuracy: 0.1464 - val_loss: 2.3217 - val_accuracy: 0.1353 - 377s/epoch - 110ms/step\n",
            "Epoch 2/15\n",
            "3438/3438 - 281s - loss: 2.1912 - accuracy: 0.1662 - val_loss: 2.3363 - val_accuracy: 0.1345 - 281s/epoch - 82ms/step\n",
            "Epoch 3/15\n",
            "3438/3438 - 283s - loss: 2.1620 - accuracy: 0.1698 - val_loss: 2.3607 - val_accuracy: 0.1364 - 283s/epoch - 82ms/step\n",
            "Epoch 4/15\n",
            "3438/3438 - 283s - loss: 2.1516 - accuracy: 0.1712 - val_loss: 2.3579 - val_accuracy: 0.1400 - 283s/epoch - 82ms/step\n",
            "Epoch 5/15\n",
            "3438/3438 - 277s - loss: 2.1443 - accuracy: 0.1733 - val_loss: 2.3943 - val_accuracy: 0.1369 - 277s/epoch - 81ms/step\n",
            "Epoch 6/15\n",
            "3438/3438 - 284s - loss: 2.1409 - accuracy: 0.1740 - val_loss: 2.4165 - val_accuracy: 0.1293 - 284s/epoch - 83ms/step\n",
            "Epoch 7/15\n",
            "3438/3438 - 275s - loss: 2.1366 - accuracy: 0.1737 - val_loss: 2.3814 - val_accuracy: 0.1313 - 275s/epoch - 80ms/step\n",
            "Epoch 8/15\n",
            "3438/3438 - 276s - loss: 2.1332 - accuracy: 0.1734 - val_loss: 2.3659 - val_accuracy: 0.1353 - 276s/epoch - 80ms/step\n",
            "Epoch 9/15\n",
            "3438/3438 - 276s - loss: 2.1312 - accuracy: 0.1746 - val_loss: 2.3709 - val_accuracy: 0.1346 - 276s/epoch - 80ms/step\n",
            "Epoch 10/15\n",
            "3438/3438 - 281s - loss: 2.1294 - accuracy: 0.1755 - val_loss: 2.4411 - val_accuracy: 0.1253 - 281s/epoch - 82ms/step\n",
            "Epoch 11/15\n",
            "3438/3438 - 273s - loss: 2.1279 - accuracy: 0.1756 - val_loss: 2.3764 - val_accuracy: 0.1335 - 273s/epoch - 79ms/step\n",
            "Epoch 12/15\n",
            "3438/3438 - 276s - loss: 2.1263 - accuracy: 0.1749 - val_loss: 2.3966 - val_accuracy: 0.1341 - 276s/epoch - 80ms/step\n",
            "Epoch 13/15\n",
            "3438/3438 - 273s - loss: 2.1239 - accuracy: 0.1749 - val_loss: 2.3747 - val_accuracy: 0.1365 - 273s/epoch - 79ms/step\n",
            "Epoch 14/15\n",
            "3438/3438 - 273s - loss: 2.1226 - accuracy: 0.1741 - val_loss: 2.4194 - val_accuracy: 0.1321 - 273s/epoch - 79ms/step\n",
            "Epoch 15/15\n",
            "3438/3438 - 272s - loss: 2.1231 - accuracy: 0.1740 - val_loss: 2.4094 - val_accuracy: 0.1287 - 272s/epoch - 79ms/step\n"
          ]
        },
        {
          "output_type": "execute_result",
          "data": {
            "text/plain": [
              "<keras.callbacks.History at 0x7fbde64f1220>"
            ]
          },
          "metadata": {},
          "execution_count": 44
        }
      ],
      "source": [
        "# model.compile(loss='sparse_categorical_crossentropy', optimizer='adam', metrics=['accuracy'])\n",
        "# model.fit(x = X_train, y=y_train,epochs=5, verbose=2, validation_data=(X_val, y_val))\n",
        "\n",
        "new_model.compile(loss='sparse_categorical_crossentropy', optimizer='Adam', metrics=['accuracy'])\n",
        "new_model.fit(x = X_train, y=y_train,epochs=15, verbose=2, validation_data=(X_val, y_val))"
      ]
    },
    {
      "cell_type": "code",
      "execution_count": null,
      "metadata": {
        "colab": {
          "base_uri": "https://localhost:8080/"
        },
        "id": "M5dLhy40wW2Z",
        "outputId": "0e237cc1-d854-490d-ac68-e08d42070eee"
      },
      "outputs": [
        {
          "output_type": "stream",
          "name": "stdout",
          "text": [
            "430/430 [==============================] - 8s 13ms/step\n",
            "Prediction Values: [[1.1590083e-06 9.9082589e-02 9.3363658e-02 ... 9.9937283e-02\n",
            "  9.5936835e-02 9.2390545e-02]\n",
            " [5.3821135e-05 1.0286830e-01 9.7749673e-02 ... 9.2486538e-02\n",
            "  9.6892193e-02 9.1113664e-02]\n",
            " [7.3118692e-08 9.8384321e-02 8.8607647e-02 ... 9.7965024e-02\n",
            "  9.8836355e-02 9.3146347e-02]\n",
            " ...\n",
            " [2.2851318e-05 9.9789999e-02 9.5750771e-02 ... 9.9089608e-02\n",
            "  1.0360866e-01 9.0037890e-02]\n",
            " [8.9052116e-04 1.0611161e-01 9.3798496e-02 ... 9.7594410e-02\n",
            "  9.5980518e-02 1.0131604e-01]\n",
            " [8.4240141e-04 1.0389300e-01 9.6108690e-02 ... 9.7010963e-02\n",
            "  9.6269988e-02 8.9675114e-02]]\n",
            "[4, 6, 4, 6, 6, 6, 4, 0, 6, 4, 4, 3, 6, 3, 4, 4, 6, 3, 6, 0, 3, 8, 0, 8, 6, 6, 3, 3, 5, 3, 4, 0, 3, 3, 4, 5, 0, 3, 0, 3, 4, 6, 4, 3, 6, 4, 3, 3, 6, 6, 0, 6, 3, 3, 0, 4, 3, 5, 4, 3, 3, 4, 4, 6, 3, 0, 3, 4, 4, 4, 3, 3, 3, 3, 4, 3, 6, 1, 0, 3, 3, 4, 4, 4, 5, 4, 4, 5, 0, 3, 3, 6, 3, 3, 0, 4, 3, 4, 4, 6, 3, 4, 3, 4, 6, 4, 4, 3, 4, 3, 3, 3, 3, 6, 3, 4, 3, 3, 4, 3, 3, 3, 0, 0, 4, 4, 6, 3, 3, 3, 3, 4, 5, 4, 3, 8, 0, 4, 0, 5, 4, 6, 3, 4, 3, 0, 4, 4, 3, 4, 3, 3, 4, 4, 3, 3, 3, 4, 4, 3, 4, 6, 3, 3, 6, 3, 4, 3, 4, 4, 8, 3, 0, 3, 4, 3, 4, 3, 6, 3, 3, 4, 0, 4, 3, 4, 4, 4, 5, 3, 5, 4, 4, 3, 3, 9, 0, 6, 4, 4, 4, 4, 4, 1, 0, 3, 3, 3, 4, 4, 5, 3, 4, 5, 4, 4, 4, 4, 0, 3, 4, 4, 4, 4, 6, 3, 3, 3, 4, 6, 4, 4, 6, 4, 3, 3, 6, 6, 6, 8, 9, 3, 3, 3, 4, 5, 5, 3, 4, 3, 4, 0, 4, 3, 3, 4, 6, 3, 3, 4, 3, 8, 3, 4, 3, 4, 4, 3, 3, 4, 4, 4, 5, 0, 4, 4, 3, 3, 6, 0, 8, 1, 4, 3, 8, 4, 3, 3, 9, 4, 6, 8, 4, 4, 3, 6, 3, 4, 3, 6, 4, 4, 3, 4, 3, 4, 4, 5, 4, 5, 4, 6, 4, 5, 6, 5, 8, 3, 0, 0, 4, 4, 3, 3, 3, 1, 4, 3, 4, 4, 6, 4, 3, 3, 6, 4, 3, 4, 3, 6, 3, 3, 5, 6, 3, 4, 5, 5, 4, 6, 3, 0, 4, 1, 6, 4, 4, 3, 3, 4, 0, 4, 3, 3, 3, 3, 3, 6, 3, 4, 4, 5, 3, 6, 3, 4, 3, 8, 3, 4, 3, 9, 3, 4, 4, 4, 3, 4, 3, 3, 4, 6, 3, 0, 4, 4, 4, 0, 6, 4, 4, 4, 6, 3, 6, 6, 4, 4, 4, 6, 4, 3, 6, 0, 4, 6, 5, 5, 0, 3, 3, 4, 3, 3, 4, 5, 3, 0, 4, 3, 3, 5, 9, 3, 8, 3, 5, 3, 3, 3, 3, 4, 3, 4, 6, 3, 3, 4, 3, 8, 3, 3, 4, 4, 4, 3, 4, 4, 3, 4, 5, 4, 3, 4, 4, 3, 4, 5, 0, 4, 6, 4, 1, 3, 4, 4, 3, 0, 3, 3, 6, 6, 5, 6, 4, 3, 3, 0, 4, 6, 4, 3, 0, 3, 3, 4, 3, 4, 5, 3, 3, 4, 8, 8, 3, 0, 3, 3, 8, 0, 4, 3, 3, 4, 8, 8, 3, 1, 6, 1, 3, 4, 4, 3, 3, 3, 3, 3, 0, 3, 0, 3, 4, 4, 4, 3, 3, 5, 0, 3, 5, 6, 5, 5, 0, 5, 3, 4, 3, 3, 3, 3, 3, 3, 4, 1, 3, 4, 3, 4, 3, 5, 3, 4, 1, 3, 4, 6, 3, 3, 5, 3, 4, 3, 3, 3, 4, 3, 3, 3, 0, 6, 5, 6, 4, 4, 6, 3, 3, 4, 3, 4, 0, 3, 5, 6, 6, 10, 4, 4, 3, 4, 4, 3, 8, 6, 5, 3, 4, 3, 6, 3, 0, 4, 4, 4, 3, 3, 3, 4, 5, 3, 3, 3, 4, 3, 3, 3, 3, 4, 5, 6, 3, 6, 4, 3, 3, 6, 3, 3, 5, 3, 4, 4, 4, 4, 6, 4, 3, 3, 4, 6, 3, 4, 5, 5, 3, 4, 5, 5, 3, 0, 3, 4, 3, 5, 3, 1, 9, 6, 4, 4, 8, 4, 3, 4, 6, 4, 4, 3, 4, 6, 0, 6, 3, 6, 3, 4, 4, 4, 0, 4, 0, 4, 3, 6, 0, 4, 6, 3, 3, 3, 4, 4, 6, 3, 4, 4, 0, 4, 3, 3, 4, 3, 4, 3, 0, 5, 4, 4, 3, 3, 3, 5, 3, 6, 3, 4, 9, 3, 3, 4, 3, 4, 4, 5, 4, 3, 4, 4, 3, 4, 4, 4, 3, 3, 4, 3, 4, 4, 4, 9, 3, 3, 3, 3, 3, 3, 4, 3, 3, 3, 8, 3, 3, 4, 3, 6, 3, 4, 3, 4, 4, 6, 5, 4, 3, 4, 5, 3, 3, 6, 3, 0, 4, 5, 3, 5, 4, 4, 4, 3, 4, 4, 3, 3, 4, 4, 6, 3, 4, 3, 6, 4, 3, 3, 3, 4, 3, 6, 4, 4, 0, 4, 3, 4, 4, 4, 3, 3, 4, 3, 3, 6, 9, 4, 6, 8, 4, 4, 6, 5, 4, 8, 0, 6, 3, 0, 4, 3, 3, 3, 4, 4, 3, 6, 3, 3, 5, 3, 3, 3, 3, 3, 4, 4, 4, 4, 3, 6, 5, 3, 3, 3, 0, 4, 9, 6, 4, 5, 8, 4, 3, 3, 3, 5, 3, 3, 4, 3, 3, 6, 3, 4, 3, 1, 4, 3, 3, 4, 3, 4, 3, 3, 4, 4, 4, 4, 5, 3, 3, 3, 3, 4, 4, 3, 6, 8, 3, 6, 3, 3, 4, 4, 3, 4, 3, 5, 3, 0, 3, 6, 4, 1, 4, 3, 3, 6, 3, 4, 3, 4, 3, 0, 8, 4, 3, 5, 6, 6, 4, 6, 0, 3, 6, 3, 3, 6, 4, 6, 4, 3, 0, 1, 9, 6, 4, 0, 4, 3, 3, 4, 4, 3, 6, 4, 3, 4, 3, 0, 4, 3, 4, 3, 4, 3, 4, 4, 3, 3, 3, 4, 6, 6, 3, 5, 4, 1, 3, 3, 6, 4, 5, 3, 4, 3, 3, 0, 3, 6, 3, 6, 0, 4, 3, 4, 4, 4, 0, 5, 6, 6, 3, 4, 3, 0, 3, 4, 3, 4, 4, 3, 4, 3, 1, 0, 4, 4, 6, 3, 4, 3, 0, 3, 5, 4, 4, 0, 4, 6, 4, 4, 3, 5, 4, 3, 4, 9, 3, 4, 6, 3, 3, 4, 4, 3, 1, 3, 6, 0, 7, 3, 4, 4, 3, 4, 0, 6, 0, 10, 5, 4, 3, 3, 6, 5, 5, 3, 4, 0, 4, 4, 3, 3, 6, 3, 3, 0, 3, 4, 4, 4, 3, 0, 4, 4, 6, 3, 3, 3, 3, 4, 4, 0, 3, 3, 5, 3, 4, 3, 3, 3, 4, 3, 5, 4, 4, 3, 3, 4, 5, 0, 6, 4, 4, 3, 4, 3, 3, 0, 0, 0, 0, 3, 3, 5, 5, 4, 3, 3, 4, 6, 4, 3, 3, 4, 3, 4, 5, 4, 3, 1, 0, 4, 3, 4, 4, 6, 8, 1, 4, 6, 5, 4, 3, 4, 3, 0, 3, 3, 3, 0, 4, 3, 3, 3, 6, 4, 3, 4, 4, 3, 6, 4, 0, 3, 5, 4, 4, 9, 3, 4, 4, 6, 3, 4, 5, 3, 3, 4, 4, 1, 8, 3, 3, 3, 4, 3, 3, 3, 3, 3, 3, 4, 5, 3, 3, 3, 0, 4, 5, 6, 4, 3, 4, 3, 6, 3, 5, 6, 9, 6, 3, 6, 5, 4, 3, 4, 4, 3, 0, 4, 3, 4, 3, 6, 4, 3, 4, 4, 3, 3, 4, 4, 8, 4, 3, 6, 5, 3, 4, 3, 3, 6, 6, 3, 6, 4, 0, 3, 3, 4, 6, 6, 3, 4, 3, 6, 4, 3, 4, 0, 6, 4, 5, 4, 3, 6, 3, 3, 3, 4, 8, 6, 3, 5, 5, 4, 4, 4, 6, 3, 3, 3, 3, 4, 6, 3, 4, 4, 1, 4, 4, 3, 5, 4, 4, 3, 4, 3, 3, 4, 3, 3, 8, 6, 4, 4, 4, 4, 3, 3, 3, 3, 3, 4, 4, 3, 3, 5, 6, 3, 3, 4, 4, 4, 0, 3, 6, 3, 3, 4, 8, 4, 3, 4, 4, 8, 3, 3, 4, 4, 4, 3, 6, 6, 4, 3, 6, 4, 3, 3, 4, 4, 4, 4, 6, 5, 8, 3, 3, 4, 3, 3, 5, 3, 3, 4, 0, 3, 5, 4, 3, 4, 4, 1, 6, 4, 4, 3, 4, 5, 3, 6, 3, 4, 4, 3, 4, 4, 3, 6, 6, 6, 4, 3, 4, 3, 3, 3, 6, 1, 3, 3, 4, 6, 3, 0, 4, 3, 4, 3, 4, 3, 4, 3, 8, 3, 4, 5, 6, 3, 4, 4, 5, 3, 4, 6, 4, 5, 4, 4, 3, 4, 4, 5, 3, 4, 3, 4, 3, 5, 3, 0, 3, 4, 5, 3, 4, 4, 6, 3, 3, 3, 1, 4, 3, 0, 3, 3, 3, 3, 3, 3, 4, 4, 3, 4, 3, 3, 4, 4, 3, 5, 4, 3, 6, 3, 1, 3, 4, 4, 6, 5, 3, 3, 3, 4, 6, 4, 1, 3, 3, 3, 3, 6, 4, 0, 1, 0, 6, 3, 4, 3, 3, 6, 4, 4, 5, 0, 4, 5, 4, 4, 3, 6, 5, 3, 5, 4, 4, 4, 3, 4, 3, 3, 3, 4, 3, 5, 4, 3, 4, 3, 3, 4, 4, 0, 4, 4, 3, 3, 4, 1, 5, 3, 4, 5, 5, 4, 6, 4, 3, 3, 3, 3, 4, 3, 4, 3, 3, 3, 1, 4, 3, 3, 4, 3, 4, 5, 5, 3, 3, 3, 0, 4, 0, 4, 6, 0, 8, 4, 5, 3, 3, 6, 4, 6, 6, 6, 3, 6, 3, 4, 3, 3, 4, 6, 6, 3, 1, 5, 3, 3, 3, 4, 5, 3, 4, 4, 4, 4, 4, 3, 3, 6, 5, 3, 4, 3, 3, 9, 4, 0, 4, 3, 6, 3, 6, 3, 8, 4, 5, 3, 6, 3, 3, 5, 4, 8, 4, 3, 3, 4, 4, 3, 4, 6, 3, 3, 4, 3, 0, 3, 3, 0, 5, 3, 0, 0, 0, 4, 3, 6, 3, 5, 4, 4, 4, 4, 6, 3, 4, 3, 3, 3, 3, 3, 6, 4, 4, 5, 8, 4, 4, 3, 4, 3, 6, 0, 4, 3, 3, 3, 3, 3, 6, 0, 3, 3, 5, 6, 6, 4, 3, 6, 4, 4, 3, 3, 4, 3, 9, 4, 0, 0, 3, 6, 4, 3, 4, 3, 4, 4, 5, 3, 3, 4, 3, 4, 4, 4, 3, 3, 3, 4, 4, 4, 3, 3, 0, 3, 9, 3, 4, 4, 3, 9, 3, 3, 9, 0, 0, 3, 4, 0, 4, 4, 3, 3, 3, 3, 3, 8, 4, 4, 8, 4, 5, 6, 3, 4, 3, 4, 3, 5, 3, 4, 5, 3, 3, 3, 4, 3, 6, 3, 5, 6, 4, 4, 3, 3, 3, 3, 6, 3, 4, 6, 3, 3, 4, 5, 9, 4, 4, 3, 4, 3, 4, 4, 6, 4, 4, 4, 3, 4, 4, 4, 4, 3, 3, 3, 1, 8, 3, 3, 3, 3, 3, 3, 3, 3, 3, 8, 3, 4, 3, 4, 3, 3, 1, 6, 3, 6, 3, 0, 3, 4, 0, 4, 4, 3, 4, 1, 4, 3, 3, 0, 4, 4, 3, 6, 6, 3, 3, 6, 3, 6, 4, 4, 4, 4, 4, 4, 1, 4, 3, 4, 3, 5, 3, 4, 1, 3, 4, 6, 6, 0, 3, 5, 4, 3, 4, 3, 0, 4, 4, 4, 4, 4, 0, 6, 0, 4, 3, 5, 4, 5, 3, 4, 6, 8, 4, 3, 3, 3, 1, 4, 4, 5, 5, 6, 3, 4, 4, 3, 3, 6, 4, 5, 3, 3, 3, 4, 4, 6, 3, 8, 5, 3, 3, 3, 4, 3, 4, 3, 3, 3, 0, 4, 4, 4, 3, 3, 5, 4, 6, 3, 4, 4, 3, 3, 4, 3, 6, 0, 4, 6, 3, 6, 3, 4, 0, 1, 3, 1, 4, 3, 0, 6, 4, 3, 5, 4, 0, 3, 4, 4, 3, 3, 4, 3, 3, 3, 4, 3, 4, 3, 4, 0, 3, 4, 6, 4, 3, 4, 4, 3, 3, 5, 6, 3, 3, 4, 5, 3, 3, 3, 5, 4, 4, 1, 5, 4, 6, 3, 3, 4, 4, 3, 4, 6, 4, 9, 4, 3, 4, 3, 4, 4, 3, 4, 3, 3, 9, 4, 5, 3, 3, 6, 3, 4, 0, 4, 3, 6, 3, 8, 4, 3, 4, 4, 4, 4, 6, 5, 3, 5, 0, 0, 0, 3, 5, 4, 4, 6, 3, 4, 8, 4, 8, 3, 4, 4, 3, 0, 3, 1, 5, 4, 3, 6, 4, 3, 3, 4, 3, 4, 0, 8, 3, 6, 4, 4, 0, 3, 4, 3, 8, 3, 3, 0, 3, 3, 6, 4, 5, 3, 3, 3, 5, 6, 0, 3, 3, 3, 4, 9, 3, 3, 4, 6, 4, 3, 3, 3, 3, 4, 6, 4, 4, 3, 4, 1, 3, 6, 4, 3, 3, 3, 6, 3, 4, 4, 4, 3, 4, 3, 3, 9, 4, 3, 4, 3, 3, 4, 4, 4, 3, 4, 3, 3, 3, 4, 3, 4, 3, 0, 3, 4, 3, 5, 5, 5, 4, 4, 3, 3, 4, 10, 8, 8, 4, 4, 4, 6, 4, 4, 0, 3, 3, 3, 3, 0, 4, 3, 4, 1, 4, 3, 6, 3, 8, 4, 4, 4, 6, 3, 4, 3, 3, 4, 6, 4, 4, 3, 3, 3, 3, 4, 4, 4, 3, 4, 6, 3, 3, 6, 6, 4, 3, 4, 3, 6, 4, 4, 4, 0, 4, 3, 3, 5, 3, 4, 4, 3, 3, 8, 0, 5, 3, 3, 3, 8, 3, 3, 3, 3, 3, 8, 3, 3, 3, 3, 3, 4, 4, 3, 3, 4, 6, 4, 4, 3, 4, 4, 3, 4, 3, 3, 4, 4, 4, 5, 6, 3, 4, 6, 3, 6, 3, 4, 3, 1, 4, 4, 4, 4, 6, 3, 3, 4, 0, 6, 3, 3, 4, 3, 4, 3, 5, 3, 4, 5, 3, 1, 4, 3, 4, 4, 3, 3, 0, 1, 4, 4, 6, 3, 3, 4, 5, 3, 3, 4, 4, 3, 9, 3, 4, 3, 4, 3, 3, 6, 4, 4, 3, 3, 4, 4, 3, 4, 4, 4, 3, 4, 4, 3, 3, 3, 4, 4, 5, 4, 3, 3, 5, 3, 4, 1, 9, 3, 8, 0, 6, 3, 0, 4, 4, 3, 4, 4, 4, 4, 4, 4, 4, 0, 3, 3, 1, 8, 8, 3, 3, 4, 3, 4, 4, 3, 3, 4, 3, 3, 0, 3, 4, 3, 3, 3, 4, 6, 4, 3, 8, 3, 3, 3, 3, 3, 3, 4, 4, 4, 4, 3, 4, 3, 5, 5, 3, 4, 3, 4, 6, 1, 3, 3, 3, 3, 4, 3, 4, 3, 3, 6, 4, 4, 6, 4, 3, 4, 5, 3, 4, 3, 3, 3, 6, 6, 3, 4, 4, 9, 3, 3, 3, 3, 3, 6, 3, 4, 6, 8, 3, 0, 3, 3, 6, 4, 6, 3, 4, 8, 3, 0, 4, 1, 8, 4, 4, 3, 0, 3, 5, 5, 3, 3, 4, 3, 4, 6, 3, 4, 5, 4, 4, 4, 3, 4, 3, 3, 4, 4, 4, 4, 4, 3, 3, 0, 3, 4, 3, 3, 4, 4, 8, 4, 3, 4, 8, 3, 0, 3, 3, 4, 3, 3, 4, 8, 3, 3, 0, 3, 3, 0, 4, 3, 3, 1, 5, 6, 4, 6, 3, 3, 0, 4, 3, 1, 3, 4, 4, 3, 3, 6, 3, 6, 8, 4, 0, 3, 3, 3, 4, 0, 5, 3, 3, 4, 9, 4, 0, 4, 3, 3, 6, 3, 4, 4, 6, 5, 4, 6, 1, 4, 4, 4, 4, 3, 6, 0, 4, 3, 3, 4, 6, 3, 4, 4, 5, 3, 4, 4, 6, 6, 3, 5, 5, 3, 4, 4, 3, 3, 4, 4, 3, 6, 4, 4, 4, 3, 3, 4, 3, 4, 4, 4, 4, 0, 3, 3, 3, 6, 4, 3, 6, 4, 3, 6, 6, 6, 5, 4, 4, 3, 1, 8, 4, 3, 6, 3, 3, 3, 4, 6, 6, 3, 4, 6, 8, 6, 3, 3, 6, 5, 4, 4, 5, 4, 4, 3, 3, 4, 0, 4, 4, 4, 5, 4, 4, 4, 3, 3, 3, 4, 3, 3, 4, 3, 4, 4, 8, 4, 5, 3, 3, 3, 4, 5, 3, 6, 4, 3, 3, 3, 6, 5, 4, 4, 3, 6, 4, 4, 3, 3, 4, 3, 0, 3, 3, 4, 5, 6, 6, 3, 4, 0, 4, 4, 4, 8, 3, 3, 3, 8, 3, 3, 4, 3, 4, 4, 0, 4, 4, 8, 3, 8, 4, 0, 4, 3, 4, 4, 4, 4, 3, 3, 3, 4, 6, 3, 4, 3, 3, 3, 4, 4, 4, 4, 4, 8, 3, 5, 4, 3, 3, 3, 0, 6, 3, 6, 4, 4, 3, 3, 4, 3, 8, 4, 4, 4, 3, 4, 4, 4, 3, 3, 3, 1, 3, 4, 3, 0, 5, 4, 5, 4, 6, 3, 3, 3, 8, 8, 4, 4, 3, 3, 5, 9, 3, 3, 4, 3, 4, 4, 3, 3, 5, 3, 6, 4, 4, 4, 1, 1, 3, 1, 3, 6, 4, 4, 3, 3, 4, 3, 4, 3, 0, 4, 9, 3, 3, 3, 3, 3, 3, 4, 5, 4, 3, 3, 3, 6, 3, 4, 3, 4, 6, 3, 3, 3, 1, 3, 3, 4, 3, 3, 3, 3, 4, 4, 5, 3, 3, 0, 5, 4, 3, 3, 4, 6, 4, 3, 3, 4, 8, 3, 5, 3, 3, 4, 3, 0, 3, 3, 3, 3, 4, 3, 3, 4, 3, 0, 9, 3, 4, 4, 4, 4, 0, 3, 3, 6, 4, 5, 4, 5, 0, 0, 4, 5, 6, 3, 4, 3, 4, 5, 4, 4, 4, 4, 4, 0, 4, 8, 3, 3, 8, 3, 0, 3, 5, 0, 4, 4, 6, 4, 3, 5, 4, 0, 3, 5, 6, 9, 3, 3, 5, 5, 3, 6, 4, 6, 6, 3, 0, 5, 3, 6, 4, 4, 5, 3, 3, 4, 4, 6, 6, 4, 3, 4, 6, 0, 0, 3, 4, 6, 6, 3, 3, 4, 5, 3, 4, 3, 3, 4, 3, 3, 3, 4, 3, 3, 4, 3, 1, 6, 5, 4, 4, 4, 3, 4, 3, 3, 3, 4, 4, 0, 3, 0, 4, 4, 6, 3, 3, 4, 0, 3, 4, 3, 0, 4, 3, 4, 6, 4, 4, 3, 4, 3, 4, 0, 3, 3, 3, 3, 6, 3, 3, 3, 3, 3, 4, 3, 4, 3, 0, 3, 5, 3, 4, 6, 4, 8, 4, 6, 3, 4, 3, 6, 3, 3, 3, 4, 3, 4, 0, 3, 3, 4, 4, 3, 3, 3, 4, 6, 3, 4, 6, 6, 4, 5, 3, 3, 9, 4, 3, 3, 4, 4, 3, 8, 4, 4, 3, 6, 4, 4, 3, 6, 3, 4, 3, 3, 6, 3, 5, 8, 8, 3, 3, 3, 6, 4, 6, 4, 5, 1, 3, 4, 6, 0, 3, 3, 8, 6, 4, 1, 4, 0, 3, 0, 4, 6, 1, 3, 3, 4, 3, 3, 6, 3, 4, 8, 4, 0, 3, 6, 10, 8, 3, 3, 4, 3, 3, 0, 5, 3, 3, 5, 4, 4, 3, 3, 5, 3, 6, 4, 3, 3, 4, 4, 4, 3, 5, 4, 3, 6, 3, 3, 3, 3, 3, 6, 3, 3, 6, 4, 3, 9, 4, 4, 5, 3, 3, 4, 3, 3, 5, 6, 5, 5, 5, 3, 3, 4, 8, 3, 3, 5, 4, 3, 3, 3, 4, 4, 3, 3, 4, 3, 9, 3, 4, 3, 3, 4, 4, 4, 1, 6, 4, 3, 4, 3, 6, 3, 3, 4, 5, 3, 3, 4, 8, 6, 4, 3, 5, 4, 0, 3, 3, 3, 1, 4, 6, 4, 3, 4, 6, 3, 5, 4, 3, 3, 4, 3, 3, 3, 6, 4, 4, 4, 3, 4, 3, 3, 3, 3, 3, 4, 3, 3, 5, 3, 3, 3, 3, 4, 4, 4, 3, 4, 3, 5, 4, 4, 6, 3, 6, 3, 3, 0, 4, 6, 8, 3, 5, 6, 8, 4, 3, 4, 3, 3, 4, 4, 4, 4, 0, 3, 6, 6, 6, 3, 3, 3, 3, 3, 3, 4, 4, 3, 3, 4, 4, 8, 3, 3, 3, 0, 0, 3, 6, 5, 6, 6, 4, 3, 3, 6, 4, 3, 4, 3, 4, 4, 4, 4, 3, 3, 4, 3, 3, 0, 3, 3, 3, 4, 3, 5, 4, 4, 3, 5, 3, 3, 0, 3, 3, 3, 4, 4, 3, 4, 5, 0, 5, 4, 3, 9, 6, 6, 6, 4, 4, 1, 3, 4, 8, 4, 8, 4, 3, 3, 3, 3, 6, 0, 3, 3, 6, 4, 4, 4, 4, 3, 4, 4, 3, 3, 1, 4, 4, 0, 4, 4, 4, 4, 3, 4, 3, 3, 4, 5, 4, 6, 0, 4, 4, 0, 4, 1, 3, 3, 3, 3, 4, 3, 3, 6, 4, 4, 3, 5, 3, 5, 4, 4, 6, 3, 6, 0, 4, 3, 3, 0, 6, 3, 4, 6, 5, 1, 3, 5, 4, 6, 6, 4, 0, 6, 3, 3, 4, 4, 3, 3, 5, 4, 3, 6, 5, 3, 4, 3, 3, 4, 8, 3, 4, 0, 4, 3, 3, 3, 4, 4, 8, 3, 6, 0, 5, 3, 3, 5, 3, 3, 3, 0, 4, 4, 6, 4, 4, 5, 8, 5, 4, 3, 4, 4, 3, 3, 4, 4, 9, 4, 4, 3, 4, 8, 4, 4, 4, 4, 4, 5, 3, 3, 3, 3, 3, 5, 6, 8, 6, 0, 0, 4, 4, 4, 3, 4, 5, 3, 1, 4, 4, 4, 4, 4, 3, 4, 4, 4, 3, 4, 4, 3, 3, 3, 1, 0, 3, 4, 3, 4, 0, 3, 9, 4, 4, 1, 5, 5, 6, 3, 4, 6, 4, 3, 3, 3, 6, 4, 6, 3, 3, 6, 4, 5, 4, 3, 3, 4, 3, 3, 4, 4, 1, 5, 5, 3, 6, 3, 6, 3, 4, 3, 3, 3, 4, 1, 3, 5, 4, 4, 0, 4, 0, 3, 3, 3, 4, 4, 4, 3, 3, 8, 6, 1, 8, 4, 5, 4, 0, 3, 3, 3, 0, 4, 0, 3, 6, 0, 3, 4, 6, 8, 3, 3, 3, 3, 3, 3, 3, 4, 3, 6, 6, 3, 4, 4, 6, 4, 4, 4, 4, 3, 4, 5, 5, 4, 0, 3, 6, 4, 4, 4, 6, 5, 3, 4, 5, 6, 4, 9, 6, 3, 6, 9, 3, 5, 3, 4, 4, 3, 4, 0, 3, 6, 4, 3, 0, 3, 3, 3, 4, 3, 6, 4, 4, 5, 4, 4, 4, 3, 3, 3, 3, 1, 4, 4, 4, 3, 3, 3, 4, 3, 6, 0, 1, 6, 6, 4, 0, 4, 4, 4, 4, 8, 1, 4, 4, 6, 3, 4, 0, 4, 6, 4, 6, 3, 4, 4, 3, 3, 4, 3, 3, 4, 4, 5, 3, 6, 4, 4, 0, 3, 3, 0, 3, 4, 5, 0, 4, 4, 4, 6, 0, 9, 3, 0, 8, 3, 4, 6, 6, 4, 4, 3, 0, 3, 4, 3, 4, 3, 4, 4, 3, 1, 5, 3, 0, 0, 3, 4, 4, 3, 3, 5, 0, 6, 4, 4, 3, 3, 3, 3, 3, 4, 3, 3, 4, 3, 3, 3, 3, 9, 0, 3, 0, 3, 3, 1, 6, 3, 0, 4, 4, 3, 6, 3, 3, 4, 4, 3, 1, 3, 4, 0, 3, 3, 3, 8, 3, 4, 5, 3, 3, 6, 3, 5, 8, 3, 4, 4, 3, 3, 3, 3, 4, 5, 4, 4, 3, 4, 3, 0, 3, 1, 6, 3, 5, 6, 3, 4, 6, 1, 3, 4, 4, 3, 6, 8, 8, 4, 4, 3, 4, 0, 3, 8, 4, 3, 1, 6, 3, 6, 3, 3, 4, 4, 4, 6, 3, 6, 8, 3, 4, 8, 4, 4, 3, 4, 3, 3, 3, 5, 3, 6, 3, 6, 3, 4, 4, 3, 6, 0, 9, 4, 3, 4, 3, 3, 3, 4, 4, 3, 4, 5, 3, 3, 4, 3, 6, 3, 3, 0, 4, 3, 6, 3, 3, 4, 4, 3, 3, 4, 4, 9, 5, 4, 3, 4, 3, 4, 4, 3, 3, 3, 0, 4, 4, 3, 1, 6, 3, 6, 4, 0, 3, 3, 3, 5, 0, 4, 4, 4, 3, 4, 3, 6, 3, 3, 3, 1, 4, 4, 6, 3, 9, 9, 3, 3, 0, 3, 0, 3, 4, 6, 4, 4, 8, 3, 3, 4, 3, 3, 3, 4, 3, 6, 4, 3, 3, 4, 4, 4, 0, 8, 3, 4, 4, 3, 4, 4, 0, 4, 5, 4, 4, 4, 6, 3, 0, 1, 3, 4, 3, 4, 1, 3, 0, 4, 4, 10, 3, 4, 4, 1, 3, 6, 5, 3, 3, 1, 8, 3, 4, 3, 3, 0, 4, 3, 3, 3, 5, 3, 5, 3, 10, 0, 6, 3, 5, 3, 6, 4, 5, 3, 3, 5, 3, 6, 3, 6, 8, 4, 0, 3, 6, 4, 8, 4, 0, 3, 3, 4, 4, 5, 4, 0, 4, 3, 4, 3, 6, 0, 0, 5, 5, 4, 3, 5, 3, 4, 4, 3, 4, 3, 3, 4, 6, 3, 4, 3, 0, 3, 1, 4, 1, 5, 3, 6, 5, 3, 5, 10, 4, 3, 5, 4, 3, 6, 4, 3, 4, 3, 6, 3, 1, 4, 5, 8, 3, 3, 4, 1, 4, 3, 6, 3, 6, 3, 4, 3, 4, 0, 3, 4, 4, 3, 3, 0, 5, 3, 4, 4, 4, 3, 3, 3, 3, 3, 4, 3, 4, 3, 0, 3, 4, 4, 3, 6, 3, 3, 3, 3, 4, 3, 9, 3, 3, 3, 8, 6, 6, 3, 4, 6, 3, 6, 3, 5, 3, 3, 3, 5, 3, 4, 4, 3, 4, 3, 3, 3, 3, 4, 4, 4, 3, 3, 6, 1, 3, 4, 3, 4, 6, 6, 4, 4, 3, 4, 6, 4, 3, 3, 4, 4, 4, 3, 6, 4, 4, 3, 5, 4, 3, 4, 6, 6, 6, 0, 3, 0, 4, 6, 4, 4, 4, 3, 3, 6, 4, 6, 3, 0, 3, 3, 4, 0, 4, 3, 3, 3, 3, 3, 0, 4, 0, 6, 6, 3, 4, 3, 4, 3, 4, 0, 4, 8, 4, 5, 6, 4, 3, 3, 3, 6, 5, 4, 3, 6, 4, 3, 3, 4, 4, 3, 6, 3, 3, 3, 4, 0, 5, 4, 3, 6, 3, 8, 4, 9, 3, 3, 3, 4, 6, 4, 3, 4, 4, 4, 3, 4, 4, 3, 4, 3, 6, 4, 4, 4, 5, 0, 0, 6, 3, 4, 0, 3, 6, 8, 3, 5, 4, 5, 6, 4, 4, 3, 4, 4, 5, 3, 4, 4, 4, 4, 4, 4, 3, 3, 1, 3, 0, 4, 3, 3, 3, 3, 1, 3, 4, 4, 3, 0, 3, 8, 4, 3, 3, 3, 4, 4, 1, 3, 6, 4, 4, 3, 3, 6, 3, 3, 3, 5, 3, 3, 6, 4, 5, 0, 4, 4, 6, 9, 0, 3, 3, 3, 4, 6, 4, 4, 3, 3, 3, 5, 3, 4, 0, 4, 3, 3, 3, 6, 3, 4, 4, 6, 4, 3, 4, 4, 1, 3, 1, 3, 8, 3, 4, 4, 4, 4, 6, 3, 3, 3, 3, 4, 6, 3, 3, 3, 4, 4, 6, 5, 3, 3, 0, 4, 5, 4, 4, 5, 0, 0, 4, 4, 0, 1, 6, 1, 6, 4, 3, 4, 3, 6, 9, 9, 4, 4, 3, 4, 3, 3, 3, 9, 5, 3, 6, 3, 3, 3, 4, 3, 6, 4, 5, 6, 3, 3, 3, 3, 3, 5, 3, 4, 0, 3, 3, 4, 4, 3, 6, 4, 3, 0, 5, 4, 5, 3, 6, 4, 6, 1, 3, 4, 3, 4, 4, 4, 4, 3, 3, 6, 3, 0, 3, 3, 1, 3, 3, 4, 4, 4, 0, 4, 3, 4, 8, 3, 4, 3, 3, 3, 3, 6, 4, 3, 4, 4, 4, 6, 4, 4, 3, 4, 4, 6, 4, 0, 4, 4, 9, 3, 3, 8, 4, 3, 3, 3, 3, 3, 8, 3, 3, 4, 3, 3, 6, 4, 3, 4, 5, 4, 3, 4, 0, 3, 9, 3, 4, 4, 3, 3, 4, 4, 3, 0, 3, 0, 9, 3, 4, 3, 4, 4, 4, 3, 5, 5, 3, 4, 3, 4, 9, 4, 5, 4, 4, 3, 8, 3, 3, 1, 1, 5, 3, 4, 4, 6, 5, 3, 3, 3, 5, 0, 4, 0, 3, 4, 4, 0, 3, 0, 5, 5, 0, 3, 3, 5, 4, 3, 0, 3, 6, 3, 3, 6, 5, 4, 6, 5, 4, 3, 8, 0, 4, 3, 3, 3, 3, 4, 4, 3, 3, 4, 3, 0, 4, 6, 4, 3, 8, 4, 3, 6, 4, 3, 3, 3, 4, 3, 4, 3, 0, 3, 6, 3, 3, 3, 4, 3, 3, 0, 0, 5, 3, 3, 3, 3, 4, 3, 3, 5, 4, 5, 3, 3, 3, 4, 6, 3, 4, 4, 3, 3, 3, 6, 3, 3, 4, 3, 0, 3, 6, 4, 4, 6, 3, 0, 4, 3, 4, 3, 0, 3, 4, 5, 4, 5, 8, 3, 3, 4, 1, 3, 0, 3, 0, 3, 6, 4, 4, 6, 6, 6, 3, 4, 0, 8, 4, 6, 0, 5, 0, 5, 5, 3, 8, 6, 3, 3, 6, 4, 4, 3, 5, 6, 6, 4, 3, 3, 6, 3, 4, 4, 3, 4, 3, 6, 4, 4, 4, 6, 3, 3, 3, 1, 4, 3, 4, 6, 3, 4, 3, 6, 3, 4, 4, 3, 4, 3, 4, 3, 4, 1, 3, 0, 0, 6, 6, 3, 4, 6, 5, 0, 3, 4, 6, 3, 4, 1, 3, 4, 0, 3, 4, 4, 6, 5, 3, 0, 3, 3, 0, 8, 6, 3, 4, 3, 4, 1, 6, 4, 4, 4, 4, 5, 3, 0, 3, 6, 0, 6, 4, 1, 3, 4, 3, 4, 4, 6, 0, 6, 3, 5, 0, 0, 4, 3, 0, 3, 3, 5, 3, 3, 4, 3, 3, 3, 3, 3, 6, 4, 4, 4, 6, 4, 0, 3, 4, 4, 4, 6, 4, 6, 4, 3, 9, 3, 0, 4, 1, 4, 3, 6, 3, 4, 6, 6, 6, 3, 3, 3, 3, 6, 4, 3, 5, 3, 4, 4, 8, 8, 4, 4, 4, 3, 4, 3, 3, 3, 6, 5, 6, 3, 6, 4, 4, 0, 3, 4, 3, 3, 4, 4, 5, 6, 3, 4, 6, 3, 5, 3, 3, 3, 4, 0, 3, 5, 4, 0, 4, 1, 3, 3, 4, 3, 6, 3, 3, 3, 3, 4, 9, 3, 3, 3, 5, 4, 4, 3, 4, 4, 4, 3, 8, 6, 6, 3, 4, 6, 3, 4, 4, 3, 3, 0, 5, 0, 6, 4, 0, 4, 3, 6, 4, 4, 4, 3, 3, 3, 4, 6, 6, 5, 4, 3, 4, 4, 3, 6, 6, 4, 5, 3, 8, 5, 3, 1, 4, 4, 6, 4, 6, 3, 4, 4, 6, 3, 4, 1, 3, 4, 3, 4, 0, 3, 3, 5, 3, 3, 1, 6, 3, 8, 4, 3, 3, 3, 0, 4, 3, 8, 3, 6, 0, 3, 4, 5, 3, 4, 0, 0, 3, 4, 3, 8, 6, 3, 4, 4, 4, 1, 1, 4, 4, 6, 5, 3, 3, 6, 3, 4, 4, 0, 6, 4, 4, 5, 3, 4, 4, 3, 8, 4, 4, 3, 4, 3, 6, 4, 3, 5, 4, 4, 4, 3, 3, 4, 4, 8, 4, 6, 6, 3, 6, 4, 4, 4, 6, 0, 3, 4, 3, 0, 3, 3, 4, 3, 4, 3, 4, 3, 3, 4, 4, 3, 5, 0, 3, 4, 9, 4, 3, 4, 1, 3, 3, 6, 4, 4, 6, 6, 4, 3, 3, 3, 1, 6, 3, 4, 4, 4, 3, 6, 0, 4, 5, 0, 4, 1, 6, 1, 3, 5, 3, 4, 3, 3, 4, 6, 3, 3, 9, 3, 3, 4, 3, 3, 6, 5, 6, 3, 4, 4, 3, 3, 3, 4, 3, 4, 6, 4, 0, 4, 1, 3, 4, 3, 4, 3, 3, 6, 4, 6, 6, 4, 5, 4, 3, 4, 6, 3, 3, 3, 0, 3, 3, 4, 3, 0, 8, 3, 3, 4, 3, 3, 3, 6, 5, 6, 4, 3, 8, 3, 3, 9, 6, 3, 3, 9, 4, 3, 4, 3, 0, 3, 4, 3, 3, 6, 0, 1, 3, 3, 3, 4, 4, 4, 3, 6, 8, 6, 3, 4, 3, 6, 3, 5, 5, 4, 4, 1, 3, 4, 3, 9, 6, 3, 4, 3, 3, 6, 3, 3, 0, 3, 3, 4, 3, 3, 3, 4, 4, 3, 6, 3, 3, 3, 3, 3, 3, 6, 4, 6, 3, 9, 5, 4, 6, 6, 3, 4, 4, 6, 3, 3, 6, 4, 3, 4, 4, 5, 5, 6, 6, 3, 3, 5, 3, 6, 3, 3, 3, 5, 6, 4, 5, 3, 4, 1, 3, 4, 5, 0, 4, 4, 3, 4, 4, 4, 6, 6, 4, 3, 6, 1, 3, 3, 5, 4, 4, 3, 6, 4, 3, 6, 4, 0, 6, 4, 3, 4, 4, 3, 3, 3, 3, 4, 6, 4, 5, 4, 1, 6, 4, 0, 8, 3, 4, 4, 3, 3, 6, 3, 4, 3, 8, 4, 4, 4, 3, 1, 6, 4, 3, 3, 3, 4, 4, 5, 6, 3, 4, 5, 3, 3, 4, 4, 4, 4, 6, 3, 0, 9, 4, 3, 5, 6, 3, 5, 1, 3, 3, 5, 3, 4, 4, 0, 4, 8, 6, 3, 3, 4, 4, 0, 3, 6, 3, 4, 3, 3, 0, 1, 3, 4, 1, 0, 4, 6, 3, 0, 3, 3, 3, 3, 5, 4, 0, 3, 4, 6, 3, 4, 3, 9, 4, 3, 4, 5, 4, 3, 3, 3, 3, 3, 3, 0, 5, 3, 6, 1, 3, 3, 3, 4, 3, 3, 4, 3, 3, 6, 4, 3, 4, 4, 3, 3, 0, 3, 3, 8, 4, 3, 4, 3, 3, 3, 4, 4, 5, 3, 3, 3, 3, 4, 3, 6, 3, 0, 4, 4, 3, 4, 9, 3, 8, 3, 4, 8, 3, 4, 4, 5, 4, 4, 3, 4, 3, 3, 3, 3, 3, 4, 6, 3, 4, 3, 3, 6, 3, 3, 3, 6, 3, 3, 3, 4, 4, 5, 0, 6, 5, 4, 4, 4, 3, 3, 4, 8, 3, 3, 5, 4, 6, 3, 3, 3, 3, 4, 3, 3, 5, 3, 3, 3, 3, 4, 4, 0, 5, 3, 4, 4, 4, 1, 8, 1, 4, 4, 6, 4, 4, 4, 4, 4, 3, 3, 4, 4, 4, 4, 4, 6, 4, 4, 4, 3, 4, 6, 3, 6, 6, 4, 1, 4, 3, 3, 3, 4, 6, 4, 3, 6, 4, 4, 3, 3, 3, 4, 3, 6, 3, 3, 3, 4, 4, 4, 3, 4, 3, 8, 4, 3, 4, 4, 4, 6, 4, 3, 3, 3, 1, 3, 4, 3, 3, 8, 4, 4, 4, 3, 6, 3, 4, 3, 6, 3, 3, 3, 5, 4, 4, 1, 5, 4, 3, 4, 3, 8, 0, 3, 6, 4, 3, 4, 3, 3, 3, 3, 6, 3, 4, 4, 4, 4, 4, 3, 4, 0, 4, 3, 9, 4, 3, 3, 6, 3, 8, 4, 3, 3, 3, 0, 3, 4, 5, 6, 4, 3, 6, 4, 6, 4, 3, 3, 4, 4, 3, 6, 6, 5, 4, 4, 4, 4, 3, 3, 0, 6, 3, 3, 4, 3, 6, 3, 3, 4, 3, 4, 4, 8, 3, 3, 3, 6, 8, 5, 3, 4, 4, 4, 4, 6, 3, 4, 4, 3, 6, 6, 3, 4, 3, 4, 3, 3, 3, 3, 4, 3, 4, 3, 4, 8, 3, 4, 4, 4, 4, 6, 4, 3, 3, 4, 6, 9, 3, 0, 3, 1, 3, 4, 4, 4, 0, 6, 4, 6, 4, 4, 5, 3, 3, 4, 4, 3, 5, 8, 3, 4, 6, 4, 6, 0, 4, 3, 3, 4, 4, 5, 4, 5, 3, 5, 4, 4, 5, 4, 9, 4, 3, 0, 0, 3, 6, 3, 3, 4, 1, 3, 3, 3, 3, 4, 4, 3, 9, 4, 3, 3, 3, 4, 3, 5, 3, 3, 3, 4, 3, 6, 6, 3, 0, 4, 6, 0, 4, 6, 3, 4, 3, 3, 8, 5, 0, 4, 3, 4, 3, 3, 8, 3, 5, 4, 4, 3, 3, 4, 3, 3, 3, 3, 3, 3, 4, 4, 5, 9, 4, 3, 3, 3, 4, 4, 6, 3, 3, 8, 4, 0, 4, 6, 3, 4, 4, 4, 4, 3, 0, 0, 4, 0, 0, 4, 3, 0, 4, 9, 6, 4, 4, 3, 8, 3, 4, 6, 3, 5, 3, 6, 3, 4, 4, 4, 4, 3, 4, 5, 3, 0, 3, 4, 0, 4, 3, 3, 3, 3, 6, 3, 4, 3, 3, 4, 3, 6, 0, 3, 5, 3, 4, 3, 3, 3, 5, 3, 0, 4, 0, 4, 4, 4, 3, 3, 6, 4, 0, 4, 3, 1, 3, 3, 3, 1, 9, 0, 3, 5, 3, 4, 3, 3, 4, 4, 3, 0, 3, 4, 5, 0, 4, 4, 3, 3, 4, 4, 3, 4, 5, 4, 3, 4, 3, 3, 4, 3, 8, 3, 3, 6, 4, 3, 3, 0, 3, 6, 4, 5, 3, 0, 4, 3, 0, 3, 4, 4, 3, 6, 3, 3, 4, 4, 0, 3, 4, 4, 6, 4, 6, 4, 5, 0, 5, 3, 9, 4, 4, 9, 4, 4, 4, 4, 4, 5, 4, 0, 4, 4, 4, 0, 5, 1, 3, 0, 0, 4, 3, 0, 3, 4, 3, 4, 3, 3, 5, 4, 1, 4, 6, 3, 6, 3, 3, 3, 3, 1, 5, 3, 5, 6, 6, 4, 4, 3, 8, 6, 0, 4, 4, 6, 4, 3, 5, 3, 4, 3, 6, 4, 3, 8, 0, 4, 3, 3, 4, 3, 6, 4, 3, 3, 3, 3, 3, 3, 4, 3, 6, 5, 3, 3, 3, 6, 8, 3, 3, 4, 0, 6, 4, 4, 3, 6, 8, 3, 4, 6, 3, 4, 0, 3, 4, 3, 6, 4, 4, 3, 3, 6, 3, 3, 0, 4, 6, 3, 4, 3, 3, 9, 3, 6, 4, 4, 4, 4, 3, 4, 3, 4, 3, 4, 6, 3, 1, 4, 3, 3, 3, 4, 8, 4, 3, 3, 3, 8, 3, 3, 3, 3, 4, 3, 4, 8, 4, 6, 3, 3, 7, 0, 4, 3, 4, 4, 4, 4, 4, 4, 3, 3, 6, 3, 4, 4, 3, 3, 6, 0, 3, 3, 4, 4, 3, 6, 3, 6, 4, 3, 3, 4, 4, 4, 6, 5, 3, 3, 4, 4, 5, 1, 3, 0, 4, 5, 4, 4, 5, 4, 6, 4, 0, 3, 3, 3, 1, 4, 6, 0, 3, 0, 0, 4, 4, 3, 4, 5, 8, 4, 3, 6, 3, 4, 3, 4, 4, 6, 3, 4, 3, 4, 4, 4, 4, 4, 6, 3, 0, 4, 3, 6, 3, 4, 0, 4, 3, 8, 9, 5, 4, 4, 3, 6, 0, 6, 3, 4, 4, 3, 0, 4, 3, 3, 0, 4, 0, 3, 3, 8, 3, 4, 3, 3, 1, 3, 3, 4, 3, 1, 3, 5, 4, 1, 4, 3, 3, 3, 3, 3, 4, 4, 6, 0, 3, 3, 3, 0, 0, 3, 3, 4, 3, 3, 0, 6, 4, 4, 3, 4, 3, 3, 3, 5, 9, 0, 0, 1, 4, 3, 0, 3, 8, 3, 4, 3, 9, 3, 8, 3, 4, 4, 3, 3, 3, 4, 0, 4, 3, 3, 4, 4, 3, 8, 3, 3, 3, 4, 3, 5, 4, 5, 4, 3, 6, 3, 3, 3, 4, 3, 3, 5, 6, 8, 4, 3, 3, 4, 3, 4, 4, 1, 6, 3, 6, 4, 3, 3, 3, 6, 3, 0, 0, 3, 4, 3, 3, 6, 3, 6, 3, 3, 3, 3, 0, 9, 0, 3, 5, 3, 6, 3, 6, 6, 1, 5, 4, 4, 3, 6, 4, 3, 3, 6, 3, 4, 4, 3, 3, 3, 4, 4, 4, 3, 3, 6, 5, 5, 4, 0, 4, 0, 6, 4, 4, 9, 3, 3, 4, 6, 4, 3, 4, 3, 6, 3, 3, 3, 3, 4, 4, 4, 5, 5, 6, 5, 3, 3, 4, 3, 4, 3, 4, 3, 3, 4, 0, 3, 3, 4, 4, 8, 4, 4, 3, 3, 4, 3, 3, 5, 3, 3, 6, 3, 4, 3, 3, 4, 0, 3, 3, 1, 4, 3, 3, 3, 3, 4, 3, 3, 3, 3, 4, 4, 3, 3, 3, 6, 4, 3, 5, 4, 3, 0, 4, 6, 3, 3, 3, 3, 4, 4, 4, 3, 3, 0, 3, 4, 3, 6, 5, 1, 3, 3, 5, 4, 4, 4, 4, 4, 9, 4, 6, 4, 3, 4, 0, 4, 4, 6, 0, 4, 3, 3, 3, 9, 3, 4, 3, 3, 5, 4, 6, 1, 3, 6, 3, 0, 4, 3, 4, 3, 4, 3, 4, 3, 3, 5, 4, 4, 3, 4, 3, 5, 4, 0, 3, 6, 1, 3, 0, 8, 6, 3, 4, 6, 4, 3, 4, 6, 6, 3, 4, 4, 4, 3, 3, 3, 5, 6, 5, 4, 5, 4, 6, 4, 3, 3, 4, 3, 6, 8, 4, 3, 0, 4, 6, 4, 3, 4, 1, 4, 3, 3, 4, 0, 0, 4, 3, 4, 3, 4, 3, 4, 3, 3, 8, 4, 4, 6, 3, 3, 1, 4, 3, 1, 4, 4, 6, 0, 4, 3, 4, 3, 3, 4, 4, 3, 3, 3, 3, 3, 4, 4, 3, 4, 0, 4, 4, 3, 0, 3, 4, 3, 4, 0, 3, 3, 6, 3, 5, 4, 3, 4, 3, 3, 4, 6, 0, 4, 3, 4, 3, 3, 3, 8, 3, 4, 3, 4, 3, 4, 3, 3, 3, 4, 4, 4, 0, 3, 5, 4, 4, 4, 3, 3, 4, 8, 6, 6, 4, 4, 3, 3, 3, 5, 3, 5, 8, 4, 9, 3, 3, 3, 4, 3, 4, 4, 4, 4, 4, 3, 0, 8, 4, 4, 1, 3, 8, 5, 5, 4, 4, 3, 4, 3, 3, 3, 4, 3, 3, 4, 6, 4, 4, 4, 1, 3, 4, 4, 4, 3, 3, 3, 3, 3, 4, 4, 3, 0, 4, 4, 4, 3, 3, 3, 3, 9, 3, 4, 3, 1, 3, 3, 4, 3, 3, 3, 0, 3, 4, 4, 3, 4, 3, 4, 3, 3, 0, 4, 6, 3, 0, 3, 4, 4, 6, 4, 3, 3, 3, 3, 4, 5, 3, 5, 4, 0, 4, 4, 3, 3, 3, 5, 4, 4, 3, 5, 3, 3, 3, 1, 6, 4, 6, 4, 4, 3, 6, 4, 3, 4, 8, 4, 4, 6, 4, 0, 6, 4, 4, 1, 5, 5, 6, 4, 6, 4, 3, 6, 4, 3, 6, 4, 5, 6, 0, 3, 3, 4, 4, 3, 3, 3, 4, 4, 1, 4, 3, 6, 3, 4, 6, 3, 8, 6, 0, 1, 6, 4, 4, 6, 4, 4, 6, 4, 6, 0, 5, 4, 5, 5, 3, 4, 6, 4, 4, 3, 8, 4, 3, 6, 6, 3, 3, 3, 3, 6, 3, 6, 4, 5, 4, 4, 5, 3, 6, 3, 4, 9, 3, 4, 4, 6, 1, 4, 3, 6, 3, 3, 3, 3, 3, 8, 6, 4, 0, 3, 9, 3, 3, 6, 4, 3, 3, 3, 6, 3, 3, 4, 4, 3, 3, 6, 3, 5, 4, 0, 4, 4, 3, 3, 4, 0, 6, 3, 6, 8, 4, 6, 5, 4, 3, 0, 4, 3, 4, 3, 4, 4, 3, 0, 8, 3, 4, 4, 4, 3, 4, 3, 3, 3, 3, 3, 3, 4, 4, 3, 4, 4, 4, 3, 6, 1, 3, 3, 0, 3, 3, 4, 3, 4, 3, 4, 5, 4, 4, 3, 6, 4, 4, 3, 4, 4, 3, 4, 3, 4, 3, 3, 6, 4, 3, 5, 3, 4, 8, 4, 6, 4, 3, 3, 3, 4, 3, 4, 3, 0, 0, 3, 4, 8, 3, 3, 3, 6, 4, 3, 0, 4, 6, 4, 4, 4, 3, 3, 6, 3, 6, 3, 4, 3, 4, 3, 8, 6, 1, 4, 4, 1, 3, 3, 5, 4, 4, 0, 4, 4, 5, 4, 3, 4, 3, 4, 3, 0, 6, 4, 4, 0, 4, 4, 6, 0, 4, 4, 3, 3, 5, 5, 0, 5, 4, 3, 3, 0, 4, 3, 3, 4, 3, 3, 6, 3, 0, 0, 5, 3, 3, 4, 3, 4, 3, 3, 8, 1, 3, 3, 5, 4, 5, 0, 4, 4, 3, 3, 4, 4, 6, 3, 5, 3, 4, 4, 4, 9, 4, 3, 3, 3, 3, 4, 3, 4, 3, 3, 0, 3, 6, 9, 4, 3, 4, 6, 3, 1, 3, 4, 5, 3, 3, 3, 4, 3, 3, 3, 4, 3, 3, 5, 4, 6, 4, 3, 6, 3, 4, 3, 4, 3, 6, 6, 5, 4, 0, 3, 3, 6, 3, 5, 3, 3, 4, 6, 4, 3, 3, 6, 6, 4, 5, 4, 3, 5, 3, 3, 3, 3, 6, 8, 4, 3, 3, 6, 3, 3, 6, 9, 4, 8, 3, 4, 4, 1, 3, 3, 3, 3, 0, 3, 4, 8, 4, 9, 3, 3, 4, 6, 4, 4, 4, 4, 4, 4, 4, 6, 3, 0, 4, 0, 4, 4, 3, 5, 3, 3, 4, 6, 4, 6, 0, 6, 4, 4, 6, 4, 4, 4, 6, 6, 3, 4, 6, 3, 3, 4, 6, 3, 0, 6, 4, 0, 6, 3, 3, 3, 3, 3, 0, 1, 4, 3, 4, 4, 4, 3, 9, 4, 3, 3, 4, 1, 4, 6, 6, 6, 3, 8, 6, 4, 6, 4, 5, 3, 5, 4, 3, 3, 4, 6, 4, 4, 0, 3, 4, 5, 4, 3, 3, 4, 3, 6, 1, 4, 6, 0, 3, 3, 6, 4, 3, 3, 3, 3, 4, 0, 3, 4, 3, 4, 3, 4, 3, 3, 0, 3, 1, 3, 3, 4, 3, 5, 0, 3, 3, 3, 3, 5, 6, 3, 3, 4, 4, 4, 0, 4, 3, 4, 3, 3, 6, 4, 3, 5, 4, 4, 8, 3, 4, 3, 3, 6, 3, 5, 4, 3, 3, 3, 3, 3, 6, 3, 3, 3, 1, 5, 4, 6, 3, 0, 4, 8, 10, 0, 3, 6, 9, 3, 3, 3, 4, 3, 3, 3, 4, 4, 3, 8, 3, 4, 4, 1, 3, 3, 3, 5, 5, 4, 0, 4, 0, 4, 0, 3, 4, 6, 5, 4, 3, 4, 3, 6, 3, 3, 5, 4, 4, 3, 4, 3, 9, 9, 3, 5, 4, 5, 0, 4, 3, 4, 3, 4, 3, 3, 3, 3, 4, 6, 0, 4, 6, 3, 4, 5, 1, 4, 3, 6, 4, 5, 6, 4, 3, 4, 5, 5, 3, 3, 4, 0, 0, 4, 4, 4, 4, 4, 4, 3, 3, 3, 4, 4, 3, 4, 4, 6, 3, 4, 3, 4, 6, 3, 4, 4, 3, 3, 5, 5, 0, 0, 3, 3, 1, 4, 0, 0, 4, 3, 4, 3, 8, 3, 4, 4, 4, 3, 3, 4, 5, 4, 3, 3, 3, 6, 3, 6, 0, 0, 3, 0, 3, 3, 6, 8, 4, 3, 4, 4, 6, 4, 3, 3, 4, 3, 3, 4, 4, 3, 0, 3, 5, 3, 5, 3, 4, 4, 3, 4, 6, 4, 3, 4, 4, 5, 3, 3, 4, 3, 3, 5, 4, 4, 3, 3, 4, 5, 3, 4, 3, 3, 4, 4, 4, 3, 1, 4, 0, 3, 5, 3, 4, 4, 3, 1, 0, 4, 3, 6, 9, 4, 4, 6, 6, 3, 0, 3, 3, 4, 3, 4, 3, 3, 4, 4, 4, 3, 4, 3, 4, 1, 4, 3, 3, 3, 5, 4, 6, 4, 3, 0, 3, 4, 3, 6, 3, 3, 3, 4, 4, 3, 4, 3, 4, 3, 4, 3, 4, 3, 4, 4, 3, 4, 5, 3, 3, 3, 5, 3, 5, 4, 3, 3, 3, 4, 5, 0, 3, 0, 5, 3, 4, 4, 9, 4, 3, 4, 4, 4, 6, 0, 3, 3, 3, 3, 3, 8, 4, 3, 3, 3, 4, 6, 4, 4, 3, 4, 6, 8, 6, 4, 4, 8, 6, 6, 3, 3, 4, 4, 4, 4, 4, 3, 3, 4, 3, 4, 3, 4, 3, 6, 6, 3, 1, 4, 6, 4, 6, 4, 4, 8, 3, 3, 4, 0, 4, 3, 3, 5, 6, 4, 3, 4, 3, 6, 4, 5, 3, 0, 5, 3, 6, 4, 4, 9, 3, 5, 3, 4, 4, 4, 4, 4, 3, 6, 4, 4, 1, 3, 3, 6, 4, 3, 6, 6, 4, 9, 5, 4, 4, 3, 0, 9, 5, 4, 4, 4, 4, 3, 3, 3, 4, 3, 3, 4, 5, 4, 3, 4, 3, 9, 3, 3, 4, 6, 4, 3, 3, 5, 3, 3, 4, 3, 6, 7, 4, 5, 3, 4, 5, 9, 3, 3, 4, 1, 4, 3, 5, 3, 4, 3, 0, 3, 4, 4, 4, 9, 4, 5, 0, 4, 1, 4, 3, 6, 4, 4, 6, 4, 3, 3, 3, 6, 0, 4, 5, 3, 3, 4, 3, 3, 4, 3, 4, 3, 4, 4, 4, 4, 3, 4, 4, 6, 0, 4, 3, 3, 3, 4, 3, 3, 4, 3, 3, 4, 8, 0, 4, 3, 5, 3, 3, 3, 4, 4, 3, 4, 1, 4, 3, 4, 0, 0, 3, 3, 5, 0, 5, 3, 3, 4, 3, 3, 3, 4, 4, 3, 3, 8, 6, 4, 0, 6, 3, 4, 4, 4, 4, 0, 4, 3, 3, 3, 4, 3, 3, 3, 3, 6, 4, 3, 3, 4, 4, 4, 3, 3, 3, 4, 4, 3, 4, 3, 0, 4, 4, 3, 4, 3, 4, 3, 5, 6, 4, 8, 5, 3, 3, 6, 8, 3, 5, 5, 6, 0, 8, 3, 4, 5, 3, 6, 8, 3, 1, 4, 4, 4, 3, 3, 3, 3, 3, 3, 4, 5, 5, 3, 3, 4, 3, 4, 3, 6, 8, 3, 4, 4, 4, 5, 3, 4, 3, 3, 4, 3, 4, 0, 3, 3, 4, 6, 3, 4, 6, 3, 3, 3, 3, 4, 3, 5, 4, 4, 0, 3, 4, 4, 3, 3, 6, 6, 3, 3, 4, 6, 3, 4, 3, 4, 4, 3, 4, 3, 4, 8, 3, 4, 4, 4, 4, 3, 6, 4, 3, 4, 4, 3, 6, 4, 9, 3, 4, 4, 0, 0, 0, 3, 6, 9, 4, 3, 3, 3, 4, 4, 4, 3, 4, 4, 9, 6, 0, 5, 8, 5, 1, 6, 4, 3, 4, 6, 6, 5, 3, 6, 4, 3, 6, 6, 4, 3, 0, 4, 3, 4, 4, 3, 4, 4, 5, 3, 6, 0, 6, 0, 0, 3, 4, 4, 3, 3, 4, 3, 3, 5, 4, 4, 3, 3, 3, 1, 4, 4, 3, 5, 4, 3, 4, 3, 6, 0, 4, 3, 3, 3, 3, 3, 6, 4, 8, 0, 5, 3, 3, 3, 5, 4, 3, 4, 3, 9, 4, 3, 6, 3, 4, 5, 3, 3, 4, 0, 4, 3, 3, 3, 0, 6, 3, 3, 4, 4, 3, 4, 3, 6, 3, 3, 4, 9, 5, 3, 3, 5, 4, 6, 6, 0, 4, 3, 0, 4, 4, 6, 4, 4, 1, 4, 4, 4, 8, 4, 4, 3, 0, 4, 4, 3, 9, 3, 4, 3, 4, 4, 4, 3, 3, 6, 5, 4, 4, 3, 6, 3, 4, 4, 4, 3, 4, 3, 4, 6, 3, 6, 3, 4, 3, 6, 3, 8, 4, 3, 4, 3, 4, 4, 4, 4, 3, 4, 4, 6, 4, 4, 5, 3, 4, 4, 3, 3, 3, 8, 6, 4, 1, 1, 4, 0, 4, 3, 3, 6, 3, 9, 6, 3, 4, 0, 3, 6, 4, 3, 3, 3, 3, 0, 3, 6, 4, 4, 3, 4, 3, 4, 4, 3, 6, 3, 4, 4, 3, 3, 3, 6, 9, 3, 6, 6, 4, 3, 5, 3, 6, 4, 4, 6, 6, 3, 0, 4, 6, 6, 0, 4, 4, 4, 3, 3, 4, 4, 3, 4, 6, 4, 6, 0, 6, 4, 4, 3, 3, 3, 4, 3, 5, 3, 3, 6, 8, 4, 3, 3, 3, 4, 3, 4, 4, 0, 3, 6, 8, 4, 6, 5, 4, 6, 4, 4, 4, 4, 9, 4, 3, 4, 3, 3, 3, 4, 1, 3, 4, 3, 4, 3, 3, 4, 3, 9, 0, 3, 4, 4, 0, 3, 0, 4, 3, 3, 3, 4, 3, 3, 4, 6, 4, 3, 4, 3, 3, 6, 4, 4, 3, 6, 1, 3, 3, 3, 3, 7, 3, 4, 3, 0, 3, 0, 6, 4, 4, 3, 3, 4, 5, 4, 3, 3, 6, 6, 4, 9, 3, 0, 6, 0, 4, 4, 3, 3, 9, 4, 3, 6, 3, 4, 8, 3, 4, 4, 4, 0, 3, 3, 3, 3, 6, 5, 0, 0, 3, 3, 4, 3, 4, 3, 3, 4, 3, 3, 0, 3, 6, 3, 6, 3, 4, 6, 4, 4, 6, 4, 0, 3, 5, 4, 5, 4, 4, 4, 5, 3, 5, 3, 0, 4, 4, 3, 4, 0, 3, 4, 8, 3, 4, 3, 3, 3, 9, 3, 6, 4, 3, 3, 0, 5, 3, 4, 5, 4, 3, 3, 6, 5, 0, 3, 4, 3, 4, 5, 3, 3, 3, 3, 4, 3, 4, 6, 4, 3, 6, 3, 3, 4, 6, 4, 5, 3, 3, 4, 5, 4, 4, 4, 8, 5, 4, 3, 4, 3, 3, 3, 6, 4, 5, 3, 4, 1, 8, 0, 4, 5, 4, 4, 4, 3, 4, 3, 4, 3, 4, 4, 4, 0, 4, 4, 4, 6, 3, 3, 6, 4, 4, 3, 0, 4, 6, 3, 4, 6, 3, 3, 3, 5, 8, 0, 5, 4, 4, 6, 4, 5, 4, 4, 0, 0, 4, 3, 4, 4, 3, 4, 5, 1, 8, 4, 6, 3, 4, 9, 0, 5, 3, 1, 4, 4, 3, 3, 3, 4, 3, 5, 0, 6, 4, 6, 4, 3, 4, 3, 5, 3, 3, 4, 1, 3, 3, 1, 3, 4, 4, 0, 3, 3, 3, 4, 4, 0, 0, 4, 4, 6, 3, 1, 3, 9, 6, 6, 3, 3, 6, 4, 3, 3, 4, 4, 8, 4, 3, 8, 6, 3, 3, 4, 3, 6, 5, 3, 0, 4, 8, 4, 3, 3, 3, 4, 3, 4, 4, 4, 4, 4, 3, 4, 3, 4, 3, 4, 4, 9, 4, 3, 3, 4, 3, 4, 3, 5, 3, 8, 4, 3, 1, 3, 3, 3, 3, 8, 3, 3, 4, 0, 8, 4, 6, 3, 3, 4, 6, 3, 3, 3, 3, 5, 4, 4, 4, 4, 4, 3, 3, 3, 3, 3, 4, 5, 0, 3, 3, 4, 4, 3, 4, 3, 3, 0, 5, 4, 4, 6, 4, 5, 4, 3, 3, 6, 4, 4, 4, 3, 5, 5, 6, 4, 3, 4, 4, 0, 3, 5, 3, 4, 4, 4, 4, 3, 6, 5, 5, 3, 4, 4, 3, 3, 6, 4, 3, 3, 6, 4, 3, 3, 5, 5, 1, 6, 1, 3, 4, 8, 5, 3, 1, 3, 4, 4, 4, 3, 3, 6, 6, 3, 6, 3, 4, 6, 4, 6, 6, 4, 0, 3, 3, 4, 3, 3, 4, 6, 4, 3, 0, 4, 8, 0, 4, 4, 0, 6, 6, 3, 4, 3, 3, 4, 4, 1, 6, 6, 4, 4, 4, 4, 5, 4, 4, 4, 3, 3, 6, 4, 3, 4, 3, 9, 9, 4, 4, 3, 4, 0, 4, 6, 3, 6, 5, 3, 3, 6, 3, 1, 4, 4, 3, 6, 5, 4, 5, 4, 3, 3, 4, 3, 1, 0, 6, 3, 4, 4, 4, 3, 1, 0, 4, 3, 3, 3, 4, 3, 5, 5, 3, 4, 3, 3, 4, 3, 4, 3, 9, 3, 4, 3, 3, 4, 4, 0, 6, 3, 3, 4, 3, 4, 6, 3, 4, 4, 5, 5, 4, 3, 3, 6, 4, 8, 3, 5, 4, 4, 5, 4, 4, 4, 6, 4, 8, 4, 4, 4, 4, 4, 4, 3, 3, 3, 4, 6, 1, 5, 3, 3, 6, 4, 4, 3, 4, 4, 4, 3, 4, 6, 4, 4, 6, 4, 3, 3, 4, 4, 3, 4, 3, 5, 8, 4, 1, 3, 6, 4, 5, 3, 3, 4, 0, 3, 3, 5, 0, 4, 6, 5, 4, 3, 1, 0, 3, 6, 4, 1, 4, 6, 3, 3, 4, 6, 4, 6, 3, 6, 3, 3, 3, 3, 4, 1, 3, 4, 4, 3, 0, 3, 3, 4, 4, 4, 1, 3, 4, 5, 0, 1, 3, 3, 4, 5, 8, 4, 3, 3, 8, 6, 3, 3, 4, 0, 3, 4, 3, 3, 0, 4, 6, 3, 3, 4, 4, 4, 3, 3, 6, 3, 3, 5, 3, 3, 3, 3, 3, 6, 5, 6, 4, 4, 4, 3, 4, 4, 4, 4, 3, 3, 5, 3, 4, 4, 8, 4, 4, 9, 3, 5, 3, 4, 3, 9, 4, 4, 3, 3, 8, 5, 4, 5, 3, 4, 4, 3, 1, 1, 4, 0, 6, 5, 3, 3, 3, 3, 3, 6, 0, 3, 3, 3, 3, 6, 4, 3, 3, 4, 3, 6, 3, 3, 4, 3, 4, 4, 3, 3, 3, 3, 0, 3, 4, 4, 3, 5, 4, 5, 4, 3, 3, 8, 3, 3, 3, 1, 3, 4, 3, 0, 3, 3, 3, 4, 4, 3, 4, 3, 3, 4, 6, 3, 5, 4, 6, 8, 6, 4, 3, 6, 3, 3, 3, 3, 3, 3, 3, 4, 5, 3, 3, 9, 3, 6, 3, 3, 5, 4, 3, 3, 4, 9, 3, 3, 4, 4, 3, 0, 3, 4, 3, 3, 3, 3, 3, 3, 3, 3, 3, 3, 4, 6, 3, 4, 3, 0, 3, 6, 4, 5, 3, 5, 3, 4, 3, 0, 3, 3, 5, 8, 4, 3, 3, 4, 3, 4, 6, 4, 3, 4, 3, 3, 4, 5, 3, 3, 3, 6, 0, 3, 3, 9, 3, 3, 4, 3, 1, 4, 6, 4, 4, 9, 3, 6, 3, 4, 6, 4, 4, 3, 0, 3, 4, 5, 4, 1, 4, 4, 3, 4, 9, 5, 3, 0, 5, 4, 4, 4, 1, 4, 4, 6, 3, 5, 4, 6, 3, 3, 4, 6, 3, 3, 4, 4, 4, 3, 4, 3, 4, 4, 3, 3, 4, 3, 4, 1, 3, 4, 1, 1, 8, 4, 3, 3, 8, 3, 6, 4, 3, 4, 10, 4, 4, 6, 4, 6, 4, 3, 10, 4, 4, 4, 5, 8, 4, 3, 4, 3, 6, 4, 3, 3, 0, 5, 0, 3, 5, 4, 4, 8, 6, 4, 6, 4, 5, 3, 0, 4, 5, 3, 4, 3, 3, 4, 9, 3, 3, 3, 0, 6, 4, 4, 4, 3, 0, 3, 3, 4, 3, 3, 3, 4, 3, 3, 3, 3, 6, 4, 1, 3, 3, 0, 4, 3, 3, 6, 6, 4, 3, 3, 3, 3, 0, 3, 4, 6, 6, 3, 0, 4, 0, 3, 5, 6, 6, 3, 4, 8, 4, 1, 4, 6, 3, 4, 3, 6, 4, 5, 3, 4, 6, 0, 3, 4, 3, 3, 3, 3, 3, 6, 6, 4, 3, 3, 3, 4, 3, 3, 4, 6, 4, 4, 3, 4, 6, 6, 6, 8, 4, 3, 4, 3, 4, 3, 4, 3, 3, 3, 5, 4, 4, 4, 4, 3, 6, 6, 4, 3, 4, 0, 4, 0, 3, 5, 1, 4, 3, 3, 0, 3, 3, 6, 6, 4, 3, 3, 3, 4, 4, 6, 4, 3, 3, 3, 3, 1, 3, 4, 4, 0, 3, 3, 4, 4, 3, 4, 4, 3, 4, 0, 3, 4, 6, 4, 4, 3, 8, 3, 4, 3, 6, 4, 4, 6, 4, 1, 3, 3, 4, 4, 8, 6, 3, 0, 10, 4, 3, 4, 4, 0, 3, 1, 3, 6, 4, 3, 3, 3, 3, 3, 4, 4, 3, 4, 4, 0, 6, 5, 0, 5, 4, 3, 5, 5, 4, 3, 8, 1, 3, 0, 6, 4, 3, 6, 8, 4, 3, 3, 3, 3, 6, 3, 1, 4, 4, 5, 6, 3, 0, 3, 3, 6, 3, 3, 3, 3, 9, 0, 4, 3, 3, 6, 4, 4, 10, 3, 5, 4, 3, 4, 8, 3, 3, 4, 4, 4, 3, 3, 3, 0, 3, 3, 6, 3, 3, 4, 4, 3, 4, 4, 3, 3, 3, 4, 3, 3, 4, 4, 3, 4, 4, 4, 3, 3, 6, 4, 5, 4, 4, 4, 3, 3, 3, 3, 3, 3, 3, 3, 6, 3, 3, 4, 4, 4, 3, 4, 1, 4, 3, 3, 0, 4, 5, 4, 5, 8, 8, 4, 3, 3, 1, 3, 4, 1, 4, 5, 3, 3, 3, 5, 0, 6, 5, 0, 6, 6, 3, 1, 8, 0, 3, 4, 4, 5, 4, 3, 3, 0, 3, 3, 1, 3, 3, 3, 6, 3, 3, 4, 3, 4, 3, 4, 3, 3, 4, 6, 3, 3, 3, 6, 4, 4, 3, 5, 4, 3, 4, 0, 3, 0, 3, 3, 6, 3, 1, 4, 1, 8, 4, 3, 3, 4, 4, 3, 6, 0, 4, 3, 3, 4, 4, 6, 3, 3, 4, 4, 3, 3, 3, 3, 6, 4, 4, 4, 5, 3, 3, 4, 3, 6, 6, 5, 3, 4, 3, 6, 3, 4, 4, 6, 5, 4, 6, 1, 5, 3, 4, 3, 6, 4, 3, 4, 0, 9, 6, 6, 0, 6, 5, 3, 4, 4, 3, 3, 4, 3, 6, 6, 3, 0, 4, 4, 3, 3, 6, 3, 3, 5, 4, 3, 3, 3, 4, 4, 4, 3, 6, 8, 4, 8, 9, 3, 3, 3, 3, 6, 8, 0, 3, 4, 6, 3, 0, 4, 4, 4, 3, 4, 6, 6, 3, 4, 4, 3, 0, 5, 3, 3, 3, 6, 6, 5, 3, 4, 3, 3, 0, 0, 4, 3, 4, 5, 8, 3, 7, 3, 3, 3, 4, 3, 4, 0, 3, 3, 3, 4, 3, 1, 6, 4, 3, 6, 3, 0, 0, 3, 4, 4, 4, 8, 6, 0, 5, 6, 3, 3, 6, 4, 3, 4, 3, 0, 4, 4, 3, 4, 6, 4, 0, 6, 5, 3, 0, 4, 3, 3, 3, 0, 4, 5, 4, 3, 4, 3, 3, 0, 0, 6, 6, 3, 4, 5, 3, 4, 3, 3, 3, 3, 4, 1, 3, 4, 3, 3, 3, 3, 6, 1, 3, 3, 1, 3, 3, 6, 3, 1, 4, 3, 4, 0, 4, 4, 4, 4, 4, 0, 3, 4, 3, 3, 4, 4, 4, 0, 3, 5, 4, 4, 6, 0, 4, 3, 4, 3, 4, 4, 0, 8, 0, 0, 4, 5, 6, 3, 4, 4, 4, 0, 4, 8, 4, 4, 3, 3, 4, 3, 3, 4, 4, 4, 3, 6, 3, 4, 3, 4, 3, 3, 5, 3, 6, 3, 3, 4, 4, 3, 3, 8, 4, 4, 0, 3, 5, 1, 4, 3, 4, 4, 4, 4, 4, 4, 4, 3, 9, 4, 0, 4, 3, 6, 4, 4, 6, 6, 5, 3, 3, 6, 0, 4, 4, 1, 4, 5, 3, 3, 4, 5, 4, 4, 6, 4, 4, 4, 4, 5, 3, 4, 5, 8, 4, 6, 6, 4, 4, 3, 4, 3, 3, 3, 1, 4, 5, 4, 3, 3, 5, 3, 3, 6, 4, 1, 0, 3, 4, 3, 4, 3, 4, 3, 3, 3, 0, 3, 3, 0, 3, 8, 4, 3, 4, 4, 3, 4, 4, 4, 3, 3, 4, 3, 6, 4, 9, 6, 4, 4, 4, 3, 4, 4, 6, 3, 4, 6, 6, 4, 4, 3, 9, 6, 3, 4, 6, 4, 5, 3, 3, 3, 4, 4, 6, 5, 4, 3, 3, 4, 6, 3, 8, 8, 4, 4, 0, 3, 8, 6, 4, 3, 4, 9, 3, 3, 8, 3, 8, 3, 6, 6, 6, 3, 2, 4, 3, 3, 3, 4, 3, 4, 3, 6, 3, 4, 5, 3, 4, 3, 0, 3, 4, 4, 4, 4, 4, 4, 6, 6, 4, 3, 5, 3, 0, 3, 4, 6, 4, 3, 0, 4, 0, 6, 6, 6, 3, 0, 3, 3, 0, 4, 3, 4, 3, 3, 6, 4, 3, 4, 0, 3, 4, 4, 3, 6, 5, 4, 4, 3, 3, 3, 6, 3, 3, 5, 5, 3, 3, 8, 0, 4, 3, 8, 3, 3, 3, 4, 4, 3, 3, 6, 3, 4, 4, 6, 3, 4, 3, 6, 3, 3, 8, 4, 4, 3, 4, 3, 4, 6, 4, 6, 4, 4, 3, 4, 4, 4, 4, 6, 3, 4, 5, 4, 0, 3, 3, 3, 6, 4, 4, 6, 6, 3, 1, 3, 3, 3, 4, 4, 6, 3, 6, 5, 4, 4, 3, 4, 4, 4, 3, 6, 4, 3, 4, 0, 1, 6, 4, 0, 3, 3, 4, 3, 6, 4, 4, 4, 5, 3, 4, 1, 6, 3, 3, 1, 3, 3, 4, 3, 4, 3, 3, 3, 4, 4, 3, 3, 4, 6, 3, 4, 5, 5, 3, 3, 3, 5, 8, 4, 3, 3, 0, 5, 5, 3, 1, 4, 4, 5, 3, 4, 5, 4, 3, 6, 3, 6, 5, 3, 4, 8, 6, 4, 3, 4, 8, 4, 4, 3, 3, 0, 4, 3, 4, 4, 0, 4, 0, 3, 3, 5, 4, 6, 9, 1, 4, 3, 6, 0, 6, 5, 4, 6, 0, 4, 3, 3, 5, 4, 8, 3, 4, 4, 4, 6, 6, 4, 3, 3, 3, 3, 3, 0, 3, 0, 3, 3, 4, 3, 1, 4, 4, 8, 6, 3, 6, 3, 3, 3, 3, 4, 3, 3, 8, 3, 3, 3, 4, 4, 3, 3, 4, 6, 4, 3, 3, 3, 4, 3, 3, 6, 3, 4, 4, 5, 4, 4, 0, 6, 4, 0, 3, 4, 3, 6, 6, 3, 0, 5, 6, 6, 0, 4, 4, 4, 6, 3, 0, 4, 3, 3, 3, 3, 4, 5, 5, 0, 3, 4, 4, 3, 4, 3, 5, 3, 3, 3, 5, 6, 5, 4, 1, 9, 5, 1, 3, 0, 3, 3, 3, 3, 5, 0, 3, 0, 3, 0, 6, 0, 5, 6, 3, 4, 3, 5, 4, 3, 6, 6, 4, 4, 4, 4, 4, 3, 3, 3, 4, 4, 3, 4, 4, 3, 3, 9, 3, 6, 3, 4, 4, 3, 4, 0, 5, 3, 6, 4, 3, 4, 3, 4, 3, 0, 6, 3, 4, 4, 0, 3, 6, 4, 4, 3, 6, 3, 8, 3, 3, 4, 1, 4, 3, 1, 6, 4, 3, 3, 0, 4, 5, 8, 5, 3, 4, 5, 0, 1, 4, 4, 0, 1, 3, 4, 3, 4, 3, 3, 6, 3, 6, 4, 4, 3, 9, 6, 6, 3, 3, 4, 5, 4, 4, 6, 4, 6, 1, 4, 3, 3, 4, 5, 0, 9, 3, 1, 4, 3, 4, 6, 3, 4, 4, 3, 0, 3, 3, 3, 4, 3, 6, 8, 3, 6, 4, 3, 0, 4, 0, 4, 3, 6, 4, 8, 9, 3, 3, 3, 4, 3, 3, 6, 6, 4, 6, 6, 3, 4, 4, 3, 4, 0, 4, 5, 3, 3, 3, 3, 4, 3, 3, 3, 3, 4, 3, 3, 3, 3, 3, 3, 3, 4, 6, 6, 3, 4, 8, 6, 3, 4, 0, 6, 4, 5, 4, 4, 5, 1, 4, 9, 3, 9, 4, 4, 6, 4, 3, 6, 0, 3, 6, 8, 6, 3, 9, 3, 3, 3, 3, 3, 3, 3, 3, 1, 3, 4, 0, 9, 0, 4, 4, 1, 4, 4, 3, 0, 3, 4, 3, 1, 3, 4, 3, 4, 4, 3, 3, 4, 8, 3, 4, 3, 4, 3, 8, 3, 3, 4, 3, 3, 5, 3, 3, 4, 4, 8, 3, 6, 0, 1, 4, 0, 4, 3, 4, 3, 6, 3, 3, 3, 4, 3, 0, 4, 4, 3, 3, 4, 3, 3, 4, 1, 3, 3, 5, 4, 3, 6, 3, 4, 4, 3, 3, 3, 4, 0, 0, 4, 3, 4, 4, 4, 4, 0, 9, 4, 6, 5, 3, 3, 8, 3, 5, 3, 3, 4, 4, 4, 4, 6, 3, 4, 3, 3, 4, 4, 4, 4, 3, 3, 3, 4, 4, 3, 3, 3, 4, 4, 3, 3, 8, 4, 0, 3, 4, 4, 3, 4, 1, 3, 5, 6, 4, 1, 6, 6, 3, 4, 5, 4, 3, 4, 3, 6, 3, 4, 5, 6, 8, 4, 4, 1, 4, 3, 3, 6, 4, 6, 3, 6, 3, 1, 0, 0, 3, 3, 6, 6, 8, 4, 3, 9, 4, 3, 0, 3, 3, 3, 3, 6, 4, 4, 3, 4, 3, 5, 3, 3, 4, 4, 3, 3, 4, 0, 3, 3, 4, 0, 6, 4, 3, 0, 3, 6, 4, 0, 3, 3, 3, 6, 4, 0, 3, 4, 3, 0, 6, 0, 5, 3, 3, 3, 3, 4, 4, 5, 4, 4, 4, 3, 4, 3, 3, 6, 3, 3, 4, 3, 3, 1, 3, 6, 4, 4, 8, 3, 3, 4, 4, 3, 6, 4, 4, 4, 3, 3, 6, 0, 8, 3, 2, 3, 0, 4, 4, 3, 4, 4, 1, 5, 5, 3, 3, 3, 6, 4, 5, 4, 6, 3, 3, 3, 3, 3, 6, 5, 4, 3, 3, 4, 3, 3, 6, 6, 0, 3, 4, 6, 3, 3, 6, 4, 4, 4, 4, 4, 5, 6, 4, 3, 3, 3, 4, 4, 3, 6, 4, 4, 4, 4, 4, 4, 4, 0, 3, 4, 3, 3, 4, 5, 3, 3, 4, 4, 0, 4, 6, 3, 6, 3, 3, 6, 3, 3, 4, 4, 3, 3, 4, 6, 3, 3, 6, 5, 4, 6, 3, 3, 4, 4, 3, 3, 3, 4, 4, 3, 3, 3, 4, 3, 3, 0, 6, 5, 3, 6, 3, 3, 3, 3, 8, 4, 3, 4, 4, 4, 6, 4, 3, 6, 4, 4, 4, 6, 3, 3, 4, 5, 4, 3, 8, 3, 4, 3, 1, 4, 8, 4, 3, 3, 4, 3, 4, 6, 4, 1, 3, 4, 3, 3, 4, 3, 4, 4, 4, 3, 5, 4, 6, 3, 3, 3, 3, 6, 4, 3, 3, 1, 6, 4, 4, 4, 3, 5, 3, 4, 5, 3, 0, 4, 4, 5, 9, 3, 1, 5, 4, 4, 0, 4, 6, 0, 4, 0, 4, 4, 3, 3, 6, 3, 3, 0, 6, 1, 5, 4, 3, 3, 6, 4, 4, 5, 4, 4, 3, 3, 3, 4, 4, 3, 3, 4, 4, 3, 3, 3, 3, 3, 3, 3, 3, 3, 4, 4, 3, 3, 3, 4, 4, 4, 0, 4, 3, 6, 3, 3, 4, 3, 0, 3, 6, 6, 4, 6, 3, 3, 4, 3, 4, 8, 0, 4, 4, 6, 4, 4, 4, 3, 4, 4, 3, 3, 3, 6, 3, 4, 3, 3, 0, 6, 5, 3, 3, 3, 3, 3, 4, 3, 4, 3, 5, 3, 4, 4, 3, 4, 3, 0, 4, 3, 3, 5, 3, 3, 5, 4, 4, 6, 3, 3, 4, 0, 4, 0, 3, 3, 3, 4, 3, 3, 3, 4, 4, 5, 4, 3, 6, 9, 6, 6, 3, 3, 6, 3, 3, 4, 4, 3, 5, 4, 6, 6, 4, 4, 3, 3, 0, 3, 3, 3, 3, 0, 5, 3, 4, 4, 1, 6, 3, 4, 3, 4, 3, 8, 4, 4, 4, 3, 4, 1, 3, 4, 4, 3, 1, 4, 3, 3, 4, 0, 1, 0, 3, 4, 3, 3, 3, 4, 0, 3, 4, 4, 3, 4, 3, 4, 3, 6, 4, 4, 3, 8, 3, 4, 4, 6, 6, 4, 3, 3, 3, 3, 6, 6, 3, 3, 6, 6, 4, 5, 4, 8, 6, 3, 4, 6, 4, 4, 4, 4, 4, 3, 4, 6, 3, 4, 5, 3, 4, 4, 6, 4, 4, 3, 4, 0, 3, 3, 4, 0, 3, 0, 4, 1, 3, 4, 8, 4, 4, 8, 4, 3, 8, 9, 0, 3, 4, 4, 4, 3, 6, 4, 3, 6, 3, 4, 4, 4, 4, 3, 4, 3, 4, 0, 1, 3, 3, 4, 3, 4, 3, 4, 6, 3, 4, 3, 4, 0, 5, 6, 6, 4, 4, 4, 6, 5, 6, 3, 3, 3, 5, 0, 1, 4, 3, 4, 0, 0, 4, 3, 6, 4, 8, 3, 3, 3, 3, 0, 3, 5, 3, 9, 3, 4, 8, 4, 0, 4, 3, 4, 3, 4, 5, 3, 6, 3, 5, 4, 4, 4, 4, 6, 1, 0, 3, 5, 0, 4, 3, 3, 3, 0, 3, 3, 3, 3, 4, 4, 0, 4, 4, 4, 4, 6, 4, 3, 0, 4, 4, 6, 4, 4, 4, 0, 4, 4, 5, 6, 3, 3, 3, 4, 3, 4, 8, 3, 3, 5, 3, 0, 3, 6, 8, 1, 3, 4, 4, 5, 3, 4, 5, 3, 4, 3, 6, 4, 3, 3, 3, 3, 0, 1, 0, 5, 4, 6, 4, 4, 5, 6, 6, 3, 3, 3, 5, 4, 3, 4, 3, 6, 3, 9, 6, 4, 3, 6, 3, 4, 3, 6, 3, 4, 6, 4, 4, 6, 3, 4, 3, 4, 4, 8, 4, 3, 0, 4, 0, 3, 3, 4, 3, 4, 4, 3, 1, 3, 9, 4, 0, 4, 3, 4, 4, 4, 5, 6, 3, 6, 3, 3, 5, 3, 4, 3, 9, 4, 6, 3, 4, 4, 1, 3, 3, 3, 3, 4, 4, 6, 3, 3, 1, 3, 0, 4, 0, 3, 3, 3, 0, 4, 1, 4, 4, 3, 3, 10, 4, 0, 4, 4, 3, 3, 4, 3, 4, 4, 6, 4, 0, 4, 3, 4, 3, 0, 4, 6, 0, 6, 4, 6, 0, 3, 9, 8, 4, 3, 3, 6, 0, 3, 3, 4, 3, 6, 3, 4, 4, 4, 3, 4, 3, 4, 3, 3, 6, 4, 3, 3, 3, 4, 3, 4, 6, 6, 0, 3, 3, 4, 8, 3, 3, 5, 4, 4, 4, 6, 3, 4, 4, 3, 4, 3, 4, 3, 3, 4, 5, 4, 3, 4, 4, 5, 4, 4, 4, 3, 3, 4, 6, 4, 6, 3, 6, 0, 4, 6, 4, 4, 4, 3, 4, 4, 4, 0, 1, 0, 3, 4, 6, 3, 3, 3, 0, 3, 5, 4, 4, 1, 3, 6, 4, 3, 4, 0, 5, 4, 3, 0, 4, 3, 4, 8, 4, 3, 5, 4, 3, 4, 3, 3, 0, 4, 4, 3, 8, 3, 0, 3, 6, 3, 3, 3, 4, 4, 6, 4, 4, 4, 9, 3, 3, 3, 3, 4, 4, 0, 3, 4, 4, 4, 4, 3, 4, 6, 10, 4, 6, 1, 3, 4, 3, 0, 3, 3, 3, 4, 8, 3, 3, 3, 3, 4, 3, 6, 4, 1, 3, 4, 3, 4, 4, 3, 3, 6, 3, 8, 4, 3, 4, 3, 6, 3, 4, 4, 4, 8, 3, 3, 4, 4, 4, 6, 6, 3, 3, 4, 6, 6, 6, 3, 8, 4, 3, 4, 6, 0, 1, 3, 4, 8, 3, 3, 0, 4, 3, 4, 3, 3, 4, 5, 3, 0, 4, 3, 3, 4, 3, 3, 4, 4, 10, 3, 3, 4, 3, 0, 3, 3, 4, 4, 6, 4, 3, 3, 4, 3, 3, 3, 4, 3, 1, 4, 9, 0, 8, 0, 4, 6, 3, 6, 4, 4, 0, 3, 4, 4, 8, 4, 3, 3, 3, 0, 3, 8, 3, 4, 4, 3, 4, 5, 4, 6, 3, 3, 4, 3, 6, 6, 8, 6, 8, 5, 5, 4, 4, 3, 3, 3, 4, 3, 8, 3, 0, 4, 3, 4, 4, 4, 3, 4, 3, 3, 3, 9, 4, 4, 0, 6, 4, 6, 3, 3, 4, 3, 4, 4, 3, 4, 3, 4, 4, 0, 4, 4, 4, 4, 0, 3, 3, 3, 3, 3, 6, 0, 4, 4, 3, 4, 3, 3, 3, 3, 3, 4, 3, 6, 4, 3, 3, 0, 5, 4, 4, 3, 3, 0, 5, 3, 1, 4, 5, 3, 4, 4, 6, 8, 3, 3, 5, 5, 4, 4, 3, 3, 0, 6, 4, 6, 3, 4, 3, 3, 4, 3, 3, 6, 3, 4, 3, 8, 4, 3, 3, 3, 4, 4, 4, 4, 4, 3, 5, 4, 0, 5, 6, 4, 3, 5, 8, 3, 0, 3, 0, 3, 6, 4, 3, 3, 1, 5, 4, 4, 3, 3, 3, 3, 4, 3, 4, 0, 4, 1, 3, 0, 3, 4, 0, 4, 8, 3, 4, 4, 4, 4, 3, 4, 3, 0, 5, 4, 6, 6, 3, 3, 0, 4, 1, 4, 8, 4, 4, 4, 4, 6, 6, 4, 5, 4, 3, 8, 3, 4, 6, 0, 4, 5, 4, 4, 0, 3, 3, 8, 3, 5, 4, 3, 4, 4, 4, 4, 3, 3, 4, 3, 3, 4, 8, 4, 4, 3, 3, 4, 3, 3, 4, 4, 5, 5, 3, 4, 4, 4, 6, 3, 9, 4, 4, 4, 4, 3, 6, 5, 4, 5, 3, 6, 3, 6, 3, 9, 4, 4, 3, 4, 4, 3, 3, 1, 6, 3, 8, 4, 3, 8, 4, 3, 4, 3, 0, 6, 3, 6, 4, 3, 3, 6, 3, 4, 3, 4, 4, 6, 6, 4, 8, 4, 4, 6, 3, 4, 4, 6, 4, 4, 3, 6, 6, 4, 3, 6, 3, 4, 3, 3, 4, 4, 3, 4, 8, 0, 4, 5, 4, 4, 0, 0, 3, 3, 3, 6, 9, 4, 4, 6, 4, 4, 3, 3, 6, 3, 3, 4, 5, 4, 3, 3, 6, 4, 0, 1, 3, 6, 6, 4, 3, 3, 4, 3, 4, 0, 3, 3, 3, 4, 4, 4, 4, 5, 1, 3, 4, 3, 4, 4, 0, 3, 0, 8, 5, 3, 3, 4, 3, 4, 3, 3, 6, 3, 4, 3, 5, 4, 3, 4, 4, 4, 4, 0, 4, 9, 3, 4, 4, 3, 4, 5, 3, 6, 3, 3, 3, 3, 8, 4, 3, 6, 3, 4, 4, 3, 4, 3, 5, 5, 6, 8, 4, 4, 4, 3, 3, 5, 4, 5, 3, 3, 6, 3, 8, 8, 3, 3, 8, 0, 5, 5, 0, 0, 3, 3, 4, 1, 6, 3, 4, 4, 6, 3, 3, 6, 8, 3, 6, 9, 3, 3, 3, 3, 0, 4, 6, 0, 4, 4, 6, 9, 4, 4, 0, 4, 3, 3, 4, 3, 0, 4, 3, 4, 3, 4, 3, 4, 6, 6, 0, 4, 4, 3, 6, 5, 4, 8, 4, 3, 6, 3, 5, 3, 4, 3, 4, 0, 3, 0, 3, 3, 6, 3, 3, 4, 3, 3, 3, 4, 4, 4, 3, 0, 3, 3, 6, 4, 5, 4, 6, 3, 3, 1, 5, 3, 5, 5, 4, 4, 1, 3, 3, 3, 3, 0, 4, 6, 6, 3, 3, 5, 4, 3, 4, 4, 3, 6, 4, 3, 1, 9, 0, 3, 3, 6, 4, 6, 4, 0, 3, 5, 6, 8, 4, 1, 4, 3, 3, 3, 3, 3, 3, 4, 0, 4, 3, 0, 3, 4, 4, 3, 3, 4, 3, 6, 5, 4, 3, 4, 3, 3, 0, 4, 6, 3, 6, 3, 5, 6, 3, 3, 6, 8, 5, 0, 5, 4, 4, 3, 3, 3, 0, 4, 6, 4, 3, 6, 4, 4, 6, 4, 3, 3, 4, 0, 4, 0, 4, 6, 3, 6, 4, 6, 0, 3, 3, 3, 6, 3, 9, 3, 6, 4, 0, 3, 0, 4, 3, 3, 10, 3, 4, 3, 3, 4, 6, 8, 4, 3, 6, 6, 4, 4, 3, 3, 6, 5, 4, 4, 1, 5, 4, 4, 3, 4, 4, 3, 6, 1, 6, 4, 3, 0, 8, 6, 6, 8, 3, 9, 0, 6, 6, 3, 6, 6, 5, 3, 4, 4, 3, 6, 4, 4, 4, 4, 3, 5, 3, 4, 9, 4, 3, 3, 3, 4, 4, 6, 3, 0, 3, 9, 4, 3, 3, 3, 6, 3, 0, 4, 4, 3, 4, 5, 4, 3, 3, 3, 5, 4, 3, 9, 4, 3, 3, 0, 4, 4, 4, 1, 3, 0, 4, 3, 4, 3, 4, 3, 4, 4, 4, 5, 5, 6, 9, 3, 3, 3, 3, 4, 3, 3, 3, 3, 6, 4, 3, 4, 3, 3, 3, 4, 4, 4, 3, 5, 4, 4, 3, 6, 4, 3, 4, 3, 4, 3, 0, 3, 6, 6, 4, 3, 4, 4, 3, 4, 4, 6, 4, 3, 3, 9, 6, 3, 4, 6, 1, 4, 3, 0, 3, 3, 4, 4, 5, 4, 4, 4, 3, 3, 4, 6, 3, 4, 4, 3, 3, 3, 4, 4, 6, 8, 4, 3, 4, 9, 4, 3, 3, 3, 6, 3, 3, 3, 3, 6, 5, 0, 4, 0, 4, 3, 6, 3, 4, 5, 3, 4, 1, 3, 4, 0, 1, 1, 3, 8, 3, 6, 4, 3, 6, 4, 3, 6, 3, 4, 3, 6, 8, 6, 3, 3, 3, 9, 5, 0, 3, 8, 0, 6, 6, 0, 3, 5, 4, 3, 3, 4, 3, 3, 3, 4, 6, 3, 4, 3, 3, 4, 3, 4, 4, 4, 4, 4, 8, 3, 4, 6, 6, 3, 3, 3, 3, 3, 4, 3, 4, 3, 6, 4, 4, 6, 4, 3, 1, 4, 1, 4, 4, 0, 4, 3, 0, 6, 4, 4, 4, 3, 4, 3, 4, 5, 4, 3, 4, 6, 3, 4, 4, 4, 3, 0, 3, 3, 3, 4, 4, 3, 0, 4, 4, 4, 4, 3, 4, 6, 0, 0, 3, 3, 4, 4, 4, 4, 3, 6, 9, 9, 4, 4, 3, 6, 4, 6, 3, 4, 4, 3, 1, 4, 3, 1, 4, 3, 4, 3, 6, 3, 3, 6, 3, 4, 4, 3, 4, 6, 4, 3, 5, 4, 4, 6, 6, 1, 3, 4, 3, 6, 6, 3, 3, 3, 0, 3, 3, 3, 0, 4, 0, 4, 4, 6, 4, 4, 4, 3, 0, 3, 3, 4, 3, 6, 3, 3, 4, 3, 4, 4, 3, 3, 4, 3, 0, 4, 6, 3, 3, 4, 8, 5, 3, 4, 1, 3, 8, 5, 1, 3, 3, 3, 3, 4, 4, 3, 3, 3, 5, 4, 4, 4, 3, 4, 4, 6, 4, 3, 3, 1, 6, 0, 3, 4, 6, 3, 4, 4, 1, 6, 4, 3, 1, 4, 3, 5, 3, 3, 4, 4, 3, 3, 3, 4, 9, 5, 6, 3, 1, 6]\n"
          ]
        }
      ],
      "source": [
        "scores=new_model.predict(X_test)\n",
        "#scores=model.evaluate(X_test,y_test)\n",
        "\n",
        "print('Prediction Values:', scores)\n",
        "\n",
        "#argmax() method \n",
        "y_pred_final = [np.argmax(line) for line in scores]\n",
        "\n",
        "print(y_pred_final)"
      ]
    },
    {
      "cell_type": "code",
      "execution_count": null,
      "metadata": {
        "colab": {
          "base_uri": "https://localhost:8080/"
        },
        "id": "R019NdMEYEUw",
        "outputId": "84b27f5b-d407-4355-89a7-c26ce003a8dd"
      },
      "outputs": [
        {
          "output_type": "stream",
          "name": "stdout",
          "text": [
            "430/430 [==============================] - 7s 17ms/step - loss: 2.3891 - accuracy: 0.1332\n"
          ]
        },
        {
          "output_type": "execute_result",
          "data": {
            "text/plain": [
              "[2.3890793323516846, 0.133236363530159]"
            ]
          },
          "metadata": {},
          "execution_count": 46
        }
      ],
      "source": [
        "new_model.evaluate(X_test, y_test)"
      ]
    },
    {
      "cell_type": "code",
      "execution_count": null,
      "metadata": {
        "colab": {
          "base_uri": "https://localhost:8080/"
        },
        "id": "G5JtZi_AYLF1",
        "outputId": "0c60b469-8fb5-4963-b425-95fa059b5a90"
      },
      "outputs": [
        {
          "output_type": "execute_result",
          "data": {
            "text/plain": [
              "array([ 3, 10,  9, ...,  7,  3,  3])"
            ]
          },
          "metadata": {},
          "execution_count": 47
        }
      ],
      "source": [
        "y_test"
      ]
    },
    {
      "cell_type": "code",
      "execution_count": null,
      "metadata": {
        "colab": {
          "base_uri": "https://localhost:8080/",
          "height": 451
        },
        "id": "BkVg71i5YOwe",
        "outputId": "904f22cb-0326-4e36-cb7d-d3b14e2e47a7"
      },
      "outputs": [
        {
          "output_type": "display_data",
          "data": {
            "text/plain": [
              "<Figure size 640x480 with 2 Axes>"
            ],
            "image/png": "[encoded data removed]"
          },
          "metadata": {}
        }
      ],
      "source": [
        "from sklearn.metrics import confusion_matrix, ConfusionMatrixDisplay\n",
        "import seaborn as sns\n",
        "from matplotlib import pyplot as plt\n",
        "cm = confusion_matrix(y_test, y_pred_final)\n",
        "cm_display = ConfusionMatrixDisplay(cm)\n",
        "cm_display.plot()\n",
        "plt.show()"
      ]
    },
    {
      "cell_type": "code",
      "execution_count": null,
      "metadata": {
        "id": "aZY2T6gGZAxb"
      },
      "outputs": [],
      "source": [
        "# type(y_test), len(y_test)"
      ]
    },
    {
      "cell_type": "code",
      "execution_count": null,
      "metadata": {
        "id": "t7CLL6tga3fw"
      },
      "outputs": [],
      "source": [
        "y_pred_final = np.array(y_pred_final)"
      ]
    },
    {
      "cell_type": "code",
      "execution_count": null,
      "metadata": {
        "id": "bZ4vg_snbH28"
      },
      "outputs": [],
      "source": [
        "# y_pred_final[y_pred_final==0]"
      ]
    },
    {
      "cell_type": "code",
      "execution_count": null,
      "metadata": {
        "colab": {
          "base_uri": "https://localhost:8080/"
        },
        "id": "_Bd_hk_vZq3p",
        "outputId": "67f3b1a4-8993-4816-fa76-c98709e922ad"
      },
      "outputs": [
        {
          "output_type": "stream",
          "name": "stdout",
          "text": [
            "random_accuracy =  0.4199029126213592\n",
            "AES accuracy =  0.5846518987341772\n"
          ]
        }
      ],
      "source": [
        "print(\"random_accuracy = \", 519/(519+717))\n",
        "print(\"AES accuracy = \",739/(739+525))"
      ]
    },
    {
      "cell_type": "code",
      "source": [
        "from sklearn.metrics import classification_report\n",
        "print(classification_report(y_test, y_pred_final))"
      ],
      "metadata": {
        "colab": {
          "base_uri": "https://localhost:8080/"
        },
        "id": "IovFna2BwR4h",
        "outputId": "fbf10f2b-a6b3-4981-fe1e-f9958e1b09f3"
      },
      "execution_count": null,
      "outputs": [
        {
          "output_type": "stream",
          "name": "stdout",
          "text": [
            "              precision    recall  f1-score   support\n",
            "\n",
            "           0       0.79      0.56      0.65      1268\n",
            "           1       0.07      0.02      0.03      1246\n",
            "           2       0.00      0.00      0.00      1265\n",
            "           3       0.09      0.37      0.14      1201\n",
            "           4       0.10      0.34      0.15      1237\n",
            "           5       0.08      0.05      0.06      1287\n",
            "           6       0.09      0.10      0.09      1265\n",
            "           7       0.20      0.00      0.00      1251\n",
            "           8       0.08      0.03      0.04      1227\n",
            "           9       0.06      0.01      0.01      1242\n",
            "          10       0.06      0.00      0.00      1261\n",
            "\n",
            "    accuracy                           0.13     13750\n",
            "   macro avg       0.15      0.13      0.11     13750\n",
            "weighted avg       0.15      0.13      0.11     13750\n",
            "\n"
          ]
        }
      ]
    }
  ],
  "metadata": {
    "accelerator": "GPU",
    "colab": {
      "provenance": []
    },
    "gpuClass": "standard",
    "kernelspec": {
      "display_name": "Python 3",
      "name": "python3"
    },
    "language_info": {
      "name": "python"
    }
  },
  "nbformat": 4,
  "nbformat_minor": 0
}